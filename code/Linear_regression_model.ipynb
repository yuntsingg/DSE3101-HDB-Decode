{
 "cells": [
  {
   "cell_type": "code",
   "execution_count": 1,
   "metadata": {},
   "outputs": [],
   "source": [
    "import pandas as pd # type: ignore\n",
    "import numpy as np # type: ignore\n",
    "\n",
    "from sklearn.preprocessing import PolynomialFeatures # type: ignore\n",
    "from sklearn.model_selection import train_test_split, GridSearchCV # type: ignore\n",
    "from sklearn.linear_model import LinearRegression, Lasso, Ridge # type: ignore\n",
    "from sklearn.metrics import mean_squared_error, mean_absolute_error, r2_score # type: ignore\n",
    "from sklearn.pipeline import make_pipeline # type: ignore\n",
    "from sklearn.linear_model import LassoCV, RidgeCV # type: ignore\n",
    "\n",
    "import matplotlib.pyplot as plt # type: ignore"
   ]
  },
  {
   "cell_type": "markdown",
   "metadata": {},
   "source": [
    "### Import data"
   ]
  },
  {
   "cell_type": "code",
   "execution_count": 2,
   "metadata": {},
   "outputs": [],
   "source": [
    "df_resale = pd.read_csv('../data/cleaned/standardized_encoded_delfated_resale_price.csv')\n",
    "df_resale = df_resale.dropna()"
   ]
  },
  {
   "cell_type": "code",
   "execution_count": 3,
   "metadata": {},
   "outputs": [
    {
     "name": "stdout",
     "output_type": "stream",
     "text": [
      "<class 'pandas.core.frame.DataFrame'>\n",
      "RangeIndex: 196986 entries, 0 to 196985\n",
      "Data columns (total 58 columns):\n",
      " #   Column                        Non-Null Count   Dtype  \n",
      "---  ------                        --------------   -----  \n",
      " 0   month                         196986 non-null  int64  \n",
      " 1   storey_range                  196986 non-null  float64\n",
      " 2   floor_area_sqm                196986 non-null  float64\n",
      " 3   remaining_lease               196986 non-null  float64\n",
      " 4   resale_price                  196986 non-null  float64\n",
      " 5   lat                           196986 non-null  float64\n",
      " 6   lon                           196986 non-null  float64\n",
      " 7   nearest_mrt_distance          196986 non-null  float64\n",
      " 8   nearest_bus_distance          196986 non-null  float64\n",
      " 9   education_score               196986 non-null  float64\n",
      " 10  shopping_score                196986 non-null  float64\n",
      " 11  food_score                    196986 non-null  float64\n",
      " 12  recreation_score              196986 non-null  float64\n",
      " 13  healthcare_score              196986 non-null  float64\n",
      " 14  inflation_rate (x100)         196986 non-null  float64\n",
      " 15  resident_unemployment_rate    196986 non-null  float64\n",
      " 16  interest_rate                 196986 non-null  float64\n",
      " 17  fx_rate                       196986 non-null  float64\n",
      " 18  avg_household_income          196986 non-null  float64\n",
      " 19  year                          196986 non-null  int64  \n",
      " 20  NoReligion                    196986 non-null  float64\n",
      " 21  Buddhism                      196986 non-null  float64\n",
      " 22  Taoism1                       196986 non-null  float64\n",
      " 23  Islam                         196986 non-null  float64\n",
      " 24  Hinduism                      196986 non-null  float64\n",
      " 25  Sikhism                       196986 non-null  float64\n",
      " 26  Christianity_Catholic         196986 non-null  float64\n",
      " 27  Christianity_OtherChristians  196986 non-null  float64\n",
      " 28  OtherReligions                196986 non-null  float64\n",
      " 29  Chinese                       196986 non-null  float64\n",
      " 30  Malays                        196986 non-null  float64\n",
      " 31  Indians                       196986 non-null  float64\n",
      " 32  Others                        196986 non-null  float64\n",
      " 33  town_BEDOK                    196986 non-null  int64  \n",
      " 34  town_BISHAN                   196986 non-null  int64  \n",
      " 35  town_BUKIT BATOK              196986 non-null  int64  \n",
      " 36  town_BUKIT MERAH              196986 non-null  int64  \n",
      " 37  town_BUKIT PANJANG            196986 non-null  int64  \n",
      " 38  town_BUKIT TIMAH              196986 non-null  int64  \n",
      " 39  town_CENTRAL AREA             196986 non-null  int64  \n",
      " 40  town_CHOA CHU KANG            196986 non-null  int64  \n",
      " 41  town_CLEMENTI                 196986 non-null  int64  \n",
      " 42  town_GEYLANG                  196986 non-null  int64  \n",
      " 43  town_HOUGANG                  196986 non-null  int64  \n",
      " 44  town_JURONG EAST              196986 non-null  int64  \n",
      " 45  town_JURONG WEST              196986 non-null  int64  \n",
      " 46  town_KALLANG/WHAMPOA          196986 non-null  int64  \n",
      " 47  town_MARINE PARADE            196986 non-null  int64  \n",
      " 48  town_PASIR RIS                196986 non-null  int64  \n",
      " 49  town_PUNGGOL                  196986 non-null  int64  \n",
      " 50  town_QUEENSTOWN               196986 non-null  int64  \n",
      " 51  town_SEMBAWANG                196986 non-null  int64  \n",
      " 52  town_SENGKANG                 196986 non-null  int64  \n",
      " 53  town_SERANGOON                196986 non-null  int64  \n",
      " 54  town_TAMPINES                 196986 non-null  int64  \n",
      " 55  town_TOA PAYOH                196986 non-null  int64  \n",
      " 56  town_WOODLANDS                196986 non-null  int64  \n",
      " 57  town_YISHUN                   196986 non-null  int64  \n",
      "dtypes: float64(31), int64(27)\n",
      "memory usage: 87.2 MB\n"
     ]
    }
   ],
   "source": [
    "df_resale.info()"
   ]
  },
  {
   "cell_type": "markdown",
   "metadata": {},
   "source": [
    "Select features"
   ]
  },
  {
   "cell_type": "code",
   "execution_count": 4,
   "metadata": {},
   "outputs": [],
   "source": [
    "feature_names = df_resale.columns.tolist()\n",
    "exclude_cols = ['resale_price']  # Replace with actual column names\n",
    "features_selected = [col for col in df_resale.columns if col not in exclude_cols]\n",
    "X = df_resale[features_selected]\n",
    "y = df_resale['resale_price']"
   ]
  },
  {
   "cell_type": "markdown",
   "metadata": {},
   "source": [
    "Split data into training and test sets"
   ]
  },
  {
   "cell_type": "code",
   "execution_count": 6,
   "metadata": {},
   "outputs": [],
   "source": [
    "X_train, X_test, y_train, y_test = train_test_split(X, y, test_size=0.2, random_state=42)"
   ]
  },
  {
   "cell_type": "code",
   "execution_count": 7,
   "metadata": {},
   "outputs": [
    {
     "name": "stdout",
     "output_type": "stream",
     "text": [
      "<class 'pandas.core.frame.DataFrame'>\n",
      "Int64Index: 39398 entries, 64633 to 15286\n",
      "Data columns (total 57 columns):\n",
      " #   Column                        Non-Null Count  Dtype  \n",
      "---  ------                        --------------  -----  \n",
      " 0   month                         39398 non-null  int64  \n",
      " 1   storey_range                  39398 non-null  float64\n",
      " 2   floor_area_sqm                39398 non-null  float64\n",
      " 3   remaining_lease               39398 non-null  float64\n",
      " 4   lat                           39398 non-null  float64\n",
      " 5   lon                           39398 non-null  float64\n",
      " 6   nearest_mrt_distance          39398 non-null  float64\n",
      " 7   nearest_bus_distance          39398 non-null  float64\n",
      " 8   education_score               39398 non-null  float64\n",
      " 9   shopping_score                39398 non-null  float64\n",
      " 10  food_score                    39398 non-null  float64\n",
      " 11  recreation_score              39398 non-null  float64\n",
      " 12  healthcare_score              39398 non-null  float64\n",
      " 13  inflation_rate (x100)         39398 non-null  float64\n",
      " 14  resident_unemployment_rate    39398 non-null  float64\n",
      " 15  interest_rate                 39398 non-null  float64\n",
      " 16  fx_rate                       39398 non-null  float64\n",
      " 17  avg_household_income          39398 non-null  float64\n",
      " 18  year                          39398 non-null  int64  \n",
      " 19  NoReligion                    39398 non-null  float64\n",
      " 20  Buddhism                      39398 non-null  float64\n",
      " 21  Taoism1                       39398 non-null  float64\n",
      " 22  Islam                         39398 non-null  float64\n",
      " 23  Hinduism                      39398 non-null  float64\n",
      " 24  Sikhism                       39398 non-null  float64\n",
      " 25  Christianity_Catholic         39398 non-null  float64\n",
      " 26  Christianity_OtherChristians  39398 non-null  float64\n",
      " 27  OtherReligions                39398 non-null  float64\n",
      " 28  Chinese                       39398 non-null  float64\n",
      " 29  Malays                        39398 non-null  float64\n",
      " 30  Indians                       39398 non-null  float64\n",
      " 31  Others                        39398 non-null  float64\n",
      " 32  town_BEDOK                    39398 non-null  int64  \n",
      " 33  town_BISHAN                   39398 non-null  int64  \n",
      " 34  town_BUKIT BATOK              39398 non-null  int64  \n",
      " 35  town_BUKIT MERAH              39398 non-null  int64  \n",
      " 36  town_BUKIT PANJANG            39398 non-null  int64  \n",
      " 37  town_BUKIT TIMAH              39398 non-null  int64  \n",
      " 38  town_CENTRAL AREA             39398 non-null  int64  \n",
      " 39  town_CHOA CHU KANG            39398 non-null  int64  \n",
      " 40  town_CLEMENTI                 39398 non-null  int64  \n",
      " 41  town_GEYLANG                  39398 non-null  int64  \n",
      " 42  town_HOUGANG                  39398 non-null  int64  \n",
      " 43  town_JURONG EAST              39398 non-null  int64  \n",
      " 44  town_JURONG WEST              39398 non-null  int64  \n",
      " 45  town_KALLANG/WHAMPOA          39398 non-null  int64  \n",
      " 46  town_MARINE PARADE            39398 non-null  int64  \n",
      " 47  town_PASIR RIS                39398 non-null  int64  \n",
      " 48  town_PUNGGOL                  39398 non-null  int64  \n",
      " 49  town_QUEENSTOWN               39398 non-null  int64  \n",
      " 50  town_SEMBAWANG                39398 non-null  int64  \n",
      " 51  town_SENGKANG                 39398 non-null  int64  \n",
      " 52  town_SERANGOON                39398 non-null  int64  \n",
      " 53  town_TAMPINES                 39398 non-null  int64  \n",
      " 54  town_TOA PAYOH                39398 non-null  int64  \n",
      " 55  town_WOODLANDS                39398 non-null  int64  \n",
      " 56  town_YISHUN                   39398 non-null  int64  \n",
      "dtypes: float64(30), int64(27)\n",
      "memory usage: 17.4 MB\n"
     ]
    }
   ],
   "source": [
    "X_test.info()"
   ]
  },
  {
   "cell_type": "markdown",
   "metadata": {},
   "source": [
    "## Test Variable Significance"
   ]
  },
  {
   "cell_type": "code",
   "execution_count": null,
   "metadata": {},
   "outputs": [
    {
     "name": "stdout",
     "output_type": "stream",
     "text": [
      "                            OLS Regression Results                            \n",
      "==============================================================================\n",
      "Dep. Variable:           resale_price   R-squared:                       0.875\n",
      "Model:                            OLS   Adj. R-squared:                  0.875\n",
      "Method:                 Least Squares   F-statistic:                 2.417e+04\n",
      "Date:                Thu, 03 Apr 2025   Prob (F-statistic):               0.00\n",
      "Time:                        15:01:48   Log-Likelihood:                -74764.\n",
      "No. Observations:              196986   AIC:                         1.496e+05\n",
      "Df Residuals:                  196928   BIC:                         1.502e+05\n",
      "Df Model:                          57                                         \n",
      "Covariance Type:            nonrobust                                         \n",
      "================================================================================================\n",
      "                                   coef    std err          t      P>|t|      [0.025      0.975]\n",
      "------------------------------------------------------------------------------------------------\n",
      "const                         -175.6196     10.361    -16.949      0.000    -195.928    -155.312\n",
      "month                            0.0117      0.000     48.135      0.000       0.011       0.012\n",
      "storey_range                     0.1714      0.001    192.938      0.000       0.170       0.173\n",
      "floor_area_sqm                   0.7200      0.001    830.209      0.000       0.718       0.722\n",
      "remaining_lease                  0.4658      0.001    437.500      0.000       0.464       0.468\n",
      "lat                             -6.5233      0.131    -49.860      0.000      -6.780      -6.267\n",
      "lon                             -0.1816      0.098     -1.859      0.063      -0.373       0.010\n",
      "nearest_mrt_distance            -0.1333      0.001   -120.237      0.000      -0.136      -0.131\n",
      "nearest_bus_distance             0.0004      0.001      0.517      0.605      -0.001       0.002\n",
      "education_score                 -0.0206      0.001    -16.171      0.000      -0.023      -0.018\n",
      "shopping_score                   0.0196      0.001     13.903      0.000       0.017       0.022\n",
      "food_score                       0.0506      0.002     26.159      0.000       0.047       0.054\n",
      "recreation_score                 0.0581      0.002     33.664      0.000       0.055       0.062\n",
      "healthcare_score                 0.1203      0.002     59.505      0.000       0.116       0.124\n",
      "inflation_rate (x100)           -0.0078      0.001     -9.254      0.000      -0.010      -0.006\n",
      "resident_unemployment_rate      -0.1022      0.001    -74.281      0.000      -0.105      -0.100\n",
      "interest_rate                   -0.0604      0.002    -38.316      0.000      -0.064      -0.057\n",
      "fx_rate                         -0.0014      0.001     -1.602      0.109      -0.003       0.000\n",
      "avg_household_income            -0.0461      0.002    -23.471      0.000      -0.050      -0.042\n",
      "year                             0.1009      0.001    106.546      0.000       0.099       0.103\n",
      "NoReligion                       0.5129      0.117      4.385      0.000       0.284       0.742\n",
      "Buddhism                         0.6621      0.136      4.883      0.000       0.396       0.928\n",
      "Taoism1                          0.3246      0.070      4.663      0.000       0.188       0.461\n",
      "Islam                            1.4408      0.293      4.909      0.000       0.866       2.016\n",
      "Hinduism                         0.2020      0.051      3.988      0.000       0.103       0.301\n",
      "Sikhism                          0.0408      0.006      6.439      0.000       0.028       0.053\n",
      "Christianity_Catholic            0.4054      0.089      4.563      0.000       0.231       0.580\n",
      "Christianity_OtherChristians     0.6798      0.149      4.573      0.000       0.388       0.971\n",
      "OtherReligions                   0.0226      0.004      5.070      0.000       0.014       0.031\n",
      "Chinese                         -0.3505      1.394     -0.251      0.801      -3.083       2.382\n",
      "Malays                          -0.3046      1.242     -0.245      0.806      -2.739       2.130\n",
      "Indians                         -0.0596      0.267     -0.223      0.824      -0.583       0.464\n",
      "Others                          -0.0406      0.152     -0.267      0.790      -0.339       0.258\n",
      "town_BEDOK                      -0.4060      0.021    -19.398      0.000      -0.447      -0.365\n",
      "town_BISHAN                      0.7079      0.033     21.336      0.000       0.643       0.773\n",
      "town_BUKIT BATOK                -0.5129      0.025    -20.851      0.000      -0.561      -0.465\n",
      "town_BUKIT MERAH                -0.2270      0.020    -11.563      0.000      -0.265      -0.189\n",
      "town_BUKIT PANJANG              -0.8000      0.021    -37.335      0.000      -0.842      -0.758\n",
      "town_BUKIT TIMAH                 1.3858      0.074     18.819      0.000       1.241       1.530\n",
      "town_CENTRAL AREA               -0.3253      0.023    -14.452      0.000      -0.369      -0.281\n",
      "town_CHOA CHU KANG              -0.8746      0.029    -30.028      0.000      -0.932      -0.818\n",
      "town_CLEMENTI                   -0.0079      0.021     -0.367      0.713      -0.050       0.034\n",
      "town_GEYLANG                    -0.4554      0.022    -20.512      0.000      -0.499      -0.412\n",
      "town_HOUGANG                    -0.5173      0.011    -45.185      0.000      -0.540      -0.495\n",
      "town_JURONG EAST                -0.5270      0.033    -16.060      0.000      -0.591      -0.463\n",
      "town_JURONG WEST                -1.1277      0.039    -28.806      0.000      -1.204      -1.051\n",
      "town_KALLANG/WHAMPOA            -0.3558      0.019    -18.623      0.000      -0.393      -0.318\n",
      "town_MARINE PARADE               1.1103      0.044     25.288      0.000       1.024       1.196\n",
      "town_PASIR RIS                  -0.4354      0.030    -14.620      0.000      -0.494      -0.377\n",
      "town_PUNGGOL                    -0.7163      0.018    -39.911      0.000      -0.752      -0.681\n",
      "town_QUEENSTOWN                  0.2797      0.026     10.909      0.000       0.229       0.330\n",
      "town_SEMBAWANG                  -0.5064      0.026    -19.369      0.000      -0.558      -0.455\n",
      "town_SENGKANG                   -1.0480      0.017    -61.095      0.000      -1.082      -1.014\n",
      "town_SERANGOON                   0.2814      0.028     10.191      0.000       0.227       0.335\n",
      "town_TAMPINES                   -0.4324      0.033    -13.142      0.000      -0.497      -0.368\n",
      "town_TOA PAYOH                   0.0781      0.015      5.306      0.000       0.049       0.107\n",
      "town_WOODLANDS                  -0.6092      0.042    -14.337      0.000      -0.692      -0.526\n",
      "town_YISHUN                     -0.1461      0.030     -4.796      0.000      -0.206      -0.086\n",
      "==============================================================================\n",
      "Omnibus:                    29883.026   Durbin-Watson:                   0.880\n",
      "Prob(Omnibus):                  0.000   Jarque-Bera (JB):            83513.789\n",
      "Skew:                           0.823   Prob(JB):                         0.00\n",
      "Kurtosis:                       5.732   Cond. No.                     2.63e+07\n",
      "==============================================================================\n",
      "\n",
      "Notes:\n",
      "[1] Standard Errors assume that the covariance matrix of the errors is correctly specified.\n",
      "[2] The condition number is large, 2.63e+07. This might indicate that there are\n",
      "strong multicollinearity or other numerical problems.\n"
     ]
    }
   ],
   "source": [
    "import statsmodels.api as sm\n",
    "\n",
    "X_sm = sm.add_constant(X)  # manually add intercept\n",
    "model_sm = sm.OLS(y, X_sm).fit()\n",
    "print(model_sm.summary())"
   ]
  },
  {
   "cell_type": "markdown",
   "metadata": {},
   "source": [
    "# MLR"
   ]
  },
  {
   "cell_type": "code",
   "execution_count": 31,
   "metadata": {},
   "outputs": [],
   "source": [
    "# initialize and fit model\n",
    "\n",
    "model = LinearRegression()\n",
    "model.fit(X_train, y_train)\n",
    "\n",
    "y_pred = model.predict(X_test)\n",
    "\n",
    "# evaluation\n",
    "r2 = r2_score(y_test, y_pred)\n",
    "mse = mean_squared_error(y_test, y_pred)\n",
    "mae = mean_absolute_error(y_test, y_pred)"
   ]
  },
  {
   "cell_type": "code",
   "execution_count": null,
   "metadata": {},
   "outputs": [
    {
     "name": "stdout",
     "output_type": "stream",
     "text": [
      "Model Coefficients: [ 1.16596772e-02  1.70342935e-01  7.20685596e-01  4.67390551e-01\n",
      " -6.45663151e+00 -1.42767564e-01 -1.33725822e-01  6.31466040e-04\n",
      " -2.02302930e-02  1.78038843e-02  5.06194854e-02  5.93971016e-02\n",
      "  1.21066624e-01 -8.27250037e-03 -1.00941436e-01 -5.92722059e-02\n",
      " -1.33900508e-03 -4.55984405e-02  1.01287847e-01  5.25472547e-01\n",
      "  6.72452373e-01  3.31858492e-01  1.46359622e+00  2.06220017e-01\n",
      "  4.21703669e-02  4.08765741e-01  6.92628078e-01  2.07218183e-02\n",
      " -2.15482739e-01 -1.84544143e-01 -3.42715875e-02 -2.44985961e-02\n",
      " -3.95797836e-01  7.11998290e-01 -5.02307337e-01 -2.17679414e-01\n",
      " -7.95751179e-01  1.38953810e+00 -3.12853776e-01 -8.66569527e-01\n",
      "  9.05597155e-03 -4.55510119e-01 -5.11702227e-01 -5.18877908e-01\n",
      " -1.11904643e+00 -3.42566956e-01  1.13459988e+00 -4.27516484e-01\n",
      " -7.13999109e-01  2.88603417e-01 -5.04958757e-01 -1.04810700e+00\n",
      "  2.87590195e-01 -4.24042469e-01  8.99076786e-02 -5.97819018e-01\n",
      " -1.42959719e-01]\n",
      "Intercept: -180.63420747358478\n",
      "R-squared Score: 0.8743349394773806\n",
      "Mean Squared Error: 0.1251134439544029\n",
      "Mean Absolute Error: 0.2678552585899168\n"
     ]
    },
    {
     "data": {
      "text/plain": [
       "'Intercept: 0.29854266905633947\\nMean Squared Error: 0.134170112966285\\nR-squared Score: 0.8664435828963502\\n\\nR-squared Score: 0.820683629869053\\nMean Squared Error: 0.18179093755150225\\nMean Absolute Error: 0.32170451015806445\\n'"
      ]
     },
     "execution_count": 32,
     "metadata": {},
     "output_type": "execute_result"
    }
   ],
   "source": [
    "print(\"Model Coefficients:\", model.coef_)\n",
    "print(\"Intercept:\", model.intercept_)\n",
    "\n",
    "print(\"R-squared Score:\", r2)\n",
    "print(\"Mean Squared Error:\", mse)\n",
    "print(\"Mean Absolute Error:\", mae)\n",
    "\n",
    "\"\"\"Intercept: 0.29854266905633947\n",
    "Mean Squared Error: 0.134170112966285\n",
    "R-squared Score: 0.8664435828963502\n",
    "\n",
    "R-squared Score: 0.820683629869053\n",
    "Mean Squared Error: 0.18179093755150225\n",
    "Mean Absolute Error: 0.32170451015806445\n",
    "\n",
    "R-squared Score: 0.8743349394773806\n",
    "Mean Squared Error: 0.1251134439544029\n",
    "Mean Absolute Error: 0.2678552585899168\n",
    "\"\"\""
   ]
  },
  {
   "cell_type": "markdown",
   "metadata": {},
   "source": [
    "# Lasso"
   ]
  },
  {
   "cell_type": "code",
   "execution_count": 8,
   "metadata": {},
   "outputs": [],
   "source": [
    "param_grid = {'alpha': np.logspace(-3, 1, 50)}"
   ]
  },
  {
   "cell_type": "code",
   "execution_count": 9,
   "metadata": {},
   "outputs": [],
   "source": [
    "lasso = Lasso()\n",
    "lasso_cv = GridSearchCV(lasso, param_grid, cv=5, scoring='r2')\n",
    "lasso_cv.fit(X_train, y_train)\n",
    "\n",
    "best_lasso = lasso_cv.best_estimator_\n",
    "\n",
    "y_pred = best_lasso.predict(X_test)\n",
    "\n",
    "mse_l = mean_squared_error(y_test, y_pred)\n",
    "r2_l = r2_score(y_test, y_pred)\n",
    "mae_l = mean_absolute_error(y_test, y_pred)"
   ]
  },
  {
   "cell_type": "code",
   "execution_count": 10,
   "metadata": {},
   "outputs": [
    {
     "name": "stdout",
     "output_type": "stream",
     "text": [
      "                        Variable  Coefficient\n",
      "0                          month     0.011219\n",
      "1                   storey_range     0.177244\n",
      "2                 floor_area_sqm     0.719895\n",
      "3                remaining_lease     0.454567\n",
      "4                            lat    -0.000000\n",
      "5                            lon     0.000000\n",
      "6           nearest_mrt_distance    -0.127188\n",
      "7           nearest_bus_distance     0.002363\n",
      "8                education_score    -0.053099\n",
      "9                 shopping_score     0.029087\n",
      "10                    food_score     0.125257\n",
      "11              recreation_score     0.086317\n",
      "12              healthcare_score     0.120994\n",
      "13         inflation_rate (x100)    -0.005082\n",
      "14    resident_unemployment_rate    -0.093861\n",
      "15                 interest_rate    -0.054815\n",
      "16                       fx_rate    -0.000245\n",
      "17          avg_household_income    -0.037628\n",
      "18                          year     0.102623\n",
      "19                    NoReligion     0.026525\n",
      "20                      Buddhism     0.000000\n",
      "21                       Taoism1    -0.014203\n",
      "22                         Islam    -0.066987\n",
      "23                      Hinduism    -0.005720\n",
      "24                       Sikhism     0.002742\n",
      "25         Christianity_Catholic     0.010984\n",
      "26  Christianity_OtherChristians     0.187128\n",
      "27                OtherReligions     0.015766\n",
      "28                       Chinese     0.000000\n",
      "29                        Malays    -0.017396\n",
      "30                       Indians     0.011956\n",
      "31                        Others    -0.003465\n",
      "32                    town_BEDOK    -0.000000\n",
      "33                   town_BISHAN     0.000000\n",
      "34              town_BUKIT BATOK    -0.141673\n",
      "35              town_BUKIT MERAH     0.066018\n",
      "36            town_BUKIT PANJANG    -0.341174\n",
      "37              town_BUKIT TIMAH    -0.000000\n",
      "38             town_CENTRAL AREA     0.036783\n",
      "39            town_CHOA CHU KANG    -0.240006\n",
      "40                 town_CLEMENTI     0.034811\n",
      "41                  town_GEYLANG     0.000000\n",
      "42                  town_HOUGANG    -0.300273\n",
      "43              town_JURONG EAST     0.194380\n",
      "44              town_JURONG WEST    -0.042786\n",
      "45          town_KALLANG/WHAMPOA     0.086371\n",
      "46            town_MARINE PARADE     0.409088\n",
      "47                town_PASIR RIS    -0.116632\n",
      "48                  town_PUNGGOL    -0.513346\n",
      "49               town_QUEENSTOWN     0.095745\n",
      "50                town_SEMBAWANG    -0.468723\n",
      "51                 town_SENGKANG    -0.764626\n",
      "52                town_SERANGOON    -0.136732\n",
      "53                 town_TAMPINES     0.369877\n",
      "54                town_TOA PAYOH     0.046742\n",
      "55                town_WOODLANDS    -0.000000\n",
      "56                   town_YISHUN     0.244094\n"
     ]
    }
   ],
   "source": [
    "coef_df = pd.DataFrame({\n",
    "    'Variable': X.columns,\n",
    "    'Coefficient': best_lasso.coef_\n",
    "})\n",
    "print(coef_df)"
   ]
  },
  {
   "cell_type": "code",
   "execution_count": null,
   "metadata": {},
   "outputs": [
    {
     "name": "stdout",
     "output_type": "stream",
     "text": [
      "Best Lasso Alpha:  0.001\n",
      "Model Coefficients: [ 1.12191233e-02  1.77244369e-01  7.19895256e-01  4.54567486e-01\n",
      " -0.00000000e+00  0.00000000e+00 -1.27187889e-01  2.36262825e-03\n",
      " -5.30993030e-02  2.90868176e-02  1.25257153e-01  8.63166223e-02\n",
      "  1.20994147e-01 -5.08196914e-03 -9.38611324e-02 -5.48154967e-02\n",
      " -2.44824589e-04 -3.76280285e-02  1.02622613e-01  2.65254679e-02\n",
      "  0.00000000e+00 -1.42033619e-02 -6.69870715e-02 -5.72019753e-03\n",
      "  2.74181637e-03  1.09840344e-02  1.87127717e-01  1.57656260e-02\n",
      "  0.00000000e+00 -1.73959688e-02  1.19560509e-02 -3.46547083e-03\n",
      " -0.00000000e+00  0.00000000e+00 -1.41673141e-01  6.60176577e-02\n",
      " -3.41174426e-01 -0.00000000e+00  3.67830803e-02 -2.40005528e-01\n",
      "  3.48105627e-02  0.00000000e+00 -3.00272553e-01  1.94380338e-01\n",
      " -4.27860279e-02  8.63706565e-02  4.09088085e-01 -1.16632063e-01\n",
      " -5.13346224e-01  9.57448647e-02 -4.68723377e-01 -7.64626325e-01\n",
      " -1.36731865e-01  3.69877458e-01  4.67422222e-02 -0.00000000e+00\n",
      "  2.44093759e-01]\n",
      "Intercept: -207.33825763865946\n",
      "R-squared Score: 0.8692630825073766\n",
      "Mean Squared Error: 0.13016303761331124\n",
      "Mean Absolute Error: 0.2711787729697815\n"
     ]
    },
    {
     "data": {
      "text/plain": [
       "'\\nMean Squared Error: 0.11497220634118055\\nR-squared Score: 0.8855536780438713 \\n\\n- Remove correlated variables\\nMean Squared Error: 0.13730048632566919\\nR-squared Score: 0.8633275279059133\\n\\n- Add ethnicity and religion\\nR-squared Score: 0.8138255990869248\\nMean Squared Error: 0.18874360921627956\\nMean Absolute Error: 0.3273777320063639\\n'"
      ]
     },
     "execution_count": 35,
     "metadata": {},
     "output_type": "execute_result"
    }
   ],
   "source": [
    "print(\"Best Lasso Alpha: \", lasso_cv.best_params_['alpha'])\n",
    "print(\"Intercept:\", best_lasso.intercept_)\n",
    "\n",
    "print(\"R-squared Score:\", r2_l)\n",
    "print(\"Mean Squared Error:\", mse_l)\n",
    "print(\"Mean Absolute Error:\", mae_l)\n",
    "\n",
    "\n",
    "\"\"\"\n",
    "Mean Squared Error: 0.11497220634118055\n",
    "R-squared Score: 0.8855536780438713 \n",
    "\n",
    "- Remove correlated variables\n",
    "Mean Squared Error: 0.13730048632566919\n",
    "R-squared Score: 0.8633275279059133\n",
    "\n",
    "- Add ethnicity and religion\n",
    "R-squared Score: 0.8138255990869248\n",
    "Mean Squared Error: 0.18874360921627956\n",
    "Mean Absolute Error: 0.3273777320063639\n",
    "\n",
    "R-squared Score: 0.8692630825073766\n",
    "Mean Squared Error: 0.13016303761331124\n",
    "Mean Absolute Error: 0.2711787729697815\n",
    "\n",
    "\"\"\""
   ]
  },
  {
   "cell_type": "markdown",
   "metadata": {},
   "source": [
    "Test for Interaction Effect - make no sense for location-related variables"
   ]
  },
  {
   "cell_type": "code",
   "execution_count": null,
   "metadata": {},
   "outputs": [
    {
     "name": "stdout",
     "output_type": "stream",
     "text": [
      "                                              Feature  Coefficient\n",
      "0                                        storey_range     0.149198\n",
      "1                                      floor_area_sqm     0.697456\n",
      "2                                     remaining_lease     0.373798\n",
      "3                                nearest_mrt_distance    -0.060381\n",
      "4                                nearest_bus_distance     0.002442\n",
      "..                                                ...          ...\n",
      "605  inflation_rate (x100) resident_unemployment_rate     0.003342\n",
      "606               inflation_rate (x100) interest_rate    -0.004584\n",
      "655                resident_unemployment_rate fx_rate    -0.015289\n",
      "656   resident_unemployment_rate avg_household_income     0.020327\n",
      "749                      fx_rate avg_household_income     0.002210\n",
      "\n",
      "[99 rows x 2 columns]\n"
     ]
    }
   ],
   "source": [
    "# Create all pairwise interaction terms (without squared terms)\n",
    "poly = PolynomialFeatures(degree=2, interaction_only=True, include_bias=False)\n",
    "\n",
    "# Use LassoCV for automatic feature selection with regularization\n",
    "model = make_pipeline(poly, LassoCV(cv=5)).fit(X, y)\n",
    "\n",
    "# Get coefficients\n",
    "lasso = model.named_steps['lassocv']\n",
    "feature_names = model.named_steps['polynomialfeatures'].get_feature_names_out(X.columns)\n",
    "\n",
    "\n",
    "coef_df = pd.DataFrame({'Feature': feature_names, 'Coefficient': lasso.coef_})\n",
    "selected_features = coef_df[coef_df['Coefficient'] != 0]\n",
    "\n",
    "print(selected_features)"
   ]
  },
  {
   "cell_type": "markdown",
   "metadata": {},
   "source": [
    "# Ridge"
   ]
  },
  {
   "cell_type": "code",
   "execution_count": 36,
   "metadata": {},
   "outputs": [],
   "source": [
    "ridge = Ridge()\n",
    "ridge_cv = GridSearchCV(ridge, param_grid, cv=5, scoring='r2')\n",
    "ridge_cv.fit(X_train, y_train)\n",
    "best_ridge = ridge_cv.best_estimator_\n",
    "\n",
    "y_pred = best_ridge.predict(X_test)\n",
    "\n",
    "mse_r = mean_squared_error(y_test, y_pred)\n",
    "r2_r = r2_score(y_test, y_pred)\n",
    "mae_r = mean_absolute_error(y_test, y_pred)"
   ]
  },
  {
   "cell_type": "code",
   "execution_count": null,
   "metadata": {},
   "outputs": [
    {
     "name": "stdout",
     "output_type": "stream",
     "text": [
      "Best Ridge Alpha:  0.0625055192527397\n",
      "Model Coefficients: [ 1.16599177e-02  1.70352412e-01  7.20694547e-01  4.67393007e-01\n",
      " -6.39314301e+00 -1.32737702e-01 -1.33770426e-01  6.20710964e-04\n",
      " -2.03488583e-02  1.77754895e-02  5.07254178e-02  5.95458837e-02\n",
      "  1.20990245e-01 -8.26901433e-03 -1.00941493e-01 -5.92835977e-02\n",
      " -1.33496468e-03 -4.55763237e-02  1.01296954e-01  4.71037671e-01\n",
      "  6.09255157e-01  2.99444041e-01  1.32638930e+00  1.82681684e-01\n",
      "  3.91805359e-02  3.68550448e-01  6.24342614e-01  1.89113470e-02\n",
      " -7.17437080e-02 -5.63820909e-02 -6.84442313e-03 -8.75769746e-03\n",
      " -3.92900413e-01  7.05950112e-01 -4.97117974e-01 -2.10509734e-01\n",
      " -7.92016310e-01  1.37560521e+00 -3.04945790e-01 -8.60579894e-01\n",
      "  1.24114865e-02 -4.49653094e-01 -5.10863975e-01 -5.08765692e-01\n",
      " -1.10707726e+00 -3.36244497e-01  1.13055178e+00 -4.27306457e-01\n",
      " -7.13466566e-01  2.90232497e-01 -5.04120513e-01 -1.04561725e+00\n",
      "  2.83633808e-01 -4.18728298e-01  9.01682782e-02 -5.92165990e-01\n",
      " -1.39131244e-01]\n",
      "Intercept: -181.78465590182878\n",
      "R-squared Score: 0.8743329781471458\n",
      "Mean Squared Error: 0.1251153966752259\n",
      "Mean Absolute Error: 0.2678416516290374\n"
     ]
    },
    {
     "data": {
      "text/plain": [
       "'Amenities_data_cleaning.ipynbIntercept: 0.15030498871214715\\nMean Squared Error: 0.10682822058977902\\nR-squared Score: 0.893660413097256\\n\\nMean Squared Error: 0.1341701364928894\\nR-squared Score: 0.8664435594773567\\n\\nR-squared Score: 0.8206842557831927\\nMean Squared Error: 0.1817903029997421\\nMean Absolute Error: 0.3217016858124708\\n'"
      ]
     },
     "execution_count": 37,
     "metadata": {},
     "output_type": "execute_result"
    }
   ],
   "source": [
    "print(\"Best Ridge Alpha: \", ridge_cv.best_params_['alpha'])\n",
    "print(\"Model Coefficients:\", best_ridge.coef_)\n",
    "print(\"Intercept:\", best_ridge.intercept_)\n",
    "\n",
    "\n",
    "print(\"R-squared Score:\", r2_r)\n",
    "print(\"Mean Squared Error:\", mse_r)\n",
    "print(\"Mean Absolute Error:\", mae_r)\n",
    "\n",
    "\"\"\"Amenities_data_cleaning.ipynbIntercept: 0.15030498871214715\n",
    "Mean Squared Error: 0.10682822058977902\n",
    "R-squared Score: 0.893660413097256\n",
    "\n",
    "Mean Squared Error: 0.1341701364928894\n",
    "R-squared Score: 0.8664435594773567\n",
    "\n",
    "R-squared Score: 0.8206842557831927\n",
    "Mean Squared Error: 0.1817903029997421\n",
    "Mean Absolute Error: 0.3217016858124708\n",
    "\n",
    "R-squared Score: 0.8743329781471458\n",
    "Mean Squared Error: 0.1251153966752259\n",
    "Mean Absolute Error: 0.2678416516290374\n",
    "\"\"\""
   ]
  },
  {
   "cell_type": "markdown",
   "metadata": {},
   "source": [
    "Check for Multicollinearity"
   ]
  },
  {
   "cell_type": "code",
   "execution_count": 31,
   "metadata": {},
   "outputs": [
    {
     "data": {
      "application/vnd.microsoft.datawrangler.viewer.v0+json": {
       "columns": [
        {
         "name": "index",
         "rawType": "int64",
         "type": "integer"
        },
        {
         "name": "Feature",
         "rawType": "object",
         "type": "string"
        },
        {
         "name": "VIF",
         "rawType": "float64",
         "type": "float"
        }
       ],
       "conversionMethod": "pd.DataFrame",
       "ref": "08fe871b-1639-47a5-be6e-2cec55da5849",
       "rows": [
        [
         "0",
         "storey_range",
         "1.2407897551909366"
        ],
        [
         "1",
         "floor_area_sqm",
         "1.1810569217363691"
        ],
        [
         "2",
         "remaining_lease",
         "1.7797053875078015"
        ],
        [
         "3",
         "nearest_mrt_distance",
         "1.890703934209689"
        ],
        [
         "4",
         "nearest_bus_distance",
         "1.0539479107784566"
        ],
        [
         "5",
         "education_score",
         "2.3891218946316526"
        ],
        [
         "6",
         "shopping_score",
         "2.5347723572563217"
        ],
        [
         "7",
         "food_score",
         "5.119842529298272"
        ],
        [
         "8",
         "recreation_score",
         "3.062364101423318"
        ],
        [
         "9",
         "healthcare_score",
         "6.323753592153895"
        ],
        [
         "10",
         "inflation_rate (x100)",
         "1.1055663260916795"
        ],
        [
         "11",
         "resident_unemployment_rate",
         "2.8092941045136035"
        ],
        [
         "12",
         "interest_rate",
         "2.791840709335865"
        ],
        [
         "13",
         "fx_rate",
         "1.0789039660328423"
        ],
        [
         "14",
         "avg_household_income",
         "1.877232670145386"
        ],
        [
         "15",
         "town_BEDOK",
         "1.189670493233273"
        ],
        [
         "16",
         "town_BISHAN",
         "1.1544611693283444"
        ],
        [
         "17",
         "town_BUKIT BATOK",
         "1.20776877021108"
        ],
        [
         "18",
         "town_BUKIT MERAH",
         "2.341657230552003"
        ],
        [
         "19",
         "town_BUKIT PANJANG",
         "1.3409686530641023"
        ],
        [
         "20",
         "town_BUKIT TIMAH",
         "1.0278470834782354"
        ],
        [
         "21",
         "town_CENTRAL AREA",
         "1.7945201990325244"
        ],
        [
         "22",
         "town_CHOA CHU KANG",
         "1.4864440307800657"
        ],
        [
         "23",
         "town_CLEMENTI",
         "1.0686516099748467"
        ],
        [
         "24",
         "town_GEYLANG",
         "1.4974666539926225"
        ],
        [
         "25",
         "town_HOUGANG",
         "1.651340707706899"
        ],
        [
         "26",
         "town_JURONG EAST",
         "1.089984597271491"
        ],
        [
         "27",
         "town_JURONG WEST",
         "1.3819516112462478"
        ],
        [
         "28",
         "town_KALLANG/WHAMPOA",
         "1.8073838981012493"
        ],
        [
         "29",
         "town_MARINE PARADE",
         "1.1837987109969328"
        ],
        [
         "30",
         "town_PASIR RIS",
         "1.1825423229083798"
        ],
        [
         "31",
         "town_PUNGGOL",
         "1.7310229334843419"
        ],
        [
         "32",
         "town_QUEENSTOWN",
         "1.4511418657457995"
        ],
        [
         "33",
         "town_SEMBAWANG",
         "1.2490404575273006"
        ],
        [
         "34",
         "town_SENGKANG",
         "2.209304668912994"
        ],
        [
         "35",
         "town_SERANGOON",
         "1.3221678705194895"
        ],
        [
         "36",
         "town_TAMPINES",
         "1.4260347519009322"
        ],
        [
         "37",
         "town_TOA PAYOH",
         "1.2831720076127022"
        ],
        [
         "38",
         "town_WOODLANDS",
         "1.9184818734928824"
        ],
        [
         "39",
         "town_YISHUN",
         "1.5897559967439463"
        ]
       ],
       "shape": {
        "columns": 2,
        "rows": 40
       }
      },
      "text/html": [
       "<div>\n",
       "<style scoped>\n",
       "    .dataframe tbody tr th:only-of-type {\n",
       "        vertical-align: middle;\n",
       "    }\n",
       "\n",
       "    .dataframe tbody tr th {\n",
       "        vertical-align: top;\n",
       "    }\n",
       "\n",
       "    .dataframe thead th {\n",
       "        text-align: right;\n",
       "    }\n",
       "</style>\n",
       "<table border=\"1\" class=\"dataframe\">\n",
       "  <thead>\n",
       "    <tr style=\"text-align: right;\">\n",
       "      <th></th>\n",
       "      <th>Feature</th>\n",
       "      <th>VIF</th>\n",
       "    </tr>\n",
       "  </thead>\n",
       "  <tbody>\n",
       "    <tr>\n",
       "      <th>0</th>\n",
       "      <td>storey_range</td>\n",
       "      <td>1.240790</td>\n",
       "    </tr>\n",
       "    <tr>\n",
       "      <th>1</th>\n",
       "      <td>floor_area_sqm</td>\n",
       "      <td>1.181057</td>\n",
       "    </tr>\n",
       "    <tr>\n",
       "      <th>2</th>\n",
       "      <td>remaining_lease</td>\n",
       "      <td>1.779705</td>\n",
       "    </tr>\n",
       "    <tr>\n",
       "      <th>3</th>\n",
       "      <td>nearest_mrt_distance</td>\n",
       "      <td>1.890704</td>\n",
       "    </tr>\n",
       "    <tr>\n",
       "      <th>4</th>\n",
       "      <td>nearest_bus_distance</td>\n",
       "      <td>1.053948</td>\n",
       "    </tr>\n",
       "    <tr>\n",
       "      <th>5</th>\n",
       "      <td>education_score</td>\n",
       "      <td>2.389122</td>\n",
       "    </tr>\n",
       "    <tr>\n",
       "      <th>6</th>\n",
       "      <td>shopping_score</td>\n",
       "      <td>2.534772</td>\n",
       "    </tr>\n",
       "    <tr>\n",
       "      <th>7</th>\n",
       "      <td>food_score</td>\n",
       "      <td>5.119843</td>\n",
       "    </tr>\n",
       "    <tr>\n",
       "      <th>8</th>\n",
       "      <td>recreation_score</td>\n",
       "      <td>3.062364</td>\n",
       "    </tr>\n",
       "    <tr>\n",
       "      <th>9</th>\n",
       "      <td>healthcare_score</td>\n",
       "      <td>6.323754</td>\n",
       "    </tr>\n",
       "    <tr>\n",
       "      <th>10</th>\n",
       "      <td>inflation_rate (x100)</td>\n",
       "      <td>1.105566</td>\n",
       "    </tr>\n",
       "    <tr>\n",
       "      <th>11</th>\n",
       "      <td>resident_unemployment_rate</td>\n",
       "      <td>2.809294</td>\n",
       "    </tr>\n",
       "    <tr>\n",
       "      <th>12</th>\n",
       "      <td>interest_rate</td>\n",
       "      <td>2.791841</td>\n",
       "    </tr>\n",
       "    <tr>\n",
       "      <th>13</th>\n",
       "      <td>fx_rate</td>\n",
       "      <td>1.078904</td>\n",
       "    </tr>\n",
       "    <tr>\n",
       "      <th>14</th>\n",
       "      <td>avg_household_income</td>\n",
       "      <td>1.877233</td>\n",
       "    </tr>\n",
       "    <tr>\n",
       "      <th>15</th>\n",
       "      <td>town_BEDOK</td>\n",
       "      <td>1.189670</td>\n",
       "    </tr>\n",
       "    <tr>\n",
       "      <th>16</th>\n",
       "      <td>town_BISHAN</td>\n",
       "      <td>1.154461</td>\n",
       "    </tr>\n",
       "    <tr>\n",
       "      <th>17</th>\n",
       "      <td>town_BUKIT BATOK</td>\n",
       "      <td>1.207769</td>\n",
       "    </tr>\n",
       "    <tr>\n",
       "      <th>18</th>\n",
       "      <td>town_BUKIT MERAH</td>\n",
       "      <td>2.341657</td>\n",
       "    </tr>\n",
       "    <tr>\n",
       "      <th>19</th>\n",
       "      <td>town_BUKIT PANJANG</td>\n",
       "      <td>1.340969</td>\n",
       "    </tr>\n",
       "    <tr>\n",
       "      <th>20</th>\n",
       "      <td>town_BUKIT TIMAH</td>\n",
       "      <td>1.027847</td>\n",
       "    </tr>\n",
       "    <tr>\n",
       "      <th>21</th>\n",
       "      <td>town_CENTRAL AREA</td>\n",
       "      <td>1.794520</td>\n",
       "    </tr>\n",
       "    <tr>\n",
       "      <th>22</th>\n",
       "      <td>town_CHOA CHU KANG</td>\n",
       "      <td>1.486444</td>\n",
       "    </tr>\n",
       "    <tr>\n",
       "      <th>23</th>\n",
       "      <td>town_CLEMENTI</td>\n",
       "      <td>1.068652</td>\n",
       "    </tr>\n",
       "    <tr>\n",
       "      <th>24</th>\n",
       "      <td>town_GEYLANG</td>\n",
       "      <td>1.497467</td>\n",
       "    </tr>\n",
       "    <tr>\n",
       "      <th>25</th>\n",
       "      <td>town_HOUGANG</td>\n",
       "      <td>1.651341</td>\n",
       "    </tr>\n",
       "    <tr>\n",
       "      <th>26</th>\n",
       "      <td>town_JURONG EAST</td>\n",
       "      <td>1.089985</td>\n",
       "    </tr>\n",
       "    <tr>\n",
       "      <th>27</th>\n",
       "      <td>town_JURONG WEST</td>\n",
       "      <td>1.381952</td>\n",
       "    </tr>\n",
       "    <tr>\n",
       "      <th>28</th>\n",
       "      <td>town_KALLANG/WHAMPOA</td>\n",
       "      <td>1.807384</td>\n",
       "    </tr>\n",
       "    <tr>\n",
       "      <th>29</th>\n",
       "      <td>town_MARINE PARADE</td>\n",
       "      <td>1.183799</td>\n",
       "    </tr>\n",
       "    <tr>\n",
       "      <th>30</th>\n",
       "      <td>town_PASIR RIS</td>\n",
       "      <td>1.182542</td>\n",
       "    </tr>\n",
       "    <tr>\n",
       "      <th>31</th>\n",
       "      <td>town_PUNGGOL</td>\n",
       "      <td>1.731023</td>\n",
       "    </tr>\n",
       "    <tr>\n",
       "      <th>32</th>\n",
       "      <td>town_QUEENSTOWN</td>\n",
       "      <td>1.451142</td>\n",
       "    </tr>\n",
       "    <tr>\n",
       "      <th>33</th>\n",
       "      <td>town_SEMBAWANG</td>\n",
       "      <td>1.249040</td>\n",
       "    </tr>\n",
       "    <tr>\n",
       "      <th>34</th>\n",
       "      <td>town_SENGKANG</td>\n",
       "      <td>2.209305</td>\n",
       "    </tr>\n",
       "    <tr>\n",
       "      <th>35</th>\n",
       "      <td>town_SERANGOON</td>\n",
       "      <td>1.322168</td>\n",
       "    </tr>\n",
       "    <tr>\n",
       "      <th>36</th>\n",
       "      <td>town_TAMPINES</td>\n",
       "      <td>1.426035</td>\n",
       "    </tr>\n",
       "    <tr>\n",
       "      <th>37</th>\n",
       "      <td>town_TOA PAYOH</td>\n",
       "      <td>1.283172</td>\n",
       "    </tr>\n",
       "    <tr>\n",
       "      <th>38</th>\n",
       "      <td>town_WOODLANDS</td>\n",
       "      <td>1.918482</td>\n",
       "    </tr>\n",
       "    <tr>\n",
       "      <th>39</th>\n",
       "      <td>town_YISHUN</td>\n",
       "      <td>1.589756</td>\n",
       "    </tr>\n",
       "  </tbody>\n",
       "</table>\n",
       "</div>"
      ],
      "text/plain": [
       "                       Feature       VIF\n",
       "0                 storey_range  1.240790\n",
       "1               floor_area_sqm  1.181057\n",
       "2              remaining_lease  1.779705\n",
       "3         nearest_mrt_distance  1.890704\n",
       "4         nearest_bus_distance  1.053948\n",
       "5              education_score  2.389122\n",
       "6               shopping_score  2.534772\n",
       "7                   food_score  5.119843\n",
       "8             recreation_score  3.062364\n",
       "9             healthcare_score  6.323754\n",
       "10       inflation_rate (x100)  1.105566\n",
       "11  resident_unemployment_rate  2.809294\n",
       "12               interest_rate  2.791841\n",
       "13                     fx_rate  1.078904\n",
       "14        avg_household_income  1.877233\n",
       "15                  town_BEDOK  1.189670\n",
       "16                 town_BISHAN  1.154461\n",
       "17            town_BUKIT BATOK  1.207769\n",
       "18            town_BUKIT MERAH  2.341657\n",
       "19          town_BUKIT PANJANG  1.340969\n",
       "20            town_BUKIT TIMAH  1.027847\n",
       "21           town_CENTRAL AREA  1.794520\n",
       "22          town_CHOA CHU KANG  1.486444\n",
       "23               town_CLEMENTI  1.068652\n",
       "24                town_GEYLANG  1.497467\n",
       "25                town_HOUGANG  1.651341\n",
       "26            town_JURONG EAST  1.089985\n",
       "27            town_JURONG WEST  1.381952\n",
       "28        town_KALLANG/WHAMPOA  1.807384\n",
       "29          town_MARINE PARADE  1.183799\n",
       "30              town_PASIR RIS  1.182542\n",
       "31                town_PUNGGOL  1.731023\n",
       "32             town_QUEENSTOWN  1.451142\n",
       "33              town_SEMBAWANG  1.249040\n",
       "34               town_SENGKANG  2.209305\n",
       "35              town_SERANGOON  1.322168\n",
       "36               town_TAMPINES  1.426035\n",
       "37              town_TOA PAYOH  1.283172\n",
       "38              town_WOODLANDS  1.918482\n",
       "39                 town_YISHUN  1.589756"
      ]
     },
     "execution_count": 31,
     "metadata": {},
     "output_type": "execute_result"
    }
   ],
   "source": [
    "from statsmodels.stats.outliers_influence import variance_inflation_factor # type: ignore\n",
    "\n",
    "# Compute VIF for each feature\n",
    "X_train_vif = X_train.copy()  # Ensure we work with a copy\n",
    "vif_data = pd.DataFrame()\n",
    "vif_data[\"Feature\"] = X_train_vif.columns\n",
    "vif_data[\"VIF\"] = [variance_inflation_factor(X_train_vif.values, i) for i in range(X_train_vif.shape[1])]\n",
    "\n",
    "vif_data"
   ]
  },
  {
   "cell_type": "code",
   "execution_count": 58,
   "metadata": {},
   "outputs": [
    {
     "data": {
      "application/vnd.microsoft.datawrangler.viewer.v0+json": {
       "columns": [
        {
         "name": "index",
         "rawType": "int64",
         "type": "integer"
        },
        {
         "name": "Feature",
         "rawType": "object",
         "type": "string"
        },
        {
         "name": "VIF",
         "rawType": "float64",
         "type": "float"
        }
       ],
       "conversionMethod": "pd.DataFrame",
       "ref": "613d683b-115d-43c6-9332-0b5331281700",
       "rows": [
        [
         "0",
         "flat_type",
         "21.41063985177059"
        ],
        [
         "1",
         "storey_range",
         "1.268476364725561"
        ],
        [
         "2",
         "floor_area_sqm",
         "15.247786200235003"
        ],
        [
         "3",
         "remaining_lease",
         "316.7826513352161"
        ],
        [
         "4",
         "nearest_mrt_distance",
         "1.9333012619173495"
        ],
        [
         "5",
         "nearest_bus_distance",
         "1.061542258773557"
        ],
        [
         "6",
         "education_score",
         "2.4639033303606372"
        ],
        [
         "7",
         "shopping_score",
         "3.0505774259266123"
        ],
        [
         "8",
         "food_score",
         "6.021984897232537"
        ],
        [
         "9",
         "recreation_score",
         "4.539261334583796"
        ],
        [
         "10",
         "healthcare_score",
         "6.429676767878974"
        ],
        [
         "11",
         "inflation_rate (x100)",
         "1.122256024192911"
        ],
        [
         "12",
         "building_age_2025",
         "320.88757091317393"
        ],
        [
         "13",
         "total_unemployment_rate",
         "101.64720982236909"
        ],
        [
         "14",
         "resident_unemployment_rate",
         "112.34711832707656"
        ],
        [
         "15",
         "interest_rate",
         "5.222617742433408"
        ],
        [
         "16",
         "fx_rate",
         "1.1791654583756477"
        ],
        [
         "17",
         "avg_household_income",
         "5.283695512572347"
        ],
        [
         "18",
         "town_BEDOK",
         "2.970518282342157"
        ],
        [
         "19",
         "town_BISHAN",
         "1.6075671680371697"
        ],
        [
         "20",
         "town_BUKIT BATOK",
         "3.462125403670897"
        ],
        [
         "21",
         "town_BUKIT MERAH",
         "3.534209872037688"
        ],
        [
         "22",
         "town_BUKIT PANJANG",
         "3.9302406672049166"
        ],
        [
         "23",
         "town_BUKIT TIMAH",
         "1.1294905861928726"
        ],
        [
         "24",
         "town_CENTRAL AREA",
         "2.607763850136028"
        ],
        [
         "25",
         "town_CHOA CHU KANG",
         "5.236177536328889"
        ],
        [
         "26",
         "town_CLEMENTI",
         "1.9192089332661124"
        ],
        [
         "27",
         "town_GEYLANG",
         "2.35258339804489"
        ],
        [
         "28",
         "town_HOUGANG",
         "4.1136676544273145"
        ],
        [
         "29",
         "town_JURONG EAST",
         "2.3845868255337264"
        ],
        [
         "30",
         "town_JURONG WEST",
         "4.578182018043802"
        ],
        [
         "31",
         "town_KALLANG/WHAMPOA",
         "2.8991475328101353"
        ],
        [
         "32",
         "town_MARINE PARADE",
         "1.4743234193458354"
        ],
        [
         "33",
         "town_PASIR RIS",
         "3.2473592608247315"
        ],
        [
         "34",
         "town_PUNGGOL",
         "8.21007779779638"
        ],
        [
         "35",
         "town_QUEENSTOWN",
         "2.7266580724887604"
        ],
        [
         "36",
         "town_SEMBAWANG",
         "3.233381205661009"
        ],
        [
         "37",
         "town_SENGKANG",
         "7.168204103820332"
        ],
        [
         "38",
         "town_SERANGOON",
         "1.7696741192868484"
        ],
        [
         "39",
         "town_TAMPINES",
         "6.221795044749779"
        ],
        [
         "40",
         "town_TOA PAYOH",
         "2.299771925503304"
        ],
        [
         "41",
         "town_WOODLANDS",
         "8.003046712490727"
        ],
        [
         "42",
         "town_YISHUN",
         "6.230374304779737"
        ],
        [
         "43",
         "flat_model_3Gen",
         "1.0157533554308267"
        ],
        [
         "44",
         "flat_model_Adjoined flat",
         "1.1055873469695279"
        ],
        [
         "45",
         "flat_model_Apartment",
         "4.191043841835679"
        ],
        [
         "46",
         "flat_model_DBSS",
         "1.9310707635495266"
        ],
        [
         "47",
         "flat_model_Improved",
         "14.265824203275542"
        ],
        [
         "48",
         "flat_model_Improved-Maisonette",
         "1.0140064474656254"
        ],
        [
         "49",
         "flat_model_Maisonette",
         "3.4362008203242227"
        ]
       ],
       "shape": {
        "columns": 2,
        "rows": 63
       }
      },
      "text/html": [
       "<div>\n",
       "<style scoped>\n",
       "    .dataframe tbody tr th:only-of-type {\n",
       "        vertical-align: middle;\n",
       "    }\n",
       "\n",
       "    .dataframe tbody tr th {\n",
       "        vertical-align: top;\n",
       "    }\n",
       "\n",
       "    .dataframe thead th {\n",
       "        text-align: right;\n",
       "    }\n",
       "</style>\n",
       "<table border=\"1\" class=\"dataframe\">\n",
       "  <thead>\n",
       "    <tr style=\"text-align: right;\">\n",
       "      <th></th>\n",
       "      <th>Feature</th>\n",
       "      <th>VIF</th>\n",
       "    </tr>\n",
       "  </thead>\n",
       "  <tbody>\n",
       "    <tr>\n",
       "      <th>0</th>\n",
       "      <td>flat_type</td>\n",
       "      <td>21.410640</td>\n",
       "    </tr>\n",
       "    <tr>\n",
       "      <th>1</th>\n",
       "      <td>storey_range</td>\n",
       "      <td>1.268476</td>\n",
       "    </tr>\n",
       "    <tr>\n",
       "      <th>2</th>\n",
       "      <td>floor_area_sqm</td>\n",
       "      <td>15.247786</td>\n",
       "    </tr>\n",
       "    <tr>\n",
       "      <th>3</th>\n",
       "      <td>remaining_lease</td>\n",
       "      <td>316.782651</td>\n",
       "    </tr>\n",
       "    <tr>\n",
       "      <th>4</th>\n",
       "      <td>nearest_mrt_distance</td>\n",
       "      <td>1.933301</td>\n",
       "    </tr>\n",
       "    <tr>\n",
       "      <th>...</th>\n",
       "      <td>...</td>\n",
       "      <td>...</td>\n",
       "    </tr>\n",
       "    <tr>\n",
       "      <th>58</th>\n",
       "      <td>flat_model_Simplified</td>\n",
       "      <td>3.268270</td>\n",
       "    </tr>\n",
       "    <tr>\n",
       "      <th>59</th>\n",
       "      <td>flat_model_Standard</td>\n",
       "      <td>2.836043</td>\n",
       "    </tr>\n",
       "    <tr>\n",
       "      <th>60</th>\n",
       "      <td>flat_model_Terrace</td>\n",
       "      <td>1.082173</td>\n",
       "    </tr>\n",
       "    <tr>\n",
       "      <th>61</th>\n",
       "      <td>flat_model_Type S1</td>\n",
       "      <td>1.445011</td>\n",
       "    </tr>\n",
       "    <tr>\n",
       "      <th>62</th>\n",
       "      <td>flat_model_Type S2</td>\n",
       "      <td>1.233031</td>\n",
       "    </tr>\n",
       "  </tbody>\n",
       "</table>\n",
       "<p>63 rows × 2 columns</p>\n",
       "</div>"
      ],
      "text/plain": [
       "                  Feature         VIF\n",
       "0               flat_type   21.410640\n",
       "1            storey_range    1.268476\n",
       "2          floor_area_sqm   15.247786\n",
       "3         remaining_lease  316.782651\n",
       "4    nearest_mrt_distance    1.933301\n",
       "..                    ...         ...\n",
       "58  flat_model_Simplified    3.268270\n",
       "59    flat_model_Standard    2.836043\n",
       "60     flat_model_Terrace    1.082173\n",
       "61     flat_model_Type S1    1.445011\n",
       "62     flat_model_Type S2    1.233031\n",
       "\n",
       "[63 rows x 2 columns]"
      ]
     },
     "execution_count": 58,
     "metadata": {},
     "output_type": "execute_result"
    }
   ],
   "source": [
    "vif_data"
   ]
  },
  {
   "cell_type": "markdown",
   "metadata": {},
   "source": [
    "Check for Interactive Effect"
   ]
  },
  {
   "cell_type": "code",
   "execution_count": 55,
   "metadata": {},
   "outputs": [
    {
     "name": "stdout",
     "output_type": "stream",
     "text": [
      "floor_area_sqm          0.646445\n",
      "flat_type               0.640392\n",
      "storey_range            0.372191\n",
      "building_age_2025       0.350866\n",
      "remaining_lease         0.350195\n",
      "                          ...   \n",
      "town_GEYLANG            0.015010\n",
      "flat_model_3Gen         0.010742\n",
      "town_HOUGANG            0.008931\n",
      "town_SENGKANG           0.005379\n",
      "avg_household_income    0.003691\n",
      "Length: 63, dtype: float64\n"
     ]
    }
   ],
   "source": [
    "correlations = X_train.corrwith(y_train)\n",
    "print(correlations.abs().sort_values(ascending=False))"
   ]
  },
  {
   "cell_type": "code",
   "execution_count": 56,
   "metadata": {},
   "outputs": [],
   "source": [
    "from sklearn.preprocessing import PolynomialFeatures\n",
    "import pandas as pd\n",
    "\n",
    "# Create polynomial feature transformer (degree=2 for interaction terms)\n",
    "poly = PolynomialFeatures(degree=2, interaction_only=True, include_bias=False)\n",
    "\n",
    "# Transform the dataset\n",
    "X_train_interactions = poly.fit_transform(X_train)\n",
    "\n",
    "# Create feature names\n",
    "feature_names = poly.get_feature_names_out(X_train.columns)\n",
    "\n",
    "# Convert back to DataFrame\n",
    "X_train_interactions = pd.DataFrame(X_train_interactions, columns=feature_names)\n"
   ]
  },
  {
   "cell_type": "code",
   "execution_count": 54,
   "metadata": {},
   "outputs": [
    {
     "name": "stdout",
     "output_type": "stream",
     "text": [
      "Top 10 Strongest Interaction Terms:\n",
      "storey_range town_CHOA CHU KANG              0.011254\n",
      "town_BISHAN flat_model_Adjoined flat         0.009512\n",
      "remaining_lease nearest_bus_distance         0.008969\n",
      "nearest_bus_distance building_age_2025       0.008896\n",
      "education_score healthcare_score             0.008872\n",
      "total_unemployment_rate town_TAMPINES        0.008850\n",
      "resident_unemployment_rate town_TAMPINES     0.008792\n",
      "nearest_bus_distance town_PASIR RIS          0.008695\n",
      "floor_area_sqm fx_rate                       0.008174\n",
      "town_QUEENSTOWN flat_model_New Generation    0.007437\n",
      "dtype: float64\n"
     ]
    }
   ],
   "source": [
    "# Compute correlation of interaction terms with target\n",
    "interaction_correlations = X_train_interactions.corrwith(y_train)\n",
    "\n",
    "# Sort by absolute correlation value\n",
    "strong_interactions = interaction_correlations.abs().sort_values(ascending=False)\n",
    "\n",
    "# Display top 10 most relevant interaction terms\n",
    "print(\"Top 10 Strongest Interaction Terms:\")\n",
    "print(strong_interactions.head(10))\n"
   ]
  }
 ],
 "metadata": {
  "kernelspec": {
   "display_name": "Python 3",
   "language": "python",
   "name": "python3"
  },
  "language_info": {
   "codemirror_mode": {
    "name": "ipython",
    "version": 3
   },
   "file_extension": ".py",
   "mimetype": "text/x-python",
   "name": "python",
   "nbconvert_exporter": "python",
   "pygments_lexer": "ipython3",
   "version": "3.10.6"
  }
 },
 "nbformat": 4,
 "nbformat_minor": 2
}
