{
 "cells": [
  {
   "cell_type": "code",
   "execution_count": 6,
   "metadata": {},
   "outputs": [],
   "source": [
    "import pandas as pd # type: ignore\n",
    "import numpy as np # type: ignore\n",
    "\n",
    "from sklearn.preprocessing import PolynomialFeatures # type: ignore\n",
    "from sklearn.model_selection import train_test_split, GridSearchCV # type: ignore\n",
    "from sklearn.linear_model import LinearRegression, Lasso, Ridge # type: ignore\n",
    "from sklearn.metrics import mean_squared_error, mean_absolute_error, r2_score # type: ignore\n",
    "from sklearn.pipeline import make_pipeline # type: ignore\n",
    "from sklearn.linear_model import LassoCV, RidgeCV # type: ignore\n",
    "\n",
    "import matplotlib.pyplot as plt # type: ignore"
   ]
  },
  {
   "cell_type": "markdown",
   "metadata": {},
   "source": [
    "### Import data"
   ]
  },
  {
   "cell_type": "code",
   "execution_count": 2,
   "metadata": {},
   "outputs": [],
   "source": [
    "df_resale = pd.read_csv('../data/cleaned/standardized_encoded_delfated_resale_price.csv')\n",
    "df_resale = df_resale.dropna()"
   ]
  },
  {
   "cell_type": "code",
   "execution_count": 13,
   "metadata": {},
   "outputs": [
    {
     "name": "stdout",
     "output_type": "stream",
     "text": [
      "<class 'pandas.core.frame.DataFrame'>\n",
      "Int64Index: 196986 entries, 0 to 201058\n",
      "Data columns (total 44 columns):\n",
      " #   Column                      Non-Null Count   Dtype  \n",
      "---  ------                      --------------   -----  \n",
      " 0   month                       196986 non-null  object \n",
      " 1   storey_range                196986 non-null  float64\n",
      " 2   floor_area_sqm              196986 non-null  float64\n",
      " 3   remaining_lease             196986 non-null  float64\n",
      " 4   lat                         196986 non-null  float64\n",
      " 5   lon                         196986 non-null  float64\n",
      " 6   nearest_mrt_distance        196986 non-null  float64\n",
      " 7   nearest_bus_distance        196986 non-null  float64\n",
      " 8   education_score             196986 non-null  float64\n",
      " 9   shopping_score              196986 non-null  float64\n",
      " 10  food_score                  196986 non-null  float64\n",
      " 11  recreation_score            196986 non-null  float64\n",
      " 12  healthcare_score            196986 non-null  float64\n",
      " 13  inflation_rate (x100)       196986 non-null  float64\n",
      " 14  resident_unemployment_rate  196986 non-null  float64\n",
      " 15  interest_rate               196986 non-null  float64\n",
      " 16  fx_rate                     196986 non-null  float64\n",
      " 17  avg_household_income        196986 non-null  float64\n",
      " 18  deflated_resale_price       196986 non-null  float64\n",
      " 19  town_BEDOK                  196986 non-null  int64  \n",
      " 20  town_BISHAN                 196986 non-null  int64  \n",
      " 21  town_BUKIT BATOK            196986 non-null  int64  \n",
      " 22  town_BUKIT MERAH            196986 non-null  int64  \n",
      " 23  town_BUKIT PANJANG          196986 non-null  int64  \n",
      " 24  town_BUKIT TIMAH            196986 non-null  int64  \n",
      " 25  town_CENTRAL AREA           196986 non-null  int64  \n",
      " 26  town_CHOA CHU KANG          196986 non-null  int64  \n",
      " 27  town_CLEMENTI               196986 non-null  int64  \n",
      " 28  town_GEYLANG                196986 non-null  int64  \n",
      " 29  town_HOUGANG                196986 non-null  int64  \n",
      " 30  town_JURONG EAST            196986 non-null  int64  \n",
      " 31  town_JURONG WEST            196986 non-null  int64  \n",
      " 32  town_KALLANG/WHAMPOA        196986 non-null  int64  \n",
      " 33  town_MARINE PARADE          196986 non-null  int64  \n",
      " 34  town_PASIR RIS              196986 non-null  int64  \n",
      " 35  town_PUNGGOL                196986 non-null  int64  \n",
      " 36  town_QUEENSTOWN             196986 non-null  int64  \n",
      " 37  town_SEMBAWANG              196986 non-null  int64  \n",
      " 38  town_SENGKANG               196986 non-null  int64  \n",
      " 39  town_SERANGOON              196986 non-null  int64  \n",
      " 40  town_TAMPINES               196986 non-null  int64  \n",
      " 41  town_TOA PAYOH              196986 non-null  int64  \n",
      " 42  town_WOODLANDS              196986 non-null  int64  \n",
      " 43  town_YISHUN                 196986 non-null  int64  \n",
      "dtypes: float64(18), int64(25), object(1)\n",
      "memory usage: 67.6+ MB\n"
     ]
    }
   ],
   "source": [
    "df_resale.info()"
   ]
  },
  {
   "cell_type": "markdown",
   "metadata": {},
   "source": [
    "Select features"
   ]
  },
  {
   "cell_type": "code",
   "execution_count": 3,
   "metadata": {},
   "outputs": [],
   "source": [
    "feature_names = df_resale.columns.tolist()\n",
    "exclude_cols = ['month', 'lat', 'lon','deflated_resale_price']  # Replace with actual column names\n",
    "features_selected = [col for col in df_resale.columns if col not in exclude_cols]\n",
    "X = df_resale[features_selected]\n",
    "y = df_resale['deflated_resale_price']"
   ]
  },
  {
   "cell_type": "markdown",
   "metadata": {},
   "source": [
    "Split data into training and test sets"
   ]
  },
  {
   "cell_type": "code",
   "execution_count": 4,
   "metadata": {},
   "outputs": [],
   "source": [
    "X_train, X_test, y_train, y_test = train_test_split(X, y, test_size=0.2, random_state=42)"
   ]
  },
  {
   "cell_type": "markdown",
   "metadata": {},
   "source": [
    "# MLE"
   ]
  },
  {
   "cell_type": "code",
   "execution_count": 8,
   "metadata": {},
   "outputs": [],
   "source": [
    "# initialize and fit model\n",
    "\n",
    "model = LinearRegression()\n",
    "model.fit(X_train, y_train)\n",
    "\n",
    "y_pred = model.predict(X_test)\n",
    "\n",
    "# evaluation\n",
    "r2 = r2_score(y_test, y_pred)\n",
    "mse = mean_squared_error(y_test, y_pred)\n",
    "mae = mean_absolute_error(y_test, y_pred)"
   ]
  },
  {
   "cell_type": "code",
   "execution_count": null,
   "metadata": {},
   "outputs": [
    {
     "name": "stdout",
     "output_type": "stream",
     "text": [
      "Model Coefficients: [ 1.88212170e-01  7.36915322e-01  4.37369518e-01 -9.23705179e-02\n",
      "  8.27566387e-03  1.99567842e-02  7.20264049e-03  1.41679500e-01\n",
      "  1.50529403e-01  3.00876776e-02  8.75853039e-03 -1.98565769e-02\n",
      " -2.66511578e-02 -2.41345107e-02 -6.23612046e-02 -3.43224617e+00\n",
      " -2.35822669e+00 -3.68098236e+00 -4.20612963e+00 -1.06708105e+01\n",
      " -5.94212820e+00 -5.23893356e-01 -8.97651616e+00  3.29833179e+00\n",
      "  2.20424144e+00  5.81738455e+00  3.10529283e-01 -3.66668496e-01\n",
      " -2.16743116e-01 -5.25999246e-01 -4.22499178e-01 -7.92436186e-01\n",
      " -3.85420067e-01 -3.13692243e-01 -9.24045584e-01 -7.41808573e-01\n",
      " -4.29064664e-01 -4.38639747e-01 -2.42330995e-01 -5.42107580e-01\n",
      " -8.81892219e-01 -4.75720436e-01 -6.91884747e-01 -1.09511876e+00\n",
      " -8.73753796e-01 -1.19617507e+00 -1.35895699e+00 -7.72152630e-01\n",
      " -7.14371372e-01 -4.11068608e-01 -7.52962293e-01]\n",
      "Intercept: -0.07444549865436037\n",
      "R-squared Score: 0.820683629869053\n",
      "Mean Squared Error: 0.18179093755150225\n",
      "Mean Absolute Error: 0.32170451015806445\n"
     ]
    },
    {
     "data": {
      "text/plain": [
       "'Intercept: 0.29854266905633947\\nMean Squared Error: 0.134170112966285\\nR-squared Score: 0.8664435828963502\\n\\nMean Absolute Error:\\nMean Squared Error: 0.18179093755150225\\nR-squared Score: 0.820683629869053\\n'"
      ]
     },
     "execution_count": 9,
     "metadata": {},
     "output_type": "execute_result"
    }
   ],
   "source": [
    "print(\"Model Coefficients:\", model.coef_)\n",
    "print(\"Intercept:\", model.intercept_)\n",
    "\n",
    "print(\"R-squared Score:\", r2)\n",
    "print(\"Mean Squared Error:\", mse)\n",
    "print(\"Mean Absolute Error:\", mae)\n",
    "\n",
    "\"\"\"Intercept: 0.29854266905633947\n",
    "Mean Squared Error: 0.134170112966285\n",
    "R-squared Score: 0.8664435828963502\n",
    "\n",
    "R-squared Score: 0.820683629869053\n",
    "Mean Squared Error: 0.18179093755150225\n",
    "Mean Absolute Error: 0.32170451015806445\n",
    "\"\"\""
   ]
  },
  {
   "cell_type": "markdown",
   "metadata": {},
   "source": [
    "# Lasso"
   ]
  },
  {
   "cell_type": "code",
   "execution_count": 10,
   "metadata": {},
   "outputs": [],
   "source": [
    "param_grid = {'alpha': np.logspace(-3, 1, 50)}\n",
    "\n",
    "lasso = Lasso()\n",
    "lasso_cv = GridSearchCV(lasso, param_grid, cv=5, scoring='r2')\n",
    "lasso_cv.fit(X_train, y_train)\n",
    "\n",
    "best_lasso = lasso_cv.best_estimator_\n",
    "\n",
    "y_pred = best_lasso.predict(X_test)\n",
    "\n",
    "mse_l = mean_squared_error(y_test, y_pred)\n",
    "r2_l = r2_score(y_test, y_pred)\n",
    "mae_l = mean_absolute_error(y_test, y_pred)"
   ]
  },
  {
   "cell_type": "code",
   "execution_count": null,
   "metadata": {},
   "outputs": [
    {
     "name": "stdout",
     "output_type": "stream",
     "text": [
      "Best Lasso Alpha:  0.001\n",
      "Model Coefficients: [ 0.19727525  0.73962783  0.42736761 -0.08120503  0.00828636 -0.01898399\n",
      "  0.03329117  0.22309096  0.13290406  0.03324895  0.00887151 -0.01549724\n",
      " -0.02314507 -0.02322047 -0.05769485  0.          0.         -0.\n",
      " -0.         -0.          0.         -0.         -0.          0.\n",
      " -0.          0.          0.5017501   0.16707672  0.09120191 -0.00306541\n",
      " -0.02511385  0.         -0.          0.         -0.16555428 -0.10346898\n",
      "  0.02189891  0.          0.11522923 -0.04797274 -0.07575438 -0.02130215\n",
      " -0.16665414 -0.30781545 -0.35606383 -0.66161145 -0.62545877 -0.39373447\n",
      " -0.07315511 -0.19510635 -0.42347356]\n",
      "Intercept: 0.14565977976953431\n",
      "R-squared Score: 0.8138255990869248\n",
      "Mean Squared Error: 0.18874360921627956\n",
      "Mean Absolute Error: 0.3273777320063639\n"
     ]
    },
    {
     "data": {
      "text/plain": [
       "'\\nMean Squared Error: 0.11497220634118055\\nR-squared Score: 0.8855536780438713 \\n\\n- Remove correlated variables\\nMean Squared Error: 0.13730048632566919\\nR-squared Score: 0.8633275279059133\\n\\n- Add ethnicity and religion\\nMean Squared Error: 0.18874360921627956\\nR-squared Score: 0.8138255990869248\\n'"
      ]
     },
     "execution_count": 11,
     "metadata": {},
     "output_type": "execute_result"
    }
   ],
   "source": [
    "print(\"Best Lasso Alpha: \", lasso_cv.best_params_['alpha'])\n",
    "print(\"Model Coefficients:\", best_lasso.coef_)\n",
    "print(\"Intercept:\", best_lasso.intercept_)\n",
    "\n",
    "print(\"R-squared Score:\", r2_l)\n",
    "print(\"Mean Squared Error:\", mse_l)\n",
    "print(\"Mean Absolute Error:\", mae_l)\n",
    "\n",
    "\n",
    "\"\"\"\n",
    "Mean Squared Error: 0.11497220634118055\n",
    "R-squared Score: 0.8855536780438713 \n",
    "\n",
    "- Remove correlated variables\n",
    "Mean Squared Error: 0.13730048632566919\n",
    "R-squared Score: 0.8633275279059133\n",
    "\n",
    "- Add ethnicity and religion\n",
    "R-squared Score: 0.8138255990869248\n",
    "Mean Squared Error: 0.18874360921627956\n",
    "Mean Absolute Error: 0.3273777320063639\n",
    "\"\"\""
   ]
  },
  {
   "cell_type": "markdown",
   "metadata": {},
   "source": [
    "Test for Interaction Effect - make no sense for location-related variables"
   ]
  },
  {
   "cell_type": "code",
   "execution_count": null,
   "metadata": {},
   "outputs": [
    {
     "name": "stdout",
     "output_type": "stream",
     "text": [
      "                                              Feature  Coefficient\n",
      "0                                        storey_range     0.149198\n",
      "1                                      floor_area_sqm     0.697456\n",
      "2                                     remaining_lease     0.373798\n",
      "3                                nearest_mrt_distance    -0.060381\n",
      "4                                nearest_bus_distance     0.002442\n",
      "..                                                ...          ...\n",
      "605  inflation_rate (x100) resident_unemployment_rate     0.003342\n",
      "606               inflation_rate (x100) interest_rate    -0.004584\n",
      "655                resident_unemployment_rate fx_rate    -0.015289\n",
      "656   resident_unemployment_rate avg_household_income     0.020327\n",
      "749                      fx_rate avg_household_income     0.002210\n",
      "\n",
      "[99 rows x 2 columns]\n"
     ]
    }
   ],
   "source": [
    "# Create all pairwise interaction terms (without squared terms)\n",
    "poly = PolynomialFeatures(degree=2, interaction_only=True, include_bias=False)\n",
    "\n",
    "# Use LassoCV for automatic feature selection with regularization\n",
    "model = make_pipeline(poly, LassoCV(cv=5)).fit(X, y)\n",
    "\n",
    "# Get coefficients\n",
    "lasso = model.named_steps['lassocv']\n",
    "feature_names = model.named_steps['polynomialfeatures'].get_feature_names_out(X.columns)\n",
    "\n",
    "\n",
    "coef_df = pd.DataFrame({'Feature': feature_names, 'Coefficient': lasso.coef_})\n",
    "selected_features = coef_df[coef_df['Coefficient'] != 0]\n",
    "\n",
    "print(selected_features)"
   ]
  },
  {
   "cell_type": "markdown",
   "metadata": {},
   "source": [
    "# Ridge"
   ]
  },
  {
   "cell_type": "code",
   "execution_count": 12,
   "metadata": {},
   "outputs": [],
   "source": [
    "ridge = Ridge()\n",
    "ridge_cv = GridSearchCV(ridge, param_grid, cv=5, scoring='r2')\n",
    "ridge_cv.fit(X_train, y_train)\n",
    "best_ridge = ridge_cv.best_estimator_\n",
    "\n",
    "y_pred = best_ridge.predict(X_test)\n",
    "\n",
    "mse_r = mean_squared_error(y_test, y_pred)\n",
    "r2_r = r2_score(y_test, y_pred)\n",
    "mae_r = mean_absolute_error(y_test, y_pred)"
   ]
  },
  {
   "cell_type": "code",
   "execution_count": null,
   "metadata": {},
   "outputs": [
    {
     "name": "stdout",
     "output_type": "stream",
     "text": [
      "Best Ridge Alpha:  0.0021209508879201904\n",
      "Model Coefficients: [ 1.88220366e-01  7.36922651e-01  4.37386477e-01 -9.23710880e-02\n",
      "  8.27600031e-03  1.99758298e-02  7.20271113e-03  1.41711178e-01\n",
      "  1.50509167e-01  3.00859612e-02  8.75825913e-03 -1.98568514e-02\n",
      " -2.66536695e-02 -2.41376641e-02 -6.23572556e-02 -3.36635397e+00\n",
      " -2.32507882e+00 -3.62266231e+00 -4.18117703e+00 -1.03302270e+01\n",
      " -5.81718207e+00 -4.98592790e-01 -8.18255634e+00  3.30661051e+00\n",
      "  2.22361490e+00  5.82495402e+00  3.07869895e-01 -3.64832021e-01\n",
      " -2.16542899e-01 -5.26256561e-01 -4.22559627e-01 -7.87811358e-01\n",
      " -3.86605851e-01 -3.13898212e-01 -9.22986791e-01 -7.40683169e-01\n",
      " -4.31848336e-01 -4.37706016e-01 -2.43375983e-01 -5.43279714e-01\n",
      " -8.85568824e-01 -4.78737559e-01 -6.92967044e-01 -1.09383182e+00\n",
      " -8.74634992e-01 -1.19699397e+00 -1.35932442e+00 -7.75057863e-01\n",
      " -7.15709317e-01 -4.14811160e-01 -7.54957144e-01]\n",
      "Intercept: -0.13183709786631248\n",
      "R-squared Score: 0.8206842557831927\n",
      "Mean Squared Error: 0.1817903029997421\n",
      "Mean Absolute Error: 0.3217016858124708\n"
     ]
    },
    {
     "data": {
      "text/plain": [
       "'Amenities_data_cleaning.ipynbIntercept: 0.15030498871214715\\nMean Squared Error: 0.10682822058977902\\nR-squared Score: 0.893660413097256\\n\\nMean Squared Error: 0.1341701364928894\\nR-squared Score: 0.8664435594773567\\n\\nMean Squared Error: 0.1817903029997421\\nR-squared Score: 0.8206842557831927\\n'"
      ]
     },
     "execution_count": 13,
     "metadata": {},
     "output_type": "execute_result"
    }
   ],
   "source": [
    "print(\"Best Ridge Alpha: \", ridge_cv.best_params_['alpha'])\n",
    "print(\"Model Coefficients:\", best_ridge.coef_)\n",
    "print(\"Intercept:\", best_ridge.intercept_)\n",
    "\n",
    "\n",
    "print(\"R-squared Score:\", r2_r)\n",
    "print(\"Mean Squared Error:\", mse_r)\n",
    "print(\"Mean Absolute Error:\", mae_r)\n",
    "\n",
    "\"\"\"Amenities_data_cleaning.ipynbIntercept: 0.15030498871214715\n",
    "Mean Squared Error: 0.10682822058977902\n",
    "R-squared Score: 0.893660413097256\n",
    "\n",
    "Mean Squared Error: 0.1341701364928894\n",
    "R-squared Score: 0.8664435594773567\n",
    "\n",
    "R-squared Score: 0.8206842557831927\n",
    "Mean Squared Error: 0.1817903029997421\n",
    "Mean Absolute Error: 0.3217016858124708\n",
    "\"\"\""
   ]
  },
  {
   "cell_type": "markdown",
   "metadata": {},
   "source": [
    "Check for Multicollinearity"
   ]
  },
  {
   "cell_type": "code",
   "execution_count": 31,
   "metadata": {},
   "outputs": [
    {
     "data": {
      "application/vnd.microsoft.datawrangler.viewer.v0+json": {
       "columns": [
        {
         "name": "index",
         "rawType": "int64",
         "type": "integer"
        },
        {
         "name": "Feature",
         "rawType": "object",
         "type": "string"
        },
        {
         "name": "VIF",
         "rawType": "float64",
         "type": "float"
        }
       ],
       "conversionMethod": "pd.DataFrame",
       "ref": "08fe871b-1639-47a5-be6e-2cec55da5849",
       "rows": [
        [
         "0",
         "storey_range",
         "1.2407897551909366"
        ],
        [
         "1",
         "floor_area_sqm",
         "1.1810569217363691"
        ],
        [
         "2",
         "remaining_lease",
         "1.7797053875078015"
        ],
        [
         "3",
         "nearest_mrt_distance",
         "1.890703934209689"
        ],
        [
         "4",
         "nearest_bus_distance",
         "1.0539479107784566"
        ],
        [
         "5",
         "education_score",
         "2.3891218946316526"
        ],
        [
         "6",
         "shopping_score",
         "2.5347723572563217"
        ],
        [
         "7",
         "food_score",
         "5.119842529298272"
        ],
        [
         "8",
         "recreation_score",
         "3.062364101423318"
        ],
        [
         "9",
         "healthcare_score",
         "6.323753592153895"
        ],
        [
         "10",
         "inflation_rate (x100)",
         "1.1055663260916795"
        ],
        [
         "11",
         "resident_unemployment_rate",
         "2.8092941045136035"
        ],
        [
         "12",
         "interest_rate",
         "2.791840709335865"
        ],
        [
         "13",
         "fx_rate",
         "1.0789039660328423"
        ],
        [
         "14",
         "avg_household_income",
         "1.877232670145386"
        ],
        [
         "15",
         "town_BEDOK",
         "1.189670493233273"
        ],
        [
         "16",
         "town_BISHAN",
         "1.1544611693283444"
        ],
        [
         "17",
         "town_BUKIT BATOK",
         "1.20776877021108"
        ],
        [
         "18",
         "town_BUKIT MERAH",
         "2.341657230552003"
        ],
        [
         "19",
         "town_BUKIT PANJANG",
         "1.3409686530641023"
        ],
        [
         "20",
         "town_BUKIT TIMAH",
         "1.0278470834782354"
        ],
        [
         "21",
         "town_CENTRAL AREA",
         "1.7945201990325244"
        ],
        [
         "22",
         "town_CHOA CHU KANG",
         "1.4864440307800657"
        ],
        [
         "23",
         "town_CLEMENTI",
         "1.0686516099748467"
        ],
        [
         "24",
         "town_GEYLANG",
         "1.4974666539926225"
        ],
        [
         "25",
         "town_HOUGANG",
         "1.651340707706899"
        ],
        [
         "26",
         "town_JURONG EAST",
         "1.089984597271491"
        ],
        [
         "27",
         "town_JURONG WEST",
         "1.3819516112462478"
        ],
        [
         "28",
         "town_KALLANG/WHAMPOA",
         "1.8073838981012493"
        ],
        [
         "29",
         "town_MARINE PARADE",
         "1.1837987109969328"
        ],
        [
         "30",
         "town_PASIR RIS",
         "1.1825423229083798"
        ],
        [
         "31",
         "town_PUNGGOL",
         "1.7310229334843419"
        ],
        [
         "32",
         "town_QUEENSTOWN",
         "1.4511418657457995"
        ],
        [
         "33",
         "town_SEMBAWANG",
         "1.2490404575273006"
        ],
        [
         "34",
         "town_SENGKANG",
         "2.209304668912994"
        ],
        [
         "35",
         "town_SERANGOON",
         "1.3221678705194895"
        ],
        [
         "36",
         "town_TAMPINES",
         "1.4260347519009322"
        ],
        [
         "37",
         "town_TOA PAYOH",
         "1.2831720076127022"
        ],
        [
         "38",
         "town_WOODLANDS",
         "1.9184818734928824"
        ],
        [
         "39",
         "town_YISHUN",
         "1.5897559967439463"
        ]
       ],
       "shape": {
        "columns": 2,
        "rows": 40
       }
      },
      "text/html": [
       "<div>\n",
       "<style scoped>\n",
       "    .dataframe tbody tr th:only-of-type {\n",
       "        vertical-align: middle;\n",
       "    }\n",
       "\n",
       "    .dataframe tbody tr th {\n",
       "        vertical-align: top;\n",
       "    }\n",
       "\n",
       "    .dataframe thead th {\n",
       "        text-align: right;\n",
       "    }\n",
       "</style>\n",
       "<table border=\"1\" class=\"dataframe\">\n",
       "  <thead>\n",
       "    <tr style=\"text-align: right;\">\n",
       "      <th></th>\n",
       "      <th>Feature</th>\n",
       "      <th>VIF</th>\n",
       "    </tr>\n",
       "  </thead>\n",
       "  <tbody>\n",
       "    <tr>\n",
       "      <th>0</th>\n",
       "      <td>storey_range</td>\n",
       "      <td>1.240790</td>\n",
       "    </tr>\n",
       "    <tr>\n",
       "      <th>1</th>\n",
       "      <td>floor_area_sqm</td>\n",
       "      <td>1.181057</td>\n",
       "    </tr>\n",
       "    <tr>\n",
       "      <th>2</th>\n",
       "      <td>remaining_lease</td>\n",
       "      <td>1.779705</td>\n",
       "    </tr>\n",
       "    <tr>\n",
       "      <th>3</th>\n",
       "      <td>nearest_mrt_distance</td>\n",
       "      <td>1.890704</td>\n",
       "    </tr>\n",
       "    <tr>\n",
       "      <th>4</th>\n",
       "      <td>nearest_bus_distance</td>\n",
       "      <td>1.053948</td>\n",
       "    </tr>\n",
       "    <tr>\n",
       "      <th>5</th>\n",
       "      <td>education_score</td>\n",
       "      <td>2.389122</td>\n",
       "    </tr>\n",
       "    <tr>\n",
       "      <th>6</th>\n",
       "      <td>shopping_score</td>\n",
       "      <td>2.534772</td>\n",
       "    </tr>\n",
       "    <tr>\n",
       "      <th>7</th>\n",
       "      <td>food_score</td>\n",
       "      <td>5.119843</td>\n",
       "    </tr>\n",
       "    <tr>\n",
       "      <th>8</th>\n",
       "      <td>recreation_score</td>\n",
       "      <td>3.062364</td>\n",
       "    </tr>\n",
       "    <tr>\n",
       "      <th>9</th>\n",
       "      <td>healthcare_score</td>\n",
       "      <td>6.323754</td>\n",
       "    </tr>\n",
       "    <tr>\n",
       "      <th>10</th>\n",
       "      <td>inflation_rate (x100)</td>\n",
       "      <td>1.105566</td>\n",
       "    </tr>\n",
       "    <tr>\n",
       "      <th>11</th>\n",
       "      <td>resident_unemployment_rate</td>\n",
       "      <td>2.809294</td>\n",
       "    </tr>\n",
       "    <tr>\n",
       "      <th>12</th>\n",
       "      <td>interest_rate</td>\n",
       "      <td>2.791841</td>\n",
       "    </tr>\n",
       "    <tr>\n",
       "      <th>13</th>\n",
       "      <td>fx_rate</td>\n",
       "      <td>1.078904</td>\n",
       "    </tr>\n",
       "    <tr>\n",
       "      <th>14</th>\n",
       "      <td>avg_household_income</td>\n",
       "      <td>1.877233</td>\n",
       "    </tr>\n",
       "    <tr>\n",
       "      <th>15</th>\n",
       "      <td>town_BEDOK</td>\n",
       "      <td>1.189670</td>\n",
       "    </tr>\n",
       "    <tr>\n",
       "      <th>16</th>\n",
       "      <td>town_BISHAN</td>\n",
       "      <td>1.154461</td>\n",
       "    </tr>\n",
       "    <tr>\n",
       "      <th>17</th>\n",
       "      <td>town_BUKIT BATOK</td>\n",
       "      <td>1.207769</td>\n",
       "    </tr>\n",
       "    <tr>\n",
       "      <th>18</th>\n",
       "      <td>town_BUKIT MERAH</td>\n",
       "      <td>2.341657</td>\n",
       "    </tr>\n",
       "    <tr>\n",
       "      <th>19</th>\n",
       "      <td>town_BUKIT PANJANG</td>\n",
       "      <td>1.340969</td>\n",
       "    </tr>\n",
       "    <tr>\n",
       "      <th>20</th>\n",
       "      <td>town_BUKIT TIMAH</td>\n",
       "      <td>1.027847</td>\n",
       "    </tr>\n",
       "    <tr>\n",
       "      <th>21</th>\n",
       "      <td>town_CENTRAL AREA</td>\n",
       "      <td>1.794520</td>\n",
       "    </tr>\n",
       "    <tr>\n",
       "      <th>22</th>\n",
       "      <td>town_CHOA CHU KANG</td>\n",
       "      <td>1.486444</td>\n",
       "    </tr>\n",
       "    <tr>\n",
       "      <th>23</th>\n",
       "      <td>town_CLEMENTI</td>\n",
       "      <td>1.068652</td>\n",
       "    </tr>\n",
       "    <tr>\n",
       "      <th>24</th>\n",
       "      <td>town_GEYLANG</td>\n",
       "      <td>1.497467</td>\n",
       "    </tr>\n",
       "    <tr>\n",
       "      <th>25</th>\n",
       "      <td>town_HOUGANG</td>\n",
       "      <td>1.651341</td>\n",
       "    </tr>\n",
       "    <tr>\n",
       "      <th>26</th>\n",
       "      <td>town_JURONG EAST</td>\n",
       "      <td>1.089985</td>\n",
       "    </tr>\n",
       "    <tr>\n",
       "      <th>27</th>\n",
       "      <td>town_JURONG WEST</td>\n",
       "      <td>1.381952</td>\n",
       "    </tr>\n",
       "    <tr>\n",
       "      <th>28</th>\n",
       "      <td>town_KALLANG/WHAMPOA</td>\n",
       "      <td>1.807384</td>\n",
       "    </tr>\n",
       "    <tr>\n",
       "      <th>29</th>\n",
       "      <td>town_MARINE PARADE</td>\n",
       "      <td>1.183799</td>\n",
       "    </tr>\n",
       "    <tr>\n",
       "      <th>30</th>\n",
       "      <td>town_PASIR RIS</td>\n",
       "      <td>1.182542</td>\n",
       "    </tr>\n",
       "    <tr>\n",
       "      <th>31</th>\n",
       "      <td>town_PUNGGOL</td>\n",
       "      <td>1.731023</td>\n",
       "    </tr>\n",
       "    <tr>\n",
       "      <th>32</th>\n",
       "      <td>town_QUEENSTOWN</td>\n",
       "      <td>1.451142</td>\n",
       "    </tr>\n",
       "    <tr>\n",
       "      <th>33</th>\n",
       "      <td>town_SEMBAWANG</td>\n",
       "      <td>1.249040</td>\n",
       "    </tr>\n",
       "    <tr>\n",
       "      <th>34</th>\n",
       "      <td>town_SENGKANG</td>\n",
       "      <td>2.209305</td>\n",
       "    </tr>\n",
       "    <tr>\n",
       "      <th>35</th>\n",
       "      <td>town_SERANGOON</td>\n",
       "      <td>1.322168</td>\n",
       "    </tr>\n",
       "    <tr>\n",
       "      <th>36</th>\n",
       "      <td>town_TAMPINES</td>\n",
       "      <td>1.426035</td>\n",
       "    </tr>\n",
       "    <tr>\n",
       "      <th>37</th>\n",
       "      <td>town_TOA PAYOH</td>\n",
       "      <td>1.283172</td>\n",
       "    </tr>\n",
       "    <tr>\n",
       "      <th>38</th>\n",
       "      <td>town_WOODLANDS</td>\n",
       "      <td>1.918482</td>\n",
       "    </tr>\n",
       "    <tr>\n",
       "      <th>39</th>\n",
       "      <td>town_YISHUN</td>\n",
       "      <td>1.589756</td>\n",
       "    </tr>\n",
       "  </tbody>\n",
       "</table>\n",
       "</div>"
      ],
      "text/plain": [
       "                       Feature       VIF\n",
       "0                 storey_range  1.240790\n",
       "1               floor_area_sqm  1.181057\n",
       "2              remaining_lease  1.779705\n",
       "3         nearest_mrt_distance  1.890704\n",
       "4         nearest_bus_distance  1.053948\n",
       "5              education_score  2.389122\n",
       "6               shopping_score  2.534772\n",
       "7                   food_score  5.119843\n",
       "8             recreation_score  3.062364\n",
       "9             healthcare_score  6.323754\n",
       "10       inflation_rate (x100)  1.105566\n",
       "11  resident_unemployment_rate  2.809294\n",
       "12               interest_rate  2.791841\n",
       "13                     fx_rate  1.078904\n",
       "14        avg_household_income  1.877233\n",
       "15                  town_BEDOK  1.189670\n",
       "16                 town_BISHAN  1.154461\n",
       "17            town_BUKIT BATOK  1.207769\n",
       "18            town_BUKIT MERAH  2.341657\n",
       "19          town_BUKIT PANJANG  1.340969\n",
       "20            town_BUKIT TIMAH  1.027847\n",
       "21           town_CENTRAL AREA  1.794520\n",
       "22          town_CHOA CHU KANG  1.486444\n",
       "23               town_CLEMENTI  1.068652\n",
       "24                town_GEYLANG  1.497467\n",
       "25                town_HOUGANG  1.651341\n",
       "26            town_JURONG EAST  1.089985\n",
       "27            town_JURONG WEST  1.381952\n",
       "28        town_KALLANG/WHAMPOA  1.807384\n",
       "29          town_MARINE PARADE  1.183799\n",
       "30              town_PASIR RIS  1.182542\n",
       "31                town_PUNGGOL  1.731023\n",
       "32             town_QUEENSTOWN  1.451142\n",
       "33              town_SEMBAWANG  1.249040\n",
       "34               town_SENGKANG  2.209305\n",
       "35              town_SERANGOON  1.322168\n",
       "36               town_TAMPINES  1.426035\n",
       "37              town_TOA PAYOH  1.283172\n",
       "38              town_WOODLANDS  1.918482\n",
       "39                 town_YISHUN  1.589756"
      ]
     },
     "execution_count": 31,
     "metadata": {},
     "output_type": "execute_result"
    }
   ],
   "source": [
    "from statsmodels.stats.outliers_influence import variance_inflation_factor # type: ignore\n",
    "\n",
    "# Compute VIF for each feature\n",
    "X_train_vif = X_train.copy()  # Ensure we work with a copy\n",
    "vif_data = pd.DataFrame()\n",
    "vif_data[\"Feature\"] = X_train_vif.columns\n",
    "vif_data[\"VIF\"] = [variance_inflation_factor(X_train_vif.values, i) for i in range(X_train_vif.shape[1])]\n",
    "\n",
    "vif_data"
   ]
  },
  {
   "cell_type": "code",
   "execution_count": 58,
   "metadata": {},
   "outputs": [
    {
     "data": {
      "application/vnd.microsoft.datawrangler.viewer.v0+json": {
       "columns": [
        {
         "name": "index",
         "rawType": "int64",
         "type": "integer"
        },
        {
         "name": "Feature",
         "rawType": "object",
         "type": "string"
        },
        {
         "name": "VIF",
         "rawType": "float64",
         "type": "float"
        }
       ],
       "conversionMethod": "pd.DataFrame",
       "ref": "613d683b-115d-43c6-9332-0b5331281700",
       "rows": [
        [
         "0",
         "flat_type",
         "21.41063985177059"
        ],
        [
         "1",
         "storey_range",
         "1.268476364725561"
        ],
        [
         "2",
         "floor_area_sqm",
         "15.247786200235003"
        ],
        [
         "3",
         "remaining_lease",
         "316.7826513352161"
        ],
        [
         "4",
         "nearest_mrt_distance",
         "1.9333012619173495"
        ],
        [
         "5",
         "nearest_bus_distance",
         "1.061542258773557"
        ],
        [
         "6",
         "education_score",
         "2.4639033303606372"
        ],
        [
         "7",
         "shopping_score",
         "3.0505774259266123"
        ],
        [
         "8",
         "food_score",
         "6.021984897232537"
        ],
        [
         "9",
         "recreation_score",
         "4.539261334583796"
        ],
        [
         "10",
         "healthcare_score",
         "6.429676767878974"
        ],
        [
         "11",
         "inflation_rate (x100)",
         "1.122256024192911"
        ],
        [
         "12",
         "building_age_2025",
         "320.88757091317393"
        ],
        [
         "13",
         "total_unemployment_rate",
         "101.64720982236909"
        ],
        [
         "14",
         "resident_unemployment_rate",
         "112.34711832707656"
        ],
        [
         "15",
         "interest_rate",
         "5.222617742433408"
        ],
        [
         "16",
         "fx_rate",
         "1.1791654583756477"
        ],
        [
         "17",
         "avg_household_income",
         "5.283695512572347"
        ],
        [
         "18",
         "town_BEDOK",
         "2.970518282342157"
        ],
        [
         "19",
         "town_BISHAN",
         "1.6075671680371697"
        ],
        [
         "20",
         "town_BUKIT BATOK",
         "3.462125403670897"
        ],
        [
         "21",
         "town_BUKIT MERAH",
         "3.534209872037688"
        ],
        [
         "22",
         "town_BUKIT PANJANG",
         "3.9302406672049166"
        ],
        [
         "23",
         "town_BUKIT TIMAH",
         "1.1294905861928726"
        ],
        [
         "24",
         "town_CENTRAL AREA",
         "2.607763850136028"
        ],
        [
         "25",
         "town_CHOA CHU KANG",
         "5.236177536328889"
        ],
        [
         "26",
         "town_CLEMENTI",
         "1.9192089332661124"
        ],
        [
         "27",
         "town_GEYLANG",
         "2.35258339804489"
        ],
        [
         "28",
         "town_HOUGANG",
         "4.1136676544273145"
        ],
        [
         "29",
         "town_JURONG EAST",
         "2.3845868255337264"
        ],
        [
         "30",
         "town_JURONG WEST",
         "4.578182018043802"
        ],
        [
         "31",
         "town_KALLANG/WHAMPOA",
         "2.8991475328101353"
        ],
        [
         "32",
         "town_MARINE PARADE",
         "1.4743234193458354"
        ],
        [
         "33",
         "town_PASIR RIS",
         "3.2473592608247315"
        ],
        [
         "34",
         "town_PUNGGOL",
         "8.21007779779638"
        ],
        [
         "35",
         "town_QUEENSTOWN",
         "2.7266580724887604"
        ],
        [
         "36",
         "town_SEMBAWANG",
         "3.233381205661009"
        ],
        [
         "37",
         "town_SENGKANG",
         "7.168204103820332"
        ],
        [
         "38",
         "town_SERANGOON",
         "1.7696741192868484"
        ],
        [
         "39",
         "town_TAMPINES",
         "6.221795044749779"
        ],
        [
         "40",
         "town_TOA PAYOH",
         "2.299771925503304"
        ],
        [
         "41",
         "town_WOODLANDS",
         "8.003046712490727"
        ],
        [
         "42",
         "town_YISHUN",
         "6.230374304779737"
        ],
        [
         "43",
         "flat_model_3Gen",
         "1.0157533554308267"
        ],
        [
         "44",
         "flat_model_Adjoined flat",
         "1.1055873469695279"
        ],
        [
         "45",
         "flat_model_Apartment",
         "4.191043841835679"
        ],
        [
         "46",
         "flat_model_DBSS",
         "1.9310707635495266"
        ],
        [
         "47",
         "flat_model_Improved",
         "14.265824203275542"
        ],
        [
         "48",
         "flat_model_Improved-Maisonette",
         "1.0140064474656254"
        ],
        [
         "49",
         "flat_model_Maisonette",
         "3.4362008203242227"
        ]
       ],
       "shape": {
        "columns": 2,
        "rows": 63
       }
      },
      "text/html": [
       "<div>\n",
       "<style scoped>\n",
       "    .dataframe tbody tr th:only-of-type {\n",
       "        vertical-align: middle;\n",
       "    }\n",
       "\n",
       "    .dataframe tbody tr th {\n",
       "        vertical-align: top;\n",
       "    }\n",
       "\n",
       "    .dataframe thead th {\n",
       "        text-align: right;\n",
       "    }\n",
       "</style>\n",
       "<table border=\"1\" class=\"dataframe\">\n",
       "  <thead>\n",
       "    <tr style=\"text-align: right;\">\n",
       "      <th></th>\n",
       "      <th>Feature</th>\n",
       "      <th>VIF</th>\n",
       "    </tr>\n",
       "  </thead>\n",
       "  <tbody>\n",
       "    <tr>\n",
       "      <th>0</th>\n",
       "      <td>flat_type</td>\n",
       "      <td>21.410640</td>\n",
       "    </tr>\n",
       "    <tr>\n",
       "      <th>1</th>\n",
       "      <td>storey_range</td>\n",
       "      <td>1.268476</td>\n",
       "    </tr>\n",
       "    <tr>\n",
       "      <th>2</th>\n",
       "      <td>floor_area_sqm</td>\n",
       "      <td>15.247786</td>\n",
       "    </tr>\n",
       "    <tr>\n",
       "      <th>3</th>\n",
       "      <td>remaining_lease</td>\n",
       "      <td>316.782651</td>\n",
       "    </tr>\n",
       "    <tr>\n",
       "      <th>4</th>\n",
       "      <td>nearest_mrt_distance</td>\n",
       "      <td>1.933301</td>\n",
       "    </tr>\n",
       "    <tr>\n",
       "      <th>...</th>\n",
       "      <td>...</td>\n",
       "      <td>...</td>\n",
       "    </tr>\n",
       "    <tr>\n",
       "      <th>58</th>\n",
       "      <td>flat_model_Simplified</td>\n",
       "      <td>3.268270</td>\n",
       "    </tr>\n",
       "    <tr>\n",
       "      <th>59</th>\n",
       "      <td>flat_model_Standard</td>\n",
       "      <td>2.836043</td>\n",
       "    </tr>\n",
       "    <tr>\n",
       "      <th>60</th>\n",
       "      <td>flat_model_Terrace</td>\n",
       "      <td>1.082173</td>\n",
       "    </tr>\n",
       "    <tr>\n",
       "      <th>61</th>\n",
       "      <td>flat_model_Type S1</td>\n",
       "      <td>1.445011</td>\n",
       "    </tr>\n",
       "    <tr>\n",
       "      <th>62</th>\n",
       "      <td>flat_model_Type S2</td>\n",
       "      <td>1.233031</td>\n",
       "    </tr>\n",
       "  </tbody>\n",
       "</table>\n",
       "<p>63 rows × 2 columns</p>\n",
       "</div>"
      ],
      "text/plain": [
       "                  Feature         VIF\n",
       "0               flat_type   21.410640\n",
       "1            storey_range    1.268476\n",
       "2          floor_area_sqm   15.247786\n",
       "3         remaining_lease  316.782651\n",
       "4    nearest_mrt_distance    1.933301\n",
       "..                    ...         ...\n",
       "58  flat_model_Simplified    3.268270\n",
       "59    flat_model_Standard    2.836043\n",
       "60     flat_model_Terrace    1.082173\n",
       "61     flat_model_Type S1    1.445011\n",
       "62     flat_model_Type S2    1.233031\n",
       "\n",
       "[63 rows x 2 columns]"
      ]
     },
     "execution_count": 58,
     "metadata": {},
     "output_type": "execute_result"
    }
   ],
   "source": [
    "vif_data"
   ]
  },
  {
   "cell_type": "markdown",
   "metadata": {},
   "source": [
    "Check for Interactive Effect"
   ]
  },
  {
   "cell_type": "code",
   "execution_count": 55,
   "metadata": {},
   "outputs": [
    {
     "name": "stdout",
     "output_type": "stream",
     "text": [
      "floor_area_sqm          0.646445\n",
      "flat_type               0.640392\n",
      "storey_range            0.372191\n",
      "building_age_2025       0.350866\n",
      "remaining_lease         0.350195\n",
      "                          ...   \n",
      "town_GEYLANG            0.015010\n",
      "flat_model_3Gen         0.010742\n",
      "town_HOUGANG            0.008931\n",
      "town_SENGKANG           0.005379\n",
      "avg_household_income    0.003691\n",
      "Length: 63, dtype: float64\n"
     ]
    }
   ],
   "source": [
    "correlations = X_train.corrwith(y_train)\n",
    "print(correlations.abs().sort_values(ascending=False))"
   ]
  },
  {
   "cell_type": "code",
   "execution_count": 56,
   "metadata": {},
   "outputs": [],
   "source": [
    "from sklearn.preprocessing import PolynomialFeatures\n",
    "import pandas as pd\n",
    "\n",
    "# Create polynomial feature transformer (degree=2 for interaction terms)\n",
    "poly = PolynomialFeatures(degree=2, interaction_only=True, include_bias=False)\n",
    "\n",
    "# Transform the dataset\n",
    "X_train_interactions = poly.fit_transform(X_train)\n",
    "\n",
    "# Create feature names\n",
    "feature_names = poly.get_feature_names_out(X_train.columns)\n",
    "\n",
    "# Convert back to DataFrame\n",
    "X_train_interactions = pd.DataFrame(X_train_interactions, columns=feature_names)\n"
   ]
  },
  {
   "cell_type": "code",
   "execution_count": 54,
   "metadata": {},
   "outputs": [
    {
     "name": "stdout",
     "output_type": "stream",
     "text": [
      "Top 10 Strongest Interaction Terms:\n",
      "storey_range town_CHOA CHU KANG              0.011254\n",
      "town_BISHAN flat_model_Adjoined flat         0.009512\n",
      "remaining_lease nearest_bus_distance         0.008969\n",
      "nearest_bus_distance building_age_2025       0.008896\n",
      "education_score healthcare_score             0.008872\n",
      "total_unemployment_rate town_TAMPINES        0.008850\n",
      "resident_unemployment_rate town_TAMPINES     0.008792\n",
      "nearest_bus_distance town_PASIR RIS          0.008695\n",
      "floor_area_sqm fx_rate                       0.008174\n",
      "town_QUEENSTOWN flat_model_New Generation    0.007437\n",
      "dtype: float64\n"
     ]
    }
   ],
   "source": [
    "# Compute correlation of interaction terms with target\n",
    "interaction_correlations = X_train_interactions.corrwith(y_train)\n",
    "\n",
    "# Sort by absolute correlation value\n",
    "strong_interactions = interaction_correlations.abs().sort_values(ascending=False)\n",
    "\n",
    "# Display top 10 most relevant interaction terms\n",
    "print(\"Top 10 Strongest Interaction Terms:\")\n",
    "print(strong_interactions.head(10))\n"
   ]
  }
 ],
 "metadata": {
  "kernelspec": {
   "display_name": "Python 3",
   "language": "python",
   "name": "python3"
  },
  "language_info": {
   "codemirror_mode": {
    "name": "ipython",
    "version": 3
   },
   "file_extension": ".py",
   "mimetype": "text/x-python",
   "name": "python",
   "nbconvert_exporter": "python",
   "pygments_lexer": "ipython3",
   "version": "3.10.6"
  }
 },
 "nbformat": 4,
 "nbformat_minor": 2
}
