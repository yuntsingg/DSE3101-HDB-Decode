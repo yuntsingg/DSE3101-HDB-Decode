{
 "cells": [
  {
   "cell_type": "code",
   "execution_count": 1,
   "metadata": {},
   "outputs": [],
   "source": [
    "import pandas as pd\n",
    "import numpy as np"
   ]
  },
  {
   "cell_type": "code",
   "execution_count": 2,
   "metadata": {},
   "outputs": [],
   "source": [
    "df_resale = pd.read_csv('../data/cleaned/resale_price_cleaned.csv')"
   ]
  },
  {
   "cell_type": "markdown",
   "metadata": {},
   "source": [
    "### Add inflation-adjusted resale price\n",
    "Real Price = Nominal Price * (CPI Base Year/ CPI Curret Month)"
   ]
  },
  {
   "cell_type": "code",
   "execution_count": 3,
   "metadata": {},
   "outputs": [],
   "source": [
    "df_deflated_resale = df_resale.copy()\n",
    "cpi_base = 100\n",
    "df_deflated_resale[\"deflated_resale_price\"] = df_deflated_resale[\"resale_price\"] * (100/ df_deflated_resale[\"CPI (base 2024-12)\"])"
   ]
  },
  {
   "cell_type": "markdown",
   "metadata": {},
   "source": [
    "### Drop correlated variables"
   ]
  },
  {
   "cell_type": "code",
   "execution_count": 4,
   "metadata": {},
   "outputs": [],
   "source": [
    "df_deflated_resale.drop(columns = ['resale_price', 'flat_type', 'building_age_2025', 'total_unemployment_rate', 'flat_model',\n",
    "                                   'CPI (base 2024-12)'], inplace = True)\n",
    "\n",
    "\n",
    "df_deflated_resale.dropna(inplace = True)"
   ]
  },
  {
   "cell_type": "code",
   "execution_count": 9,
   "metadata": {},
   "outputs": [
    {
     "name": "stdout",
     "output_type": "stream",
     "text": [
      "/Users/judy/Desktop/DSE3101-Project/DSE3101-HDB-Decode/code\n"
     ]
    }
   ],
   "source": [
    "import os\n",
    "\n",
    "current_directory = os.getcwd()\n",
    "print(current_directory)"
   ]
  },
  {
   "cell_type": "markdown",
   "metadata": {},
   "source": [
    "### Add ethnicity and religion columns "
   ]
  },
  {
   "cell_type": "code",
   "execution_count": 5,
   "metadata": {},
   "outputs": [],
   "source": [
    "# from another dataset\n",
    "df_2 = pd.read_csv(\"../data/cleaned/resale_price_normalized_demo.csv\")\n",
    "\n",
    "# drop NoReligion and Others\n",
    "df_2 = df_2[['town','Buddhism','Taoism1','Islam','Hinduism','Sikhism',\n",
    "            'Christianity_Catholic','Christianity_OtherChristians','OtherReligions','Chinese', 'Malays','Indians']]\n",
    "\n",
    "df_2_selected = df_2[['town','Buddhism']]"
   ]
  },
  {
   "cell_type": "code",
   "execution_count": 7,
   "metadata": {},
   "outputs": [
    {
     "data": {
      "text/plain": [
       "True"
      ]
     },
     "execution_count": 7,
     "metadata": {},
     "output_type": "execute_result"
    }
   ],
   "source": [
    "df_deflated_resale_sorted = df_deflated_resale.sort_values('town').reset_index(drop=True)\n",
    "df_2_sorted = df_2.sort_values('town').reset_index(drop=True)\n",
    "(df_deflated_resale_sorted['town'] == df_2_sorted['town']).all()"
   ]
  },
  {
   "cell_type": "code",
   "execution_count": 8,
   "metadata": {},
   "outputs": [],
   "source": [
    "columns_to_add = ['Buddhism','Taoism1','Islam','Hinduism','Sikhism',\n",
    "                  'Christianity_Catholic','Christianity_OtherChristians','OtherReligions',\n",
    "                  'Chinese', 'Malays','Indians']\n",
    "\n",
    "for col in columns_to_add:\n",
    "    df_deflated_resale_sorted[col] = df_2_sorted[col]"
   ]
  },
  {
   "cell_type": "markdown",
   "metadata": {},
   "source": [
    "Merge takes up too much RAM memory..."
   ]
  },
  {
   "cell_type": "code",
   "execution_count": null,
   "metadata": {},
   "outputs": [],
   "source": [
    "df_deflated_resale_small = df_deflated_resale.head(2000)\n",
    "df_2_small = df_2.head(2000)\n",
    "df_com = pd.merge(df_deflated_resale_small, df_2_small, on = 'town', how = 'left')"
   ]
  },
  {
   "cell_type": "code",
   "execution_count": null,
   "metadata": {},
   "outputs": [
    {
     "ename": "",
     "evalue": "",
     "output_type": "error",
     "traceback": [
      "\u001b[1;31mThe Kernel crashed while executing code in the current cell or a previous cell. \n",
      "\u001b[1;31mPlease review the code in the cell(s) to identify a possible cause of the failure. \n",
      "\u001b[1;31mClick <a href='https://aka.ms/vscodeJupyterKernelCrash'>here</a> for more info. \n",
      "\u001b[1;31mView Jupyter <a href='command:jupyter.viewOutput'>log</a> for further details."
     ]
    }
   ],
   "source": [
    "df_com = pd.merge(df_deflated_resale, df_2_selected, on = 'town', how = 'left')"
   ]
  },
  {
   "cell_type": "code",
   "execution_count": 9,
   "metadata": {},
   "outputs": [
    {
     "name": "stdout",
     "output_type": "stream",
     "text": [
      "<class 'pandas.core.frame.DataFrame'>\n",
      "RangeIndex: 196986 entries, 0 to 196985\n",
      "Data columns (total 31 columns):\n",
      " #   Column                        Non-Null Count   Dtype  \n",
      "---  ------                        --------------   -----  \n",
      " 0   month                         196986 non-null  object \n",
      " 1   town                          196986 non-null  object \n",
      " 2   storey_range                  196986 non-null  int64  \n",
      " 3   floor_area_sqm                196986 non-null  float64\n",
      " 4   remaining_lease               196986 non-null  float64\n",
      " 5   lat                           196986 non-null  float64\n",
      " 6   lon                           196986 non-null  float64\n",
      " 7   nearest_mrt_distance          196986 non-null  float64\n",
      " 8   nearest_bus_distance          196986 non-null  float64\n",
      " 9   education_score               196986 non-null  float64\n",
      " 10  shopping_score                196986 non-null  float64\n",
      " 11  food_score                    196986 non-null  float64\n",
      " 12  recreation_score              196986 non-null  float64\n",
      " 13  healthcare_score              196986 non-null  float64\n",
      " 14  inflation_rate (x100)         196986 non-null  float64\n",
      " 15  resident_unemployment_rate    196986 non-null  float64\n",
      " 16  interest_rate                 196986 non-null  float64\n",
      " 17  fx_rate                       196986 non-null  float64\n",
      " 18  avg_household_income          196986 non-null  float64\n",
      " 19  deflated_resale_price         196986 non-null  float64\n",
      " 20  Buddhism                      196986 non-null  float64\n",
      " 21  Taoism1                       196986 non-null  float64\n",
      " 22  Islam                         196986 non-null  float64\n",
      " 23  Hinduism                      196986 non-null  float64\n",
      " 24  Sikhism                       196986 non-null  float64\n",
      " 25  Christianity_Catholic         196986 non-null  float64\n",
      " 26  Christianity_OtherChristians  196986 non-null  float64\n",
      " 27  OtherReligions                196986 non-null  float64\n",
      " 28  Chinese                       196986 non-null  float64\n",
      " 29  Malays                        196986 non-null  float64\n",
      " 30  Indians                       196986 non-null  float64\n",
      "dtypes: float64(28), int64(1), object(2)\n",
      "memory usage: 46.6+ MB\n"
     ]
    }
   ],
   "source": [
    "df_deflated_resale_sorted.info()"
   ]
  },
  {
   "cell_type": "markdown",
   "metadata": {},
   "source": [
    "### Standardization (z-score)"
   ]
  },
  {
   "cell_type": "code",
   "execution_count": 10,
   "metadata": {},
   "outputs": [
    {
     "data": {
      "application/vnd.microsoft.datawrangler.viewer.v0+json": {
       "columns": [
        {
         "name": "index",
         "rawType": "int64",
         "type": "integer"
        },
        {
         "name": "month",
         "rawType": "object",
         "type": "string"
        },
        {
         "name": "town",
         "rawType": "object",
         "type": "string"
        },
        {
         "name": "storey_range",
         "rawType": "float64",
         "type": "float"
        },
        {
         "name": "floor_area_sqm",
         "rawType": "float64",
         "type": "float"
        },
        {
         "name": "remaining_lease",
         "rawType": "float64",
         "type": "float"
        },
        {
         "name": "lat",
         "rawType": "float64",
         "type": "float"
        },
        {
         "name": "lon",
         "rawType": "float64",
         "type": "float"
        },
        {
         "name": "nearest_mrt_distance",
         "rawType": "float64",
         "type": "float"
        },
        {
         "name": "nearest_bus_distance",
         "rawType": "float64",
         "type": "float"
        },
        {
         "name": "education_score",
         "rawType": "float64",
         "type": "float"
        },
        {
         "name": "shopping_score",
         "rawType": "float64",
         "type": "float"
        },
        {
         "name": "food_score",
         "rawType": "float64",
         "type": "float"
        },
        {
         "name": "recreation_score",
         "rawType": "float64",
         "type": "float"
        },
        {
         "name": "healthcare_score",
         "rawType": "float64",
         "type": "float"
        },
        {
         "name": "inflation_rate (x100)",
         "rawType": "float64",
         "type": "float"
        },
        {
         "name": "resident_unemployment_rate",
         "rawType": "float64",
         "type": "float"
        },
        {
         "name": "interest_rate",
         "rawType": "float64",
         "type": "float"
        },
        {
         "name": "fx_rate",
         "rawType": "float64",
         "type": "float"
        },
        {
         "name": "avg_household_income",
         "rawType": "float64",
         "type": "float"
        },
        {
         "name": "deflated_resale_price",
         "rawType": "float64",
         "type": "float"
        },
        {
         "name": "Buddhism",
         "rawType": "float64",
         "type": "float"
        },
        {
         "name": "Taoism1",
         "rawType": "float64",
         "type": "float"
        },
        {
         "name": "Islam",
         "rawType": "float64",
         "type": "float"
        },
        {
         "name": "Hinduism",
         "rawType": "float64",
         "type": "float"
        },
        {
         "name": "Sikhism",
         "rawType": "float64",
         "type": "float"
        },
        {
         "name": "Christianity_Catholic",
         "rawType": "float64",
         "type": "float"
        },
        {
         "name": "Christianity_OtherChristians",
         "rawType": "float64",
         "type": "float"
        },
        {
         "name": "OtherReligions",
         "rawType": "float64",
         "type": "float"
        },
        {
         "name": "Chinese",
         "rawType": "float64",
         "type": "float"
        },
        {
         "name": "Malays",
         "rawType": "float64",
         "type": "float"
        },
        {
         "name": "Indians",
         "rawType": "float64",
         "type": "float"
        }
       ],
       "conversionMethod": "pd.DataFrame",
       "ref": "642bab01-0846-4a33-bc22-1c9ac633befe",
       "rows": [
        [
         "0",
         "2024-01",
         "ANG MO KIO",
         "0.8837469825225279",
         "-1.581737326915902",
         "-1.1664180076476893",
         "1.37056144",
         "103.8548231",
         "-0.09730110932303822",
         "-0.24757323124274888",
         "-1.8503183359170825",
         "-0.6560121692749712",
         "1.238104853937156",
         "-0.8724488368533819",
         "-0.08271753457748907",
         "-0.359725012427449",
         "-0.2475140264820928",
         "-0.8373427716074419",
         "1.903577669023712",
         "1.1261546783735923",
         "-1.0709122071683943",
         "0.3449754901960784",
         "0.1203138926024955",
         "0.0762589126559714",
         "0.0463806261140819",
         "0.0023813502673796",
         "0.084551860516934",
         "0.1137686608734402",
         "0.0014900846702317",
         "0.7394221653946257",
         "0.1421918795558678",
         "0.0892819283640014"
        ],
        [
         "1",
         "2022-05",
         "ANG MO KIO",
         "-0.12735093006166076",
         "-1.581737326915902",
         "-1.177794694267348",
         "1.362757847",
         "103.8580153",
         "-0.09730110932303822",
         "-0.24757323124274888",
         "-1.8503183359170825",
         "-0.6560121692749712",
         "1.238104853937156",
         "-0.8724488368533819",
         "-0.08271753457748907",
         "0.3442437254585837",
         "-0.2475140264820928",
         "-0.923032576794386",
         "1.4643365108187183",
         "1.1261546783735923",
         "-1.0722631518845882",
         "0.3449754901960784",
         "0.1203138926024955",
         "0.0762589126559714",
         "0.0463806261140819",
         "0.0023813502673796",
         "0.084551860516934",
         "0.1137686608734402",
         "0.0014900846702317",
         "0.7394221653946257",
         "0.1421918795558678",
         "0.0892819283640014"
        ],
        [
         "2",
         "2022-07",
         "ANG MO KIO",
         "0.3781980262304336",
         "-1.581737326915902",
         "-1.2254345694871702",
         "1.362757847",
         "103.8580153",
         "-0.09730110932303822",
         "-0.24757323124274888",
         "-1.8503183359170825",
         "-0.6560121692749712",
         "1.238104853937156",
         "-0.8724488368533819",
         "-0.08271753457748907",
         "-0.9083938021109975",
         "-0.5292312392896367",
         "-0.6486659792743649",
         "-1.4085380914950536",
         "1.1261546783735923",
         "-1.1716685565608504",
         "0.3449754901960784",
         "0.1203138926024955",
         "0.0762589126559714",
         "0.0463806261140819",
         "0.0023813502673796",
         "0.084551860516934",
         "0.1137686608734402",
         "0.0014900846702317",
         "0.7394221653946257",
         "0.1421918795558678",
         "0.0892819283640014"
        ],
        [
         "3",
         "2022-08",
         "ANG MO KIO",
         "-1.1384488426458494",
         "-1.581737326915902",
         "-1.2488989856402168",
         "1.362757847",
         "103.8580153",
         "-0.09730110932303822",
         "-0.24757323124274888",
         "-1.8503183359170825",
         "-0.6560121692749712",
         "1.238104853937156",
         "-0.8724488368533819",
         "-0.08271753457748907",
         "-0.32460813214799034",
         "-0.5292312392896367",
         "-0.27724699260257696",
         "-0.4034276934403784",
         "1.1261546783735923",
         "-1.3575254861198731",
         "0.3449754901960784",
         "0.1203138926024955",
         "0.0762589126559714",
         "0.0463806261140819",
         "0.0023813502673796",
         "0.084551860516934",
         "0.1137686608734402",
         "0.0014900846702317",
         "0.7394221653946257",
         "0.1421918795558678",
         "0.0892819283640014"
        ],
        [
         "4",
         "2023-01",
         "ANG MO KIO",
         "-0.6328998863537552",
         "-1.581737326915902",
         "-1.2488989856402168",
         "1.362757847",
         "103.8580153",
         "-0.09730110932303822",
         "-0.24757323124274888",
         "-1.8503183359170825",
         "-0.6560121692749712",
         "1.238104853937156",
         "-0.8724488368533819",
         "-0.08271753457748907",
         "-0.32460813214799034",
         "-0.5292312392896367",
         "-0.27724699260257696",
         "-0.4034276934403784",
         "1.1261546783735923",
         "-1.3238757253794902",
         "0.3449754901960784",
         "0.1203138926024955",
         "0.0762589126559714",
         "0.0463806261140819",
         "0.0023813502673796",
         "0.084551860516934",
         "0.1137686608734402",
         "0.0014900846702317",
         "0.7394221653946257",
         "0.1421918795558678",
         "0.0892819283640014"
        ]
       ],
       "shape": {
        "columns": 31,
        "rows": 5
       }
      },
      "text/html": [
       "<div>\n",
       "<style scoped>\n",
       "    .dataframe tbody tr th:only-of-type {\n",
       "        vertical-align: middle;\n",
       "    }\n",
       "\n",
       "    .dataframe tbody tr th {\n",
       "        vertical-align: top;\n",
       "    }\n",
       "\n",
       "    .dataframe thead th {\n",
       "        text-align: right;\n",
       "    }\n",
       "</style>\n",
       "<table border=\"1\" class=\"dataframe\">\n",
       "  <thead>\n",
       "    <tr style=\"text-align: right;\">\n",
       "      <th></th>\n",
       "      <th>month</th>\n",
       "      <th>town</th>\n",
       "      <th>storey_range</th>\n",
       "      <th>floor_area_sqm</th>\n",
       "      <th>remaining_lease</th>\n",
       "      <th>lat</th>\n",
       "      <th>lon</th>\n",
       "      <th>nearest_mrt_distance</th>\n",
       "      <th>nearest_bus_distance</th>\n",
       "      <th>education_score</th>\n",
       "      <th>...</th>\n",
       "      <th>Taoism1</th>\n",
       "      <th>Islam</th>\n",
       "      <th>Hinduism</th>\n",
       "      <th>Sikhism</th>\n",
       "      <th>Christianity_Catholic</th>\n",
       "      <th>Christianity_OtherChristians</th>\n",
       "      <th>OtherReligions</th>\n",
       "      <th>Chinese</th>\n",
       "      <th>Malays</th>\n",
       "      <th>Indians</th>\n",
       "    </tr>\n",
       "  </thead>\n",
       "  <tbody>\n",
       "    <tr>\n",
       "      <th>0</th>\n",
       "      <td>2024-01</td>\n",
       "      <td>ANG MO KIO</td>\n",
       "      <td>0.883747</td>\n",
       "      <td>-1.581737</td>\n",
       "      <td>-1.166418</td>\n",
       "      <td>1.370561</td>\n",
       "      <td>103.854823</td>\n",
       "      <td>-0.097301</td>\n",
       "      <td>-0.247573</td>\n",
       "      <td>-1.850318</td>\n",
       "      <td>...</td>\n",
       "      <td>0.120314</td>\n",
       "      <td>0.076259</td>\n",
       "      <td>0.046381</td>\n",
       "      <td>0.002381</td>\n",
       "      <td>0.084552</td>\n",
       "      <td>0.113769</td>\n",
       "      <td>0.00149</td>\n",
       "      <td>0.739422</td>\n",
       "      <td>0.142192</td>\n",
       "      <td>0.089282</td>\n",
       "    </tr>\n",
       "    <tr>\n",
       "      <th>1</th>\n",
       "      <td>2022-05</td>\n",
       "      <td>ANG MO KIO</td>\n",
       "      <td>-0.127351</td>\n",
       "      <td>-1.581737</td>\n",
       "      <td>-1.177795</td>\n",
       "      <td>1.362758</td>\n",
       "      <td>103.858015</td>\n",
       "      <td>-0.097301</td>\n",
       "      <td>-0.247573</td>\n",
       "      <td>-1.850318</td>\n",
       "      <td>...</td>\n",
       "      <td>0.120314</td>\n",
       "      <td>0.076259</td>\n",
       "      <td>0.046381</td>\n",
       "      <td>0.002381</td>\n",
       "      <td>0.084552</td>\n",
       "      <td>0.113769</td>\n",
       "      <td>0.00149</td>\n",
       "      <td>0.739422</td>\n",
       "      <td>0.142192</td>\n",
       "      <td>0.089282</td>\n",
       "    </tr>\n",
       "    <tr>\n",
       "      <th>2</th>\n",
       "      <td>2022-07</td>\n",
       "      <td>ANG MO KIO</td>\n",
       "      <td>0.378198</td>\n",
       "      <td>-1.581737</td>\n",
       "      <td>-1.225435</td>\n",
       "      <td>1.362758</td>\n",
       "      <td>103.858015</td>\n",
       "      <td>-0.097301</td>\n",
       "      <td>-0.247573</td>\n",
       "      <td>-1.850318</td>\n",
       "      <td>...</td>\n",
       "      <td>0.120314</td>\n",
       "      <td>0.076259</td>\n",
       "      <td>0.046381</td>\n",
       "      <td>0.002381</td>\n",
       "      <td>0.084552</td>\n",
       "      <td>0.113769</td>\n",
       "      <td>0.00149</td>\n",
       "      <td>0.739422</td>\n",
       "      <td>0.142192</td>\n",
       "      <td>0.089282</td>\n",
       "    </tr>\n",
       "    <tr>\n",
       "      <th>3</th>\n",
       "      <td>2022-08</td>\n",
       "      <td>ANG MO KIO</td>\n",
       "      <td>-1.138449</td>\n",
       "      <td>-1.581737</td>\n",
       "      <td>-1.248899</td>\n",
       "      <td>1.362758</td>\n",
       "      <td>103.858015</td>\n",
       "      <td>-0.097301</td>\n",
       "      <td>-0.247573</td>\n",
       "      <td>-1.850318</td>\n",
       "      <td>...</td>\n",
       "      <td>0.120314</td>\n",
       "      <td>0.076259</td>\n",
       "      <td>0.046381</td>\n",
       "      <td>0.002381</td>\n",
       "      <td>0.084552</td>\n",
       "      <td>0.113769</td>\n",
       "      <td>0.00149</td>\n",
       "      <td>0.739422</td>\n",
       "      <td>0.142192</td>\n",
       "      <td>0.089282</td>\n",
       "    </tr>\n",
       "    <tr>\n",
       "      <th>4</th>\n",
       "      <td>2023-01</td>\n",
       "      <td>ANG MO KIO</td>\n",
       "      <td>-0.632900</td>\n",
       "      <td>-1.581737</td>\n",
       "      <td>-1.248899</td>\n",
       "      <td>1.362758</td>\n",
       "      <td>103.858015</td>\n",
       "      <td>-0.097301</td>\n",
       "      <td>-0.247573</td>\n",
       "      <td>-1.850318</td>\n",
       "      <td>...</td>\n",
       "      <td>0.120314</td>\n",
       "      <td>0.076259</td>\n",
       "      <td>0.046381</td>\n",
       "      <td>0.002381</td>\n",
       "      <td>0.084552</td>\n",
       "      <td>0.113769</td>\n",
       "      <td>0.00149</td>\n",
       "      <td>0.739422</td>\n",
       "      <td>0.142192</td>\n",
       "      <td>0.089282</td>\n",
       "    </tr>\n",
       "  </tbody>\n",
       "</table>\n",
       "<p>5 rows × 31 columns</p>\n",
       "</div>"
      ],
      "text/plain": [
       "     month        town  storey_range  floor_area_sqm  remaining_lease  \\\n",
       "0  2024-01  ANG MO KIO      0.883747       -1.581737        -1.166418   \n",
       "1  2022-05  ANG MO KIO     -0.127351       -1.581737        -1.177795   \n",
       "2  2022-07  ANG MO KIO      0.378198       -1.581737        -1.225435   \n",
       "3  2022-08  ANG MO KIO     -1.138449       -1.581737        -1.248899   \n",
       "4  2023-01  ANG MO KIO     -0.632900       -1.581737        -1.248899   \n",
       "\n",
       "        lat         lon  nearest_mrt_distance  nearest_bus_distance  \\\n",
       "0  1.370561  103.854823             -0.097301             -0.247573   \n",
       "1  1.362758  103.858015             -0.097301             -0.247573   \n",
       "2  1.362758  103.858015             -0.097301             -0.247573   \n",
       "3  1.362758  103.858015             -0.097301             -0.247573   \n",
       "4  1.362758  103.858015             -0.097301             -0.247573   \n",
       "\n",
       "   education_score  ...   Taoism1     Islam  Hinduism   Sikhism  \\\n",
       "0        -1.850318  ...  0.120314  0.076259  0.046381  0.002381   \n",
       "1        -1.850318  ...  0.120314  0.076259  0.046381  0.002381   \n",
       "2        -1.850318  ...  0.120314  0.076259  0.046381  0.002381   \n",
       "3        -1.850318  ...  0.120314  0.076259  0.046381  0.002381   \n",
       "4        -1.850318  ...  0.120314  0.076259  0.046381  0.002381   \n",
       "\n",
       "   Christianity_Catholic  Christianity_OtherChristians  OtherReligions  \\\n",
       "0               0.084552                      0.113769         0.00149   \n",
       "1               0.084552                      0.113769         0.00149   \n",
       "2               0.084552                      0.113769         0.00149   \n",
       "3               0.084552                      0.113769         0.00149   \n",
       "4               0.084552                      0.113769         0.00149   \n",
       "\n",
       "    Chinese    Malays   Indians  \n",
       "0  0.739422  0.142192  0.089282  \n",
       "1  0.739422  0.142192  0.089282  \n",
       "2  0.739422  0.142192  0.089282  \n",
       "3  0.739422  0.142192  0.089282  \n",
       "4  0.739422  0.142192  0.089282  \n",
       "\n",
       "[5 rows x 31 columns]"
      ]
     },
     "execution_count": 10,
     "metadata": {},
     "output_type": "execute_result"
    }
   ],
   "source": [
    "df_resale_standardized = df_deflated_resale_sorted.copy()\n",
    "def standardized(col):\n",
    "    return (col - col.mean()) / col.std()\n",
    "\n",
    "columns_to_standardized = df_deflated_resale.select_dtypes(include=['float64', 'int64']).columns.difference(['lat', 'lon'])\n",
    "df_resale_standardized[columns_to_standardized] = df_deflated_resale[columns_to_standardized].apply(standardized)\n",
    "df_resale_standardized.head()\n"
   ]
  },
  {
   "cell_type": "markdown",
   "metadata": {},
   "source": [
    "### One-Hot encoding"
   ]
  },
  {
   "cell_type": "code",
   "execution_count": 11,
   "metadata": {},
   "outputs": [],
   "source": [
    "# drop the first value to avoid dummy variable trap\n",
    "df_encoded = pd.get_dummies(df_resale_standardized, columns=['town'], drop_first=True)"
   ]
  },
  {
   "cell_type": "code",
   "execution_count": 12,
   "metadata": {},
   "outputs": [],
   "source": [
    "df_encoded.to_csv('../data/cleaned/standardized_encoded_delfated_resale_price.csv', index=False)"
   ]
  }
 ],
 "metadata": {
  "kernelspec": {
   "display_name": "Python 3",
   "language": "python",
   "name": "python3"
  },
  "language_info": {
   "codemirror_mode": {
    "name": "ipython",
    "version": 3
   },
   "file_extension": ".py",
   "mimetype": "text/x-python",
   "name": "python",
   "nbconvert_exporter": "python",
   "pygments_lexer": "ipython3",
   "version": "3.10.6"
  }
 },
 "nbformat": 4,
 "nbformat_minor": 2
}
