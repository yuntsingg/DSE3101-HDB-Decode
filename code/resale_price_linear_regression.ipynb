{
 "cells": [
  {
   "cell_type": "code",
   "execution_count": 1,
   "metadata": {},
   "outputs": [],
   "source": [
    "import pandas as pd\n",
    "import numpy as np"
   ]
  },
  {
   "cell_type": "code",
   "execution_count": 2,
   "metadata": {},
   "outputs": [],
   "source": [
    "df_resale = pd.read_csv('../data/cleaned/resale_price_cleaned.csv')"
   ]
  },
  {
   "cell_type": "code",
   "execution_count": 3,
   "metadata": {},
   "outputs": [
    {
     "name": "stdout",
     "output_type": "stream",
     "text": [
      "<class 'pandas.core.frame.DataFrame'>\n",
      "RangeIndex: 201060 entries, 0 to 201059\n",
      "Data columns (total 25 columns):\n",
      " #   Column                      Non-Null Count   Dtype  \n",
      "---  ------                      --------------   -----  \n",
      " 0   month                       201060 non-null  object \n",
      " 1   town                        201060 non-null  object \n",
      " 2   flat_type                   201060 non-null  int64  \n",
      " 3   storey_range                201060 non-null  int64  \n",
      " 4   floor_area_sqm              201060 non-null  float64\n",
      " 5   flat_model                  201060 non-null  object \n",
      " 6   remaining_lease             201060 non-null  float64\n",
      " 7   resale_price                196986 non-null  float64\n",
      " 8   lat                         201060 non-null  float64\n",
      " 9   lon                         201060 non-null  float64\n",
      " 10  nearest_mrt_distance        201060 non-null  float64\n",
      " 11  nearest_bus_distance        201060 non-null  float64\n",
      " 12  education_score             201060 non-null  float64\n",
      " 13  shopping_score              201060 non-null  float64\n",
      " 14  food_score                  201060 non-null  float64\n",
      " 15  recreation_score            201060 non-null  float64\n",
      " 16  healthcare_score            201060 non-null  float64\n",
      " 17  CPI (base 2024-12)          196986 non-null  float64\n",
      " 18  inflation_rate (x100)       196986 non-null  float64\n",
      " 19  building_age_2025           201060 non-null  int64  \n",
      " 20  total_unemployment_rate     196986 non-null  float64\n",
      " 21  resident_unemployment_rate  196986 non-null  float64\n",
      " 22  interest_rate               199308 non-null  float64\n",
      " 23  fx_rate                     199308 non-null  float64\n",
      " 24  avg_household_income        201060 non-null  float64\n",
      "dtypes: float64(19), int64(3), object(3)\n",
      "memory usage: 38.3+ MB\n"
     ]
    }
   ],
   "source": [
    "df_resale.info()"
   ]
  },
  {
   "cell_type": "markdown",
   "metadata": {},
   "source": [
    "### Add inflation-adjusted resale price\n",
    "Real Price = Nominal Price * (CPI Base Year/ CPI Curret Month)"
   ]
  },
  {
   "cell_type": "code",
   "execution_count": 3,
   "metadata": {},
   "outputs": [],
   "source": [
    "\n",
    "df_deflated_resale = df_resale.copy()\n",
    "cpi_base = 100\n",
    "df_deflated_resale[\"deflated_resale_price\"] = df_deflated_resale[\"resale_price\"] * (100/ df_deflated_resale[\"CPI (base 2024-12)\"])"
   ]
  },
  {
   "cell_type": "markdown",
   "metadata": {},
   "source": [
    "### Drop correlated variables"
   ]
  },
  {
   "cell_type": "code",
   "execution_count": 4,
   "metadata": {},
   "outputs": [],
   "source": [
    "df_deflated_resale.drop(columns = ['resale_price', 'flat_type', 'building_age_2025', 'total_unemployment_rate', 'flat_model',\n",
    "                                   'CPI (base 2024-12)'], inplace = True)"
   ]
  },
  {
   "cell_type": "code",
   "execution_count": 21,
   "metadata": {},
   "outputs": [
    {
     "name": "stdout",
     "output_type": "stream",
     "text": [
      "<class 'pandas.core.frame.DataFrame'>\n",
      "RangeIndex: 201060 entries, 0 to 201059\n",
      "Data columns (total 20 columns):\n",
      " #   Column                      Non-Null Count   Dtype  \n",
      "---  ------                      --------------   -----  \n",
      " 0   month                       201060 non-null  object \n",
      " 1   town                        201060 non-null  object \n",
      " 2   storey_range                201060 non-null  int64  \n",
      " 3   floor_area_sqm              201060 non-null  float64\n",
      " 4   remaining_lease             201060 non-null  float64\n",
      " 5   lat                         201060 non-null  float64\n",
      " 6   lon                         201060 non-null  float64\n",
      " 7   nearest_mrt_distance        201060 non-null  float64\n",
      " 8   nearest_bus_distance        201060 non-null  float64\n",
      " 9   education_score             201060 non-null  float64\n",
      " 10  shopping_score              201060 non-null  float64\n",
      " 11  food_score                  201060 non-null  float64\n",
      " 12  recreation_score            201060 non-null  float64\n",
      " 13  healthcare_score            201060 non-null  float64\n",
      " 14  inflation_rate (x100)       196986 non-null  float64\n",
      " 15  resident_unemployment_rate  196986 non-null  float64\n",
      " 16  interest_rate               199308 non-null  float64\n",
      " 17  fx_rate                     199308 non-null  float64\n",
      " 18  avg_household_income        201060 non-null  float64\n",
      " 19  deflated_resale_price       196986 non-null  float64\n",
      "dtypes: float64(17), int64(1), object(2)\n",
      "memory usage: 30.7+ MB\n"
     ]
    }
   ],
   "source": [
    "df_deflated_resale.info()"
   ]
  },
  {
   "cell_type": "code",
   "execution_count": 9,
   "metadata": {},
   "outputs": [
    {
     "name": "stdout",
     "output_type": "stream",
     "text": [
      "/Users/judy/Desktop/DSE3101-Project/DSE3101-HDB-Decode/code\n"
     ]
    }
   ],
   "source": [
    "import os\n",
    "\n",
    "current_directory = os.getcwd()\n",
    "print(current_directory)"
   ]
  },
  {
   "cell_type": "markdown",
   "metadata": {},
   "source": [
    "### Add ethnicity and religion columns "
   ]
  },
  {
   "cell_type": "code",
   "execution_count": 5,
   "metadata": {},
   "outputs": [],
   "source": [
    "# from another dataset\n",
    "df_2 = pd.read_csv(\"../data/cleaned/resale_price_normalized_demo.csv\")"
   ]
  },
  {
   "cell_type": "code",
   "execution_count": 6,
   "metadata": {},
   "outputs": [
    {
     "name": "stdout",
     "output_type": "stream",
     "text": [
      "<class 'pandas.core.frame.DataFrame'>\n",
      "RangeIndex: 196986 entries, 0 to 196985\n",
      "Data columns (total 38 columns):\n",
      " #   Column                        Non-Null Count   Dtype  \n",
      "---  ------                        --------------   -----  \n",
      " 0   month                         196986 non-null  object \n",
      " 1   town                          196986 non-null  object \n",
      " 2   flat_type                     196986 non-null  float64\n",
      " 3   storey_range                  196986 non-null  float64\n",
      " 4   floor_area_sqm                196986 non-null  float64\n",
      " 5   flat_model                    196986 non-null  object \n",
      " 6   remaining_lease               196986 non-null  float64\n",
      " 7   resale_price                  196986 non-null  float64\n",
      " 8   lat                           196986 non-null  float64\n",
      " 9   lon                           196986 non-null  float64\n",
      " 10  nearest_mrt_distance          196986 non-null  float64\n",
      " 11  nearest_bus_distance          196986 non-null  float64\n",
      " 12  education_score               196986 non-null  float64\n",
      " 13  shopping_score                196986 non-null  float64\n",
      " 14  food_score                    196986 non-null  float64\n",
      " 15  recreation_score              196986 non-null  float64\n",
      " 16  healthcare_score              196986 non-null  float64\n",
      " 17  CPI (base 2024-12)            196986 non-null  float64\n",
      " 18  inflation_rate (x100)         196986 non-null  float64\n",
      " 19  building_age_2025             196986 non-null  float64\n",
      " 20  total_unemployment_rate       196986 non-null  float64\n",
      " 21  resident_unemployment_rate    196986 non-null  float64\n",
      " 22  interest_rate                 196986 non-null  float64\n",
      " 23  fx_rate                       196986 non-null  float64\n",
      " 24  avg_household_income          196986 non-null  float64\n",
      " 25  NoReligion                    196986 non-null  float64\n",
      " 26  Buddhism                      196986 non-null  float64\n",
      " 27  Taoism1                       196986 non-null  float64\n",
      " 28  Islam                         196986 non-null  float64\n",
      " 29  Hinduism                      196986 non-null  float64\n",
      " 30  Sikhism                       196986 non-null  float64\n",
      " 31  Christianity_Catholic         196986 non-null  float64\n",
      " 32  Christianity_OtherChristians  196986 non-null  float64\n",
      " 33  OtherReligions                196986 non-null  float64\n",
      " 34  Chinese                       196986 non-null  float64\n",
      " 35  Malays                        196986 non-null  float64\n",
      " 36  Indians                       196986 non-null  float64\n",
      " 37  Others                        196986 non-null  float64\n",
      "dtypes: float64(35), object(3)\n",
      "memory usage: 57.1+ MB\n"
     ]
    }
   ],
   "source": [
    "df_2.info()"
   ]
  },
  {
   "cell_type": "code",
   "execution_count": null,
   "metadata": {},
   "outputs": [],
   "source": [
    "# drop NoReligion and Others\n",
    "df_com = pd.merge(df_deflated_resale, df_2[['town','Buddhism','Taoism1','Islam','Hinduism','Sikhism',\n",
    "                                            'Christianity_Catholic','Christianity_OtherChristians','OtherReligions',\n",
    "                                            'Chinese', 'Malays','Indians']], on = 'town', how = 'left')"
   ]
  },
  {
   "cell_type": "code",
   "execution_count": null,
   "metadata": {},
   "outputs": [],
   "source": []
  },
  {
   "cell_type": "code",
   "execution_count": 31,
   "metadata": {},
   "outputs": [
    {
     "name": "stdout",
     "output_type": "stream",
     "text": [
      "['BUKIT MERAH' 'CENTRAL AREA' 'KALLANG/WHAMPOA' 'QUEENSTOWN'\n",
      " 'MARINE PARADE' 'CLEMENTI' 'GEYLANG' 'BUKIT TIMAH' 'JURONG EAST' 'BEDOK'\n",
      " 'JURONG WEST' 'TOA PAYOH' 'TAMPINES' 'BUKIT BATOK' 'BISHAN' 'SERANGOON'\n",
      " 'HOUGANG' 'ANG MO KIO' 'PASIR RIS' 'BUKIT PANJANG' 'CHOA CHU KANG'\n",
      " 'SENGKANG' 'PUNGGOL' 'YISHUN' 'WOODLANDS' 'SEMBAWANG']\n"
     ]
    }
   ],
   "source": [
    "unique_towns = df_2['town'].unique()\n",
    "print(unique_towns)"
   ]
  },
  {
   "cell_type": "code",
   "execution_count": 28,
   "metadata": {},
   "outputs": [
    {
     "ename": "AttributeError",
     "evalue": "'DataFrame' object has no attribute 'unique'",
     "output_type": "error",
     "traceback": [
      "\u001b[0;31m---------------------------------------------------------------------------\u001b[0m",
      "\u001b[0;31mAttributeError\u001b[0m                            Traceback (most recent call last)",
      "\u001b[0;32m/var/folders/pf/8p38cb0j67l67qdm6p40018r0000gn/T/ipykernel_7324/3685860271.py\u001b[0m in \u001b[0;36m?\u001b[0;34m()\u001b[0m\n\u001b[0;32m----> 1\u001b[0;31m \u001b[0mdf_2\u001b[0m\u001b[0;34m.\u001b[0m\u001b[0munique\u001b[0m\u001b[0;34m(\u001b[0m\u001b[0;34m)\u001b[0m\u001b[0;34m\u001b[0m\u001b[0;34m\u001b[0m\u001b[0m\n\u001b[0m",
      "\u001b[0;32m/Library/Frameworks/Python.framework/Versions/3.10/lib/python3.10/site-packages/pandas/core/generic.py\u001b[0m in \u001b[0;36m?\u001b[0;34m(self, name)\u001b[0m\n\u001b[1;32m   5571\u001b[0m             \u001b[0;32mand\u001b[0m \u001b[0mname\u001b[0m \u001b[0;32mnot\u001b[0m \u001b[0;32min\u001b[0m \u001b[0mself\u001b[0m\u001b[0;34m.\u001b[0m\u001b[0m_accessors\u001b[0m\u001b[0;34m\u001b[0m\u001b[0;34m\u001b[0m\u001b[0m\n\u001b[1;32m   5572\u001b[0m             \u001b[0;32mand\u001b[0m \u001b[0mself\u001b[0m\u001b[0;34m.\u001b[0m\u001b[0m_info_axis\u001b[0m\u001b[0;34m.\u001b[0m\u001b[0m_can_hold_identifiers_and_holds_name\u001b[0m\u001b[0;34m(\u001b[0m\u001b[0mname\u001b[0m\u001b[0;34m)\u001b[0m\u001b[0;34m\u001b[0m\u001b[0;34m\u001b[0m\u001b[0m\n\u001b[1;32m   5573\u001b[0m         ):\n\u001b[1;32m   5574\u001b[0m             \u001b[0;32mreturn\u001b[0m \u001b[0mself\u001b[0m\u001b[0;34m[\u001b[0m\u001b[0mname\u001b[0m\u001b[0;34m]\u001b[0m\u001b[0;34m\u001b[0m\u001b[0;34m\u001b[0m\u001b[0m\n\u001b[0;32m-> 5575\u001b[0;31m         \u001b[0;32mreturn\u001b[0m \u001b[0mobject\u001b[0m\u001b[0;34m.\u001b[0m\u001b[0m__getattribute__\u001b[0m\u001b[0;34m(\u001b[0m\u001b[0mself\u001b[0m\u001b[0;34m,\u001b[0m \u001b[0mname\u001b[0m\u001b[0;34m)\u001b[0m\u001b[0;34m\u001b[0m\u001b[0;34m\u001b[0m\u001b[0m\n\u001b[0m",
      "\u001b[0;31mAttributeError\u001b[0m: 'DataFrame' object has no attribute 'unique'"
     ]
    }
   ],
   "source": [
    "df_2.unique()"
   ]
  },
  {
   "cell_type": "markdown",
   "metadata": {},
   "source": [
    "### Standardization (z-score)"
   ]
  },
  {
   "cell_type": "code",
   "execution_count": 25,
   "metadata": {},
   "outputs": [
    {
     "data": {
      "application/vnd.microsoft.datawrangler.viewer.v0+json": {
       "columns": [
        {
         "name": "index",
         "rawType": "int64",
         "type": "integer"
        },
        {
         "name": "month",
         "rawType": "object",
         "type": "string"
        },
        {
         "name": "town",
         "rawType": "object",
         "type": "string"
        },
        {
         "name": "storey_range",
         "rawType": "float64",
         "type": "float"
        },
        {
         "name": "floor_area_sqm",
         "rawType": "float64",
         "type": "float"
        },
        {
         "name": "remaining_lease",
         "rawType": "float64",
         "type": "float"
        },
        {
         "name": "lat",
         "rawType": "float64",
         "type": "float"
        },
        {
         "name": "lon",
         "rawType": "float64",
         "type": "float"
        },
        {
         "name": "nearest_mrt_distance",
         "rawType": "float64",
         "type": "float"
        },
        {
         "name": "nearest_bus_distance",
         "rawType": "float64",
         "type": "float"
        },
        {
         "name": "education_score",
         "rawType": "float64",
         "type": "float"
        },
        {
         "name": "shopping_score",
         "rawType": "float64",
         "type": "float"
        },
        {
         "name": "food_score",
         "rawType": "float64",
         "type": "float"
        },
        {
         "name": "recreation_score",
         "rawType": "float64",
         "type": "float"
        },
        {
         "name": "healthcare_score",
         "rawType": "float64",
         "type": "float"
        },
        {
         "name": "inflation_rate (x100)",
         "rawType": "float64",
         "type": "float"
        },
        {
         "name": "resident_unemployment_rate",
         "rawType": "float64",
         "type": "float"
        },
        {
         "name": "interest_rate",
         "rawType": "float64",
         "type": "float"
        },
        {
         "name": "fx_rate",
         "rawType": "float64",
         "type": "float"
        },
        {
         "name": "avg_household_income",
         "rawType": "float64",
         "type": "float"
        },
        {
         "name": "deflated_resale_price",
         "rawType": "float64",
         "type": "float"
        }
       ],
       "conversionMethod": "pd.DataFrame",
       "ref": "d70691aa-f555-4eb3-b73b-15f8a653cc92",
       "rows": [
        [
         "0",
         "2017-03",
         "BUKIT MERAH",
         "0.883144625797837",
         "-1.5797357146697917",
         "-1.1612981124225872",
         "1.270379512",
         "103.823236",
         "-0.09920554603202472",
         "-0.24765726123487314",
         "-1.8475078954759863",
         "-0.6554086896653258",
         "1.2383032418609117",
         "-0.871097434062298",
         "-0.08118617735136675",
         "-0.3597250124274491",
         "-0.24751402648209406",
         "-0.8478298758315678",
         "1.9120700274530982",
         "1.1413539550134923",
         "-1.0709122071683947"
        ],
        [
         "1",
         "2017-05",
         "BUKIT MERAH",
         "-0.1274847711082835",
         "-1.5797357146697917",
         "-1.1726502711573985",
         "1.270379512",
         "103.823236",
         "-0.09920554603202472",
         "-0.24765726123487314",
         "-1.8475078954759863",
         "-0.6554086896653258",
         "1.2383032418609117",
         "-0.871097434062298",
         "-0.08118617735136675",
         "0.34424372545858367",
         "-0.24751402648209406",
         "-0.9338077925239473",
         "1.470344562475245",
         "1.1413539550134923",
         "-1.0722631518845887"
        ],
        [
         "2",
         "2018-01",
         "BUKIT MERAH",
         "0.3778299273447768",
         "-1.5797357146697917",
         "-1.220187435859423",
         "1.270379512",
         "103.823236",
         "-0.09920554603202472",
         "-0.24765726123487314",
         "-1.8475078954759863",
         "-0.6554086896653258",
         "1.2383032418609117",
         "-0.871097434062298",
         "-0.08118617735136675",
         "-0.9083938021109977",
         "-0.5292312392896379",
         "-0.6585187028442084",
         "-1.4187787490015535",
         "1.1413539550134923",
         "-1.171668556560851"
        ],
        [
         "3",
         "2018-06",
         "BUKIT MERAH",
         "-1.138114168014404",
         "-1.5797357146697917",
         "-1.243601263249972",
         "1.270379512",
         "103.823236",
         "-0.09920554603202472",
         "-0.24765726123487314",
         "-1.8475078954759863",
         "-0.6554086896653258",
         "1.2383032418609117",
         "-0.871097434062298",
         "-0.08118617735136675",
         "-0.3246081321479904",
         "-0.5292312392896379",
         "-0.2858509085323067",
         "-0.40798354085402877",
         "1.1413539550134923",
         "-1.3575254861198736"
        ],
        [
         "4",
         "2018-06",
         "BUKIT MERAH",
         "-0.6327994695613437",
         "-1.5797357146697917",
         "-1.243601263249972",
         "1.270379512",
         "103.823236",
         "-0.09920554603202472",
         "-0.24765726123487314",
         "-1.8475078954759863",
         "-0.6554086896653258",
         "1.2383032418609117",
         "-0.871097434062298",
         "-0.08118617735136675",
         "-0.3246081321479904",
         "-0.5292312392896379",
         "-0.2858509085323067",
         "-0.40798354085402877",
         "1.1413539550134923",
         "-1.3238757253794908"
        ]
       ],
       "shape": {
        "columns": 20,
        "rows": 5
       }
      },
      "text/html": [
       "<div>\n",
       "<style scoped>\n",
       "    .dataframe tbody tr th:only-of-type {\n",
       "        vertical-align: middle;\n",
       "    }\n",
       "\n",
       "    .dataframe tbody tr th {\n",
       "        vertical-align: top;\n",
       "    }\n",
       "\n",
       "    .dataframe thead th {\n",
       "        text-align: right;\n",
       "    }\n",
       "</style>\n",
       "<table border=\"1\" class=\"dataframe\">\n",
       "  <thead>\n",
       "    <tr style=\"text-align: right;\">\n",
       "      <th></th>\n",
       "      <th>month</th>\n",
       "      <th>town</th>\n",
       "      <th>storey_range</th>\n",
       "      <th>floor_area_sqm</th>\n",
       "      <th>remaining_lease</th>\n",
       "      <th>lat</th>\n",
       "      <th>lon</th>\n",
       "      <th>nearest_mrt_distance</th>\n",
       "      <th>nearest_bus_distance</th>\n",
       "      <th>education_score</th>\n",
       "      <th>shopping_score</th>\n",
       "      <th>food_score</th>\n",
       "      <th>recreation_score</th>\n",
       "      <th>healthcare_score</th>\n",
       "      <th>inflation_rate (x100)</th>\n",
       "      <th>resident_unemployment_rate</th>\n",
       "      <th>interest_rate</th>\n",
       "      <th>fx_rate</th>\n",
       "      <th>avg_household_income</th>\n",
       "      <th>deflated_resale_price</th>\n",
       "    </tr>\n",
       "  </thead>\n",
       "  <tbody>\n",
       "    <tr>\n",
       "      <th>0</th>\n",
       "      <td>2017-03</td>\n",
       "      <td>BUKIT MERAH</td>\n",
       "      <td>0.883145</td>\n",
       "      <td>-1.579736</td>\n",
       "      <td>-1.161298</td>\n",
       "      <td>1.27038</td>\n",
       "      <td>103.823236</td>\n",
       "      <td>-0.099206</td>\n",
       "      <td>-0.247657</td>\n",
       "      <td>-1.847508</td>\n",
       "      <td>-0.655409</td>\n",
       "      <td>1.238303</td>\n",
       "      <td>-0.871097</td>\n",
       "      <td>-0.081186</td>\n",
       "      <td>-0.359725</td>\n",
       "      <td>-0.247514</td>\n",
       "      <td>-0.847830</td>\n",
       "      <td>1.912070</td>\n",
       "      <td>1.141354</td>\n",
       "      <td>-1.070912</td>\n",
       "    </tr>\n",
       "    <tr>\n",
       "      <th>1</th>\n",
       "      <td>2017-05</td>\n",
       "      <td>BUKIT MERAH</td>\n",
       "      <td>-0.127485</td>\n",
       "      <td>-1.579736</td>\n",
       "      <td>-1.172650</td>\n",
       "      <td>1.27038</td>\n",
       "      <td>103.823236</td>\n",
       "      <td>-0.099206</td>\n",
       "      <td>-0.247657</td>\n",
       "      <td>-1.847508</td>\n",
       "      <td>-0.655409</td>\n",
       "      <td>1.238303</td>\n",
       "      <td>-0.871097</td>\n",
       "      <td>-0.081186</td>\n",
       "      <td>0.344244</td>\n",
       "      <td>-0.247514</td>\n",
       "      <td>-0.933808</td>\n",
       "      <td>1.470345</td>\n",
       "      <td>1.141354</td>\n",
       "      <td>-1.072263</td>\n",
       "    </tr>\n",
       "    <tr>\n",
       "      <th>2</th>\n",
       "      <td>2018-01</td>\n",
       "      <td>BUKIT MERAH</td>\n",
       "      <td>0.377830</td>\n",
       "      <td>-1.579736</td>\n",
       "      <td>-1.220187</td>\n",
       "      <td>1.27038</td>\n",
       "      <td>103.823236</td>\n",
       "      <td>-0.099206</td>\n",
       "      <td>-0.247657</td>\n",
       "      <td>-1.847508</td>\n",
       "      <td>-0.655409</td>\n",
       "      <td>1.238303</td>\n",
       "      <td>-0.871097</td>\n",
       "      <td>-0.081186</td>\n",
       "      <td>-0.908394</td>\n",
       "      <td>-0.529231</td>\n",
       "      <td>-0.658519</td>\n",
       "      <td>-1.418779</td>\n",
       "      <td>1.141354</td>\n",
       "      <td>-1.171669</td>\n",
       "    </tr>\n",
       "    <tr>\n",
       "      <th>3</th>\n",
       "      <td>2018-06</td>\n",
       "      <td>BUKIT MERAH</td>\n",
       "      <td>-1.138114</td>\n",
       "      <td>-1.579736</td>\n",
       "      <td>-1.243601</td>\n",
       "      <td>1.27038</td>\n",
       "      <td>103.823236</td>\n",
       "      <td>-0.099206</td>\n",
       "      <td>-0.247657</td>\n",
       "      <td>-1.847508</td>\n",
       "      <td>-0.655409</td>\n",
       "      <td>1.238303</td>\n",
       "      <td>-0.871097</td>\n",
       "      <td>-0.081186</td>\n",
       "      <td>-0.324608</td>\n",
       "      <td>-0.529231</td>\n",
       "      <td>-0.285851</td>\n",
       "      <td>-0.407984</td>\n",
       "      <td>1.141354</td>\n",
       "      <td>-1.357525</td>\n",
       "    </tr>\n",
       "    <tr>\n",
       "      <th>4</th>\n",
       "      <td>2018-06</td>\n",
       "      <td>BUKIT MERAH</td>\n",
       "      <td>-0.632799</td>\n",
       "      <td>-1.579736</td>\n",
       "      <td>-1.243601</td>\n",
       "      <td>1.27038</td>\n",
       "      <td>103.823236</td>\n",
       "      <td>-0.099206</td>\n",
       "      <td>-0.247657</td>\n",
       "      <td>-1.847508</td>\n",
       "      <td>-0.655409</td>\n",
       "      <td>1.238303</td>\n",
       "      <td>-0.871097</td>\n",
       "      <td>-0.081186</td>\n",
       "      <td>-0.324608</td>\n",
       "      <td>-0.529231</td>\n",
       "      <td>-0.285851</td>\n",
       "      <td>-0.407984</td>\n",
       "      <td>1.141354</td>\n",
       "      <td>-1.323876</td>\n",
       "    </tr>\n",
       "  </tbody>\n",
       "</table>\n",
       "</div>"
      ],
      "text/plain": [
       "     month         town  storey_range  floor_area_sqm  remaining_lease  \\\n",
       "0  2017-03  BUKIT MERAH      0.883145       -1.579736        -1.161298   \n",
       "1  2017-05  BUKIT MERAH     -0.127485       -1.579736        -1.172650   \n",
       "2  2018-01  BUKIT MERAH      0.377830       -1.579736        -1.220187   \n",
       "3  2018-06  BUKIT MERAH     -1.138114       -1.579736        -1.243601   \n",
       "4  2018-06  BUKIT MERAH     -0.632799       -1.579736        -1.243601   \n",
       "\n",
       "       lat         lon  nearest_mrt_distance  nearest_bus_distance  \\\n",
       "0  1.27038  103.823236             -0.099206             -0.247657   \n",
       "1  1.27038  103.823236             -0.099206             -0.247657   \n",
       "2  1.27038  103.823236             -0.099206             -0.247657   \n",
       "3  1.27038  103.823236             -0.099206             -0.247657   \n",
       "4  1.27038  103.823236             -0.099206             -0.247657   \n",
       "\n",
       "   education_score  shopping_score  food_score  recreation_score  \\\n",
       "0        -1.847508       -0.655409    1.238303         -0.871097   \n",
       "1        -1.847508       -0.655409    1.238303         -0.871097   \n",
       "2        -1.847508       -0.655409    1.238303         -0.871097   \n",
       "3        -1.847508       -0.655409    1.238303         -0.871097   \n",
       "4        -1.847508       -0.655409    1.238303         -0.871097   \n",
       "\n",
       "   healthcare_score  inflation_rate (x100)  resident_unemployment_rate  \\\n",
       "0         -0.081186              -0.359725                   -0.247514   \n",
       "1         -0.081186               0.344244                   -0.247514   \n",
       "2         -0.081186              -0.908394                   -0.529231   \n",
       "3         -0.081186              -0.324608                   -0.529231   \n",
       "4         -0.081186              -0.324608                   -0.529231   \n",
       "\n",
       "   interest_rate   fx_rate  avg_household_income  deflated_resale_price  \n",
       "0      -0.847830  1.912070              1.141354              -1.070912  \n",
       "1      -0.933808  1.470345              1.141354              -1.072263  \n",
       "2      -0.658519 -1.418779              1.141354              -1.171669  \n",
       "3      -0.285851 -0.407984              1.141354              -1.357525  \n",
       "4      -0.285851 -0.407984              1.141354              -1.323876  "
      ]
     },
     "execution_count": 25,
     "metadata": {},
     "output_type": "execute_result"
    }
   ],
   "source": [
    "df_resale_standardized = df_deflated_resale.copy()\n",
    "def standardized(col):\n",
    "    return (col - col.mean()) / col.std()\n",
    "\n",
    "columns_to_standardized = df_deflated_resale.select_dtypes(include=['float64', 'int64']).columns.difference(['lat', 'lon'])\n",
    "df_resale_standardized[columns_to_standardized] = df_deflated_resale[columns_to_standardized].apply(standardized)\n",
    "df_resale_standardized.head()\n"
   ]
  },
  {
   "cell_type": "markdown",
   "metadata": {},
   "source": [
    "### One-Hot encoding"
   ]
  },
  {
   "cell_type": "code",
   "execution_count": 26,
   "metadata": {},
   "outputs": [],
   "source": [
    "# drop the first value to avoid dummy variable trap\n",
    "df_encoded = pd.get_dummies(df_resale_standardized, columns=['town'], drop_first=True)"
   ]
  },
  {
   "cell_type": "code",
   "execution_count": 27,
   "metadata": {},
   "outputs": [],
   "source": [
    "df_encoded.to_csv('../data/cleaned/standardized_encoded_delfated_resale_price.csv', index=False)"
   ]
  }
 ],
 "metadata": {
  "kernelspec": {
   "display_name": "Python 3",
   "language": "python",
   "name": "python3"
  },
  "language_info": {
   "codemirror_mode": {
    "name": "ipython",
    "version": 3
   },
   "file_extension": ".py",
   "mimetype": "text/x-python",
   "name": "python",
   "nbconvert_exporter": "python",
   "pygments_lexer": "ipython3",
   "version": "3.10.6"
  }
 },
 "nbformat": 4,
 "nbformat_minor": 2
}
