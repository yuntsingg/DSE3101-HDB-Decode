{
 "cells": [
  {
   "cell_type": "code",
   "execution_count": 1,
   "metadata": {},
   "outputs": [],
   "source": [
    "import pandas as pd\n",
    "import numpy as np"
   ]
  },
  {
   "cell_type": "code",
   "execution_count": 87,
   "metadata": {},
   "outputs": [],
   "source": [
    "df_resale = pd.read_csv('../data/cleaned/resale_price_cleaned.csv')"
   ]
  },
  {
   "cell_type": "markdown",
   "metadata": {},
   "source": [
    "### Add inflation-adjusted resale price\n",
    "Real Price = Nominal Price * (CPI Base Year/ CPI Curret Month)"
   ]
  },
  {
   "cell_type": "code",
   "execution_count": 6,
   "metadata": {},
   "outputs": [],
   "source": [
    "df_deflated_resale = df_resale.copy()\n",
    "cpi_base = 100\n",
    "df_deflated_resale[\"deflated_resale_price\"] = df_deflated_resale[\"resale_price\"] * (100/ df_deflated_resale[\"CPI (base 2024-12)\"])"
   ]
  },
  {
   "cell_type": "markdown",
   "metadata": {},
   "source": [
    "### Year, Month"
   ]
  },
  {
   "cell_type": "code",
   "execution_count": 88,
   "metadata": {},
   "outputs": [],
   "source": [
    "df_resale['month'] = pd.to_datetime(df_resale['month'])\n",
    "df_resale['year'] = df_resale['month'].dt.year\n",
    "df_resale['month'] = df_resale['month'].dt.month"
   ]
  },
  {
   "cell_type": "markdown",
   "metadata": {},
   "source": [
    "### Drop correlated variables"
   ]
  },
  {
   "cell_type": "code",
   "execution_count": 89,
   "metadata": {},
   "outputs": [],
   "source": [
    "df_resale.dropna(inplace = True)"
   ]
  },
  {
   "cell_type": "code",
   "execution_count": 90,
   "metadata": {},
   "outputs": [],
   "source": [
    "df_resale.drop(columns = ['flat_type', 'building_age_2025', 'total_unemployment_rate', 'flat_model',\n",
    "                                   'CPI (base 2024-12)'], inplace = True)"
   ]
  },
  {
   "cell_type": "code",
   "execution_count": 79,
   "metadata": {},
   "outputs": [
    {
     "name": "stdout",
     "output_type": "stream",
     "text": [
      "<class 'pandas.core.frame.DataFrame'>\n",
      "Int64Index: 196986 entries, 0 to 201058\n",
      "Data columns (total 21 columns):\n",
      " #   Column                      Non-Null Count   Dtype  \n",
      "---  ------                      --------------   -----  \n",
      " 0   month                       196986 non-null  int64  \n",
      " 1   town                        196986 non-null  object \n",
      " 2   storey_range                196986 non-null  int64  \n",
      " 3   floor_area_sqm              196986 non-null  float64\n",
      " 4   remaining_lease             196986 non-null  float64\n",
      " 5   resale_price                196986 non-null  float64\n",
      " 6   lat                         196986 non-null  float64\n",
      " 7   lon                         196986 non-null  float64\n",
      " 8   nearest_mrt_distance        196986 non-null  float64\n",
      " 9   nearest_bus_distance        196986 non-null  float64\n",
      " 10  education_score             196986 non-null  float64\n",
      " 11  shopping_score              196986 non-null  float64\n",
      " 12  food_score                  196986 non-null  float64\n",
      " 13  recreation_score            196986 non-null  float64\n",
      " 14  healthcare_score            196986 non-null  float64\n",
      " 15  inflation_rate (x100)       196986 non-null  float64\n",
      " 16  resident_unemployment_rate  196986 non-null  float64\n",
      " 17  interest_rate               196986 non-null  float64\n",
      " 18  fx_rate                     196986 non-null  float64\n",
      " 19  avg_household_income        196986 non-null  float64\n",
      " 20  year                        196986 non-null  int64  \n",
      "dtypes: float64(17), int64(3), object(1)\n",
      "memory usage: 33.1+ MB\n"
     ]
    }
   ],
   "source": [
    "df_resale.info()"
   ]
  },
  {
   "cell_type": "code",
   "execution_count": 9,
   "metadata": {},
   "outputs": [
    {
     "name": "stdout",
     "output_type": "stream",
     "text": [
      "/Users/judy/Desktop/DSE3101-Project/DSE3101-HDB-Decode/code\n"
     ]
    }
   ],
   "source": [
    "import os\n",
    "\n",
    "current_directory = os.getcwd()\n",
    "print(current_directory)"
   ]
  },
  {
   "cell_type": "markdown",
   "metadata": {},
   "source": [
    "### Add ethnicity and religion columns "
   ]
  },
  {
   "cell_type": "code",
   "execution_count": 91,
   "metadata": {},
   "outputs": [],
   "source": [
    "df_2 = pd.read_csv(\"../data/cleaned/resale_price_normalized_demo.csv\")"
   ]
  },
  {
   "cell_type": "code",
   "execution_count": 69,
   "metadata": {},
   "outputs": [
    {
     "name": "stdout",
     "output_type": "stream",
     "text": [
      "<class 'pandas.core.frame.DataFrame'>\n",
      "RangeIndex: 196986 entries, 0 to 196985\n",
      "Data columns (total 38 columns):\n",
      " #   Column                        Non-Null Count   Dtype  \n",
      "---  ------                        --------------   -----  \n",
      " 0   month                         196986 non-null  object \n",
      " 1   town                          196986 non-null  object \n",
      " 2   flat_type                     196986 non-null  float64\n",
      " 3   storey_range                  196986 non-null  float64\n",
      " 4   floor_area_sqm                196986 non-null  float64\n",
      " 5   flat_model                    196986 non-null  object \n",
      " 6   remaining_lease               196986 non-null  float64\n",
      " 7   resale_price                  196986 non-null  float64\n",
      " 8   lat                           196986 non-null  float64\n",
      " 9   lon                           196986 non-null  float64\n",
      " 10  nearest_mrt_distance          196986 non-null  float64\n",
      " 11  nearest_bus_distance          196986 non-null  float64\n",
      " 12  education_score               196986 non-null  float64\n",
      " 13  shopping_score                196986 non-null  float64\n",
      " 14  food_score                    196986 non-null  float64\n",
      " 15  recreation_score              196986 non-null  float64\n",
      " 16  healthcare_score              196986 non-null  float64\n",
      " 17  CPI (base 2024-12)            196986 non-null  float64\n",
      " 18  inflation_rate (x100)         196986 non-null  float64\n",
      " 19  building_age_2025             196986 non-null  float64\n",
      " 20  total_unemployment_rate       196986 non-null  float64\n",
      " 21  resident_unemployment_rate    196986 non-null  float64\n",
      " 22  interest_rate                 196986 non-null  float64\n",
      " 23  fx_rate                       196986 non-null  float64\n",
      " 24  avg_household_income          196986 non-null  float64\n",
      " 25  NoReligion                    196986 non-null  float64\n",
      " 26  Buddhism                      196986 non-null  float64\n",
      " 27  Taoism1                       196986 non-null  float64\n",
      " 28  Islam                         196986 non-null  float64\n",
      " 29  Hinduism                      196986 non-null  float64\n",
      " 30  Sikhism                       196986 non-null  float64\n",
      " 31  Christianity_Catholic         196986 non-null  float64\n",
      " 32  Christianity_OtherChristians  196986 non-null  float64\n",
      " 33  OtherReligions                196986 non-null  float64\n",
      " 34  Chinese                       196986 non-null  float64\n",
      " 35  Malays                        196986 non-null  float64\n",
      " 36  Indians                       196986 non-null  float64\n",
      " 37  Others                        196986 non-null  float64\n",
      "dtypes: float64(35), object(3)\n",
      "memory usage: 57.1+ MB\n"
     ]
    }
   ],
   "source": [
    "df_2.info()"
   ]
  },
  {
   "cell_type": "code",
   "execution_count": 92,
   "metadata": {},
   "outputs": [],
   "source": [
    "# from another dataset\n",
    "\n",
    "\n",
    "# drop NoReligion and Others\n",
    "df_2 = df_2[['town','NoReligion','Buddhism','Taoism1','Islam','Hinduism','Sikhism',\n",
    "            'Christianity_Catholic','Christianity_OtherChristians','OtherReligions','Chinese', 'Malays','Indians','Others']]\n",
    "\n",
    "df_2_selected = df_2[['town','Buddhism']]"
   ]
  },
  {
   "cell_type": "code",
   "execution_count": 93,
   "metadata": {},
   "outputs": [
    {
     "data": {
      "text/plain": [
       "True"
      ]
     },
     "execution_count": 93,
     "metadata": {},
     "output_type": "execute_result"
    }
   ],
   "source": [
    "df_resale = df_resale.sort_values('town').reset_index(drop=True)\n",
    "df_2_sorted = df_2.sort_values('town').reset_index(drop=True)\n",
    "(df_resale['town'] == df_2_sorted['town']).all()"
   ]
  },
  {
   "cell_type": "code",
   "execution_count": 94,
   "metadata": {},
   "outputs": [],
   "source": [
    "columns_to_add = ['NoReligion','Buddhism','Taoism1','Islam','Hinduism','Sikhism','Christianity_Catholic',\n",
    "                  'Christianity_OtherChristians','OtherReligions','Chinese', 'Malays','Indians','Others']\n",
    "\n",
    "for col in columns_to_add:\n",
    "    df_resale[col] = df_2_sorted[col]"
   ]
  },
  {
   "cell_type": "markdown",
   "metadata": {},
   "source": [
    "Merge takes up too much RAM memory..."
   ]
  },
  {
   "cell_type": "code",
   "execution_count": 24,
   "metadata": {},
   "outputs": [],
   "source": [
    "df_deflated_resale_small = df_deflated_resale.head(2000)\n",
    "df_2_small = df_2.head(2000)\n",
    "df_com = pd.merge(df_deflated_resale_small, df_2_small, on = 'town', how = 'left')"
   ]
  },
  {
   "cell_type": "code",
   "execution_count": null,
   "metadata": {},
   "outputs": [
    {
     "ename": "",
     "evalue": "",
     "output_type": "error",
     "traceback": [
      "\u001b[1;31mThe Kernel crashed while executing code in the current cell or a previous cell. \n",
      "\u001b[1;31mPlease review the code in the cell(s) to identify a possible cause of the failure. \n",
      "\u001b[1;31mClick <a href='https://aka.ms/vscodeJupyterKernelCrash'>here</a> for more info. \n",
      "\u001b[1;31mView Jupyter <a href='command:jupyter.viewOutput'>log</a> for further details."
     ]
    }
   ],
   "source": [
    "df_com = pd.merge(df_deflated_resale, df_2_selected, on = 'town', how = 'left')"
   ]
  },
  {
   "cell_type": "code",
   "execution_count": 81,
   "metadata": {},
   "outputs": [
    {
     "name": "stdout",
     "output_type": "stream",
     "text": [
      "<class 'pandas.core.frame.DataFrame'>\n",
      "Int64Index: 196986 entries, 0 to 201058\n",
      "Data columns (total 34 columns):\n",
      " #   Column                        Non-Null Count   Dtype  \n",
      "---  ------                        --------------   -----  \n",
      " 0   month                         196986 non-null  int64  \n",
      " 1   town                          196986 non-null  object \n",
      " 2   storey_range                  196986 non-null  int64  \n",
      " 3   floor_area_sqm                196986 non-null  float64\n",
      " 4   remaining_lease               196986 non-null  float64\n",
      " 5   resale_price                  196986 non-null  float64\n",
      " 6   lat                           196986 non-null  float64\n",
      " 7   lon                           196986 non-null  float64\n",
      " 8   nearest_mrt_distance          196986 non-null  float64\n",
      " 9   nearest_bus_distance          196986 non-null  float64\n",
      " 10  education_score               196986 non-null  float64\n",
      " 11  shopping_score                196986 non-null  float64\n",
      " 12  food_score                    196986 non-null  float64\n",
      " 13  recreation_score              196986 non-null  float64\n",
      " 14  healthcare_score              196986 non-null  float64\n",
      " 15  inflation_rate (x100)         196986 non-null  float64\n",
      " 16  resident_unemployment_rate    196986 non-null  float64\n",
      " 17  interest_rate                 196986 non-null  float64\n",
      " 18  fx_rate                       196986 non-null  float64\n",
      " 19  avg_household_income          196986 non-null  float64\n",
      " 20  year                          196986 non-null  int64  \n",
      " 21  NoReligion                    193060 non-null  float64\n",
      " 22  Buddhism                      193060 non-null  float64\n",
      " 23  Taoism1                       193060 non-null  float64\n",
      " 24  Islam                         193060 non-null  float64\n",
      " 25  Hinduism                      193060 non-null  float64\n",
      " 26  Sikhism                       193060 non-null  float64\n",
      " 27  Christianity_Catholic         193060 non-null  float64\n",
      " 28  Christianity_OtherChristians  193060 non-null  float64\n",
      " 29  OtherReligions                193060 non-null  float64\n",
      " 30  Chinese                       193060 non-null  float64\n",
      " 31  Malays                        193060 non-null  float64\n",
      " 32  Indians                       193060 non-null  float64\n",
      " 33  Others                        193060 non-null  float64\n",
      "dtypes: float64(30), int64(3), object(1)\n",
      "memory usage: 52.6+ MB\n"
     ]
    }
   ],
   "source": [
    "df_resale.info()"
   ]
  },
  {
   "cell_type": "markdown",
   "metadata": {},
   "source": [
    "### Standardization (z-score)"
   ]
  },
  {
   "cell_type": "code",
   "execution_count": 95,
   "metadata": {},
   "outputs": [
    {
     "data": {
      "application/vnd.microsoft.datawrangler.viewer.v0+json": {
       "columns": [
        {
         "name": "index",
         "rawType": "int64",
         "type": "integer"
        },
        {
         "name": "month",
         "rawType": "int64",
         "type": "integer"
        },
        {
         "name": "town",
         "rawType": "object",
         "type": "string"
        },
        {
         "name": "storey_range",
         "rawType": "float64",
         "type": "float"
        },
        {
         "name": "floor_area_sqm",
         "rawType": "float64",
         "type": "float"
        },
        {
         "name": "remaining_lease",
         "rawType": "float64",
         "type": "float"
        },
        {
         "name": "resale_price",
         "rawType": "float64",
         "type": "float"
        },
        {
         "name": "lat",
         "rawType": "float64",
         "type": "float"
        },
        {
         "name": "lon",
         "rawType": "float64",
         "type": "float"
        },
        {
         "name": "nearest_mrt_distance",
         "rawType": "float64",
         "type": "float"
        },
        {
         "name": "nearest_bus_distance",
         "rawType": "float64",
         "type": "float"
        },
        {
         "name": "education_score",
         "rawType": "float64",
         "type": "float"
        },
        {
         "name": "shopping_score",
         "rawType": "float64",
         "type": "float"
        },
        {
         "name": "food_score",
         "rawType": "float64",
         "type": "float"
        },
        {
         "name": "recreation_score",
         "rawType": "float64",
         "type": "float"
        },
        {
         "name": "healthcare_score",
         "rawType": "float64",
         "type": "float"
        },
        {
         "name": "inflation_rate (x100)",
         "rawType": "float64",
         "type": "float"
        },
        {
         "name": "resident_unemployment_rate",
         "rawType": "float64",
         "type": "float"
        },
        {
         "name": "interest_rate",
         "rawType": "float64",
         "type": "float"
        },
        {
         "name": "fx_rate",
         "rawType": "float64",
         "type": "float"
        },
        {
         "name": "avg_household_income",
         "rawType": "float64",
         "type": "float"
        },
        {
         "name": "year",
         "rawType": "int64",
         "type": "integer"
        },
        {
         "name": "NoReligion",
         "rawType": "float64",
         "type": "float"
        },
        {
         "name": "Buddhism",
         "rawType": "float64",
         "type": "float"
        },
        {
         "name": "Taoism1",
         "rawType": "float64",
         "type": "float"
        },
        {
         "name": "Islam",
         "rawType": "float64",
         "type": "float"
        },
        {
         "name": "Hinduism",
         "rawType": "float64",
         "type": "float"
        },
        {
         "name": "Sikhism",
         "rawType": "float64",
         "type": "float"
        },
        {
         "name": "Christianity_Catholic",
         "rawType": "float64",
         "type": "float"
        },
        {
         "name": "Christianity_OtherChristians",
         "rawType": "float64",
         "type": "float"
        },
        {
         "name": "OtherReligions",
         "rawType": "float64",
         "type": "float"
        },
        {
         "name": "Chinese",
         "rawType": "float64",
         "type": "float"
        },
        {
         "name": "Malays",
         "rawType": "float64",
         "type": "float"
        },
        {
         "name": "Indians",
         "rawType": "float64",
         "type": "float"
        },
        {
         "name": "Others",
         "rawType": "float64",
         "type": "float"
        }
       ],
       "conversionMethod": "pd.DataFrame",
       "ref": "244d70f6-efbc-405e-b87a-e4b40341caa6",
       "rows": [
        [
         "0",
         "1",
         "ANG MO KIO",
         "0.3781980262304336",
         "-0.20843057804957638",
         "-1.4266597140723885",
         "-0.15153372866263665",
         "1.37056144",
         "103.8548231",
         "-0.15132742601140856",
         "0.37292337757989397",
         "-0.22415785725351747",
         "-0.39832839657666486",
         "1.3002258756835834",
         "1.6700239842287943",
         "0.5496089836404437",
         "-2.0320707532185187",
         "-0.8109484520971818",
         "1.272841054267328",
         "-0.8743258720565746",
         "-0.5208721900834041",
         "2024",
         "0.6286593662581879",
         "0.8717616100352282",
         "2.0381930875328798",
         "-1.4223666413231733",
         "-0.2720237303443521",
         "-0.7154583696546497",
         "1.007616385514029",
         "0.10279568985526427",
         "-1.1983642812541857",
         "5.73274324967833e-15",
         "-1.6089133222892516e-15",
         "-1.1213575161422844e-14",
         "6.562959102247541e-15"
        ],
        [
         "1",
         "5",
         "ANG MO KIO",
         "0.3781980262304336",
         "-0.6245841383120992",
         "-0.9765695496821293",
         "-0.7673681496915463",
         "1.362757847",
         "103.8580153",
         "1.407387149685564",
         "1.4220306203944735",
         "0.11621880799382803",
         "-0.949710767003342",
         "0.9599160870257128",
         "1.8283177546468217",
         "-0.033237220059205375",
         "1.866662183155206",
         "-0.5292312392896379",
         "-0.7287830521983064",
         "0.9419956740343655",
         "-0.5208721900834041",
         "2022",
         "0.6286593662581879",
         "0.8717616100352282",
         "2.0381930875328798",
         "-1.4223666413231733",
         "-0.2720237303443521",
         "-0.7154583696546497",
         "1.007616385514029",
         "0.10279568985526427",
         "-1.1983642812541857",
         "5.73274324967833e-15",
         "-1.6089133222892516e-15",
         "-1.1213575161422844e-14",
         "6.562959102247541e-15"
        ],
        [
         "2",
         "7",
         "ANG MO KIO",
         "0.8837469825225279",
         "2.122029359420552",
         "-0.9822578929919588",
         "2.269221237363829",
         "1.362757847",
         "103.8580153",
         "1.407387149685564",
         "1.4220306203944735",
         "0.11621880799382803",
         "-0.949710767003342",
         "0.9599160870257128",
         "1.8283177546468217",
         "-0.033237220059205375",
         "-0.09955999288411399",
         "-0.5292312392896379",
         "0.2965273110478391",
         "1.4762078934728793",
         "-0.5208721900834041",
         "2022",
         "0.6286593662581879",
         "0.8717616100352282",
         "2.0381930875328798",
         "-1.4223666413231733",
         "-0.2720237303443521",
         "-0.7154583696546497",
         "1.007616385514029",
         "0.10279568985526427",
         "-1.1983642812541857",
         "5.73274324967833e-15",
         "-1.6089133222892516e-15",
         "-1.1213575161422844e-14",
         "6.562959102247541e-15"
        ],
        [
         "3",
         "8",
         "ANG MO KIO",
         "0.3781980262304336",
         "-1.2488144787058837",
         "-0.9886572792155172",
         "-0.9956110409720174",
         "1.362757847",
         "103.8580153",
         "1.407387149685564",
         "1.4220306203944735",
         "0.11621880799382803",
         "-0.949710767003342",
         "0.9599160870257128",
         "1.8283177546468217",
         "-0.033237220059205375",
         "1.7658342166489698",
         "-0.5292312392896379",
         "0.42274607814752685",
         "1.0567523730248654",
         "-0.5208721900834041",
         "2022",
         "0.6286593662581879",
         "0.8717616100352282",
         "2.0381930875328798",
         "-1.4223666413231733",
         "-0.2720237303443521",
         "-0.7154583696546497",
         "1.007616385514029",
         "0.10279568985526427",
         "-1.1983642812541857",
         "5.73274324967833e-15",
         "-1.6089133222892516e-15",
         "-1.1213575161422844e-14",
         "6.562959102247541e-15"
        ],
        [
         "4",
         "1",
         "ANG MO KIO",
         "-0.6328998863537552",
         "-1.2488144787058837",
         "-1.017810038678393",
         "-1.085645905677933",
         "1.362757847",
         "103.8580153",
         "1.407387149685564",
         "1.4220306203944735",
         "0.11621880799382803",
         "-0.949710767003342",
         "0.9599160870257128",
         "1.8283177546468217",
         "-0.033237220059205375",
         "-0.010181571091843396",
         "-1.0926656649047255",
         "1.551405294271169",
         "-1.2581672445420162",
         "-0.5208721900834041",
         "2023",
         "0.6286593662581879",
         "0.8717616100352282",
         "2.0381930875328798",
         "-1.4223666413231733",
         "-0.2720237303443521",
         "-0.7154583696546497",
         "1.007616385514029",
         "0.10279568985526427",
         "-1.1983642812541857",
         "5.73274324967833e-15",
         "-1.6089133222892516e-15",
         "-1.1213575161422844e-14",
         "6.562959102247541e-15"
        ]
       ],
       "shape": {
        "columns": 34,
        "rows": 5
       }
      },
      "text/html": [
       "<div>\n",
       "<style scoped>\n",
       "    .dataframe tbody tr th:only-of-type {\n",
       "        vertical-align: middle;\n",
       "    }\n",
       "\n",
       "    .dataframe tbody tr th {\n",
       "        vertical-align: top;\n",
       "    }\n",
       "\n",
       "    .dataframe thead th {\n",
       "        text-align: right;\n",
       "    }\n",
       "</style>\n",
       "<table border=\"1\" class=\"dataframe\">\n",
       "  <thead>\n",
       "    <tr style=\"text-align: right;\">\n",
       "      <th></th>\n",
       "      <th>month</th>\n",
       "      <th>town</th>\n",
       "      <th>storey_range</th>\n",
       "      <th>floor_area_sqm</th>\n",
       "      <th>remaining_lease</th>\n",
       "      <th>resale_price</th>\n",
       "      <th>lat</th>\n",
       "      <th>lon</th>\n",
       "      <th>nearest_mrt_distance</th>\n",
       "      <th>nearest_bus_distance</th>\n",
       "      <th>...</th>\n",
       "      <th>Islam</th>\n",
       "      <th>Hinduism</th>\n",
       "      <th>Sikhism</th>\n",
       "      <th>Christianity_Catholic</th>\n",
       "      <th>Christianity_OtherChristians</th>\n",
       "      <th>OtherReligions</th>\n",
       "      <th>Chinese</th>\n",
       "      <th>Malays</th>\n",
       "      <th>Indians</th>\n",
       "      <th>Others</th>\n",
       "    </tr>\n",
       "  </thead>\n",
       "  <tbody>\n",
       "    <tr>\n",
       "      <th>0</th>\n",
       "      <td>1</td>\n",
       "      <td>ANG MO KIO</td>\n",
       "      <td>0.378198</td>\n",
       "      <td>-0.208431</td>\n",
       "      <td>-1.426660</td>\n",
       "      <td>-0.151534</td>\n",
       "      <td>1.370561</td>\n",
       "      <td>103.854823</td>\n",
       "      <td>-0.151327</td>\n",
       "      <td>0.372923</td>\n",
       "      <td>...</td>\n",
       "      <td>-1.422367</td>\n",
       "      <td>-0.272024</td>\n",
       "      <td>-0.715458</td>\n",
       "      <td>1.007616</td>\n",
       "      <td>0.102796</td>\n",
       "      <td>-1.198364</td>\n",
       "      <td>5.732743e-15</td>\n",
       "      <td>-1.608913e-15</td>\n",
       "      <td>-1.121358e-14</td>\n",
       "      <td>6.562959e-15</td>\n",
       "    </tr>\n",
       "    <tr>\n",
       "      <th>1</th>\n",
       "      <td>5</td>\n",
       "      <td>ANG MO KIO</td>\n",
       "      <td>0.378198</td>\n",
       "      <td>-0.624584</td>\n",
       "      <td>-0.976570</td>\n",
       "      <td>-0.767368</td>\n",
       "      <td>1.362758</td>\n",
       "      <td>103.858015</td>\n",
       "      <td>1.407387</td>\n",
       "      <td>1.422031</td>\n",
       "      <td>...</td>\n",
       "      <td>-1.422367</td>\n",
       "      <td>-0.272024</td>\n",
       "      <td>-0.715458</td>\n",
       "      <td>1.007616</td>\n",
       "      <td>0.102796</td>\n",
       "      <td>-1.198364</td>\n",
       "      <td>5.732743e-15</td>\n",
       "      <td>-1.608913e-15</td>\n",
       "      <td>-1.121358e-14</td>\n",
       "      <td>6.562959e-15</td>\n",
       "    </tr>\n",
       "    <tr>\n",
       "      <th>2</th>\n",
       "      <td>7</td>\n",
       "      <td>ANG MO KIO</td>\n",
       "      <td>0.883747</td>\n",
       "      <td>2.122029</td>\n",
       "      <td>-0.982258</td>\n",
       "      <td>2.269221</td>\n",
       "      <td>1.362758</td>\n",
       "      <td>103.858015</td>\n",
       "      <td>1.407387</td>\n",
       "      <td>1.422031</td>\n",
       "      <td>...</td>\n",
       "      <td>-1.422367</td>\n",
       "      <td>-0.272024</td>\n",
       "      <td>-0.715458</td>\n",
       "      <td>1.007616</td>\n",
       "      <td>0.102796</td>\n",
       "      <td>-1.198364</td>\n",
       "      <td>5.732743e-15</td>\n",
       "      <td>-1.608913e-15</td>\n",
       "      <td>-1.121358e-14</td>\n",
       "      <td>6.562959e-15</td>\n",
       "    </tr>\n",
       "    <tr>\n",
       "      <th>3</th>\n",
       "      <td>8</td>\n",
       "      <td>ANG MO KIO</td>\n",
       "      <td>0.378198</td>\n",
       "      <td>-1.248814</td>\n",
       "      <td>-0.988657</td>\n",
       "      <td>-0.995611</td>\n",
       "      <td>1.362758</td>\n",
       "      <td>103.858015</td>\n",
       "      <td>1.407387</td>\n",
       "      <td>1.422031</td>\n",
       "      <td>...</td>\n",
       "      <td>-1.422367</td>\n",
       "      <td>-0.272024</td>\n",
       "      <td>-0.715458</td>\n",
       "      <td>1.007616</td>\n",
       "      <td>0.102796</td>\n",
       "      <td>-1.198364</td>\n",
       "      <td>5.732743e-15</td>\n",
       "      <td>-1.608913e-15</td>\n",
       "      <td>-1.121358e-14</td>\n",
       "      <td>6.562959e-15</td>\n",
       "    </tr>\n",
       "    <tr>\n",
       "      <th>4</th>\n",
       "      <td>1</td>\n",
       "      <td>ANG MO KIO</td>\n",
       "      <td>-0.632900</td>\n",
       "      <td>-1.248814</td>\n",
       "      <td>-1.017810</td>\n",
       "      <td>-1.085646</td>\n",
       "      <td>1.362758</td>\n",
       "      <td>103.858015</td>\n",
       "      <td>1.407387</td>\n",
       "      <td>1.422031</td>\n",
       "      <td>...</td>\n",
       "      <td>-1.422367</td>\n",
       "      <td>-0.272024</td>\n",
       "      <td>-0.715458</td>\n",
       "      <td>1.007616</td>\n",
       "      <td>0.102796</td>\n",
       "      <td>-1.198364</td>\n",
       "      <td>5.732743e-15</td>\n",
       "      <td>-1.608913e-15</td>\n",
       "      <td>-1.121358e-14</td>\n",
       "      <td>6.562959e-15</td>\n",
       "    </tr>\n",
       "  </tbody>\n",
       "</table>\n",
       "<p>5 rows × 34 columns</p>\n",
       "</div>"
      ],
      "text/plain": [
       "   month        town  storey_range  floor_area_sqm  remaining_lease  \\\n",
       "0      1  ANG MO KIO      0.378198       -0.208431        -1.426660   \n",
       "1      5  ANG MO KIO      0.378198       -0.624584        -0.976570   \n",
       "2      7  ANG MO KIO      0.883747        2.122029        -0.982258   \n",
       "3      8  ANG MO KIO      0.378198       -1.248814        -0.988657   \n",
       "4      1  ANG MO KIO     -0.632900       -1.248814        -1.017810   \n",
       "\n",
       "   resale_price       lat         lon  nearest_mrt_distance  \\\n",
       "0     -0.151534  1.370561  103.854823             -0.151327   \n",
       "1     -0.767368  1.362758  103.858015              1.407387   \n",
       "2      2.269221  1.362758  103.858015              1.407387   \n",
       "3     -0.995611  1.362758  103.858015              1.407387   \n",
       "4     -1.085646  1.362758  103.858015              1.407387   \n",
       "\n",
       "   nearest_bus_distance  ...     Islam  Hinduism   Sikhism  \\\n",
       "0              0.372923  ... -1.422367 -0.272024 -0.715458   \n",
       "1              1.422031  ... -1.422367 -0.272024 -0.715458   \n",
       "2              1.422031  ... -1.422367 -0.272024 -0.715458   \n",
       "3              1.422031  ... -1.422367 -0.272024 -0.715458   \n",
       "4              1.422031  ... -1.422367 -0.272024 -0.715458   \n",
       "\n",
       "   Christianity_Catholic  Christianity_OtherChristians  OtherReligions  \\\n",
       "0               1.007616                      0.102796       -1.198364   \n",
       "1               1.007616                      0.102796       -1.198364   \n",
       "2               1.007616                      0.102796       -1.198364   \n",
       "3               1.007616                      0.102796       -1.198364   \n",
       "4               1.007616                      0.102796       -1.198364   \n",
       "\n",
       "        Chinese        Malays       Indians        Others  \n",
       "0  5.732743e-15 -1.608913e-15 -1.121358e-14  6.562959e-15  \n",
       "1  5.732743e-15 -1.608913e-15 -1.121358e-14  6.562959e-15  \n",
       "2  5.732743e-15 -1.608913e-15 -1.121358e-14  6.562959e-15  \n",
       "3  5.732743e-15 -1.608913e-15 -1.121358e-14  6.562959e-15  \n",
       "4  5.732743e-15 -1.608913e-15 -1.121358e-14  6.562959e-15  \n",
       "\n",
       "[5 rows x 34 columns]"
      ]
     },
     "execution_count": 95,
     "metadata": {},
     "output_type": "execute_result"
    }
   ],
   "source": [
    "df_resale_standardized = df_resale.copy()\n",
    "def standardized(col):\n",
    "    return (col - col.mean()) / col.std()\n",
    "\n",
    "columns_to_standardized = df_resale.select_dtypes(include=['float64', 'int64']).columns.difference(['year','month','lat','lon'])\n",
    "df_resale_standardized[columns_to_standardized] = df_resale[columns_to_standardized].apply(standardized)\n",
    "df_resale_standardized.head()\n"
   ]
  },
  {
   "cell_type": "markdown",
   "metadata": {},
   "source": [
    "### One-Hot encoding"
   ]
  },
  {
   "cell_type": "code",
   "execution_count": 96,
   "metadata": {},
   "outputs": [],
   "source": [
    "# drop the first value to avoid dummy variable trap\n",
    "df_encoded = pd.get_dummies(df_resale_standardized, columns=['town'], drop_first=True)"
   ]
  },
  {
   "cell_type": "code",
   "execution_count": 100,
   "metadata": {},
   "outputs": [
    {
     "name": "stdout",
     "output_type": "stream",
     "text": [
      "<class 'pandas.core.frame.DataFrame'>\n",
      "RangeIndex: 196986 entries, 0 to 196985\n",
      "Data columns (total 58 columns):\n",
      " #   Column                        Non-Null Count   Dtype  \n",
      "---  ------                        --------------   -----  \n",
      " 0   month                         196986 non-null  int64  \n",
      " 1   storey_range                  196986 non-null  float64\n",
      " 2   floor_area_sqm                196986 non-null  float64\n",
      " 3   remaining_lease               196986 non-null  float64\n",
      " 4   resale_price                  196986 non-null  float64\n",
      " 5   lat                           196986 non-null  float64\n",
      " 6   lon                           196986 non-null  float64\n",
      " 7   nearest_mrt_distance          196986 non-null  float64\n",
      " 8   nearest_bus_distance          196986 non-null  float64\n",
      " 9   education_score               196986 non-null  float64\n",
      " 10  shopping_score                196986 non-null  float64\n",
      " 11  food_score                    196986 non-null  float64\n",
      " 12  recreation_score              196986 non-null  float64\n",
      " 13  healthcare_score              196986 non-null  float64\n",
      " 14  inflation_rate (x100)         196986 non-null  float64\n",
      " 15  resident_unemployment_rate    196986 non-null  float64\n",
      " 16  interest_rate                 196986 non-null  float64\n",
      " 17  fx_rate                       196986 non-null  float64\n",
      " 18  avg_household_income          196986 non-null  float64\n",
      " 19  year                          196986 non-null  int64  \n",
      " 20  NoReligion                    196986 non-null  float64\n",
      " 21  Buddhism                      196986 non-null  float64\n",
      " 22  Taoism1                       196986 non-null  float64\n",
      " 23  Islam                         196986 non-null  float64\n",
      " 24  Hinduism                      196986 non-null  float64\n",
      " 25  Sikhism                       196986 non-null  float64\n",
      " 26  Christianity_Catholic         196986 non-null  float64\n",
      " 27  Christianity_OtherChristians  196986 non-null  float64\n",
      " 28  OtherReligions                196986 non-null  float64\n",
      " 29  Chinese                       196986 non-null  float64\n",
      " 30  Malays                        196986 non-null  float64\n",
      " 31  Indians                       196986 non-null  float64\n",
      " 32  Others                        196986 non-null  float64\n",
      " 33  town_BEDOK                    196986 non-null  uint8  \n",
      " 34  town_BISHAN                   196986 non-null  uint8  \n",
      " 35  town_BUKIT BATOK              196986 non-null  uint8  \n",
      " 36  town_BUKIT MERAH              196986 non-null  uint8  \n",
      " 37  town_BUKIT PANJANG            196986 non-null  uint8  \n",
      " 38  town_BUKIT TIMAH              196986 non-null  uint8  \n",
      " 39  town_CENTRAL AREA             196986 non-null  uint8  \n",
      " 40  town_CHOA CHU KANG            196986 non-null  uint8  \n",
      " 41  town_CLEMENTI                 196986 non-null  uint8  \n",
      " 42  town_GEYLANG                  196986 non-null  uint8  \n",
      " 43  town_HOUGANG                  196986 non-null  uint8  \n",
      " 44  town_JURONG EAST              196986 non-null  uint8  \n",
      " 45  town_JURONG WEST              196986 non-null  uint8  \n",
      " 46  town_KALLANG/WHAMPOA          196986 non-null  uint8  \n",
      " 47  town_MARINE PARADE            196986 non-null  uint8  \n",
      " 48  town_PASIR RIS                196986 non-null  uint8  \n",
      " 49  town_PUNGGOL                  196986 non-null  uint8  \n",
      " 50  town_QUEENSTOWN               196986 non-null  uint8  \n",
      " 51  town_SEMBAWANG                196986 non-null  uint8  \n",
      " 52  town_SENGKANG                 196986 non-null  uint8  \n",
      " 53  town_SERANGOON                196986 non-null  uint8  \n",
      " 54  town_TAMPINES                 196986 non-null  uint8  \n",
      " 55  town_TOA PAYOH                196986 non-null  uint8  \n",
      " 56  town_WOODLANDS                196986 non-null  uint8  \n",
      " 57  town_YISHUN                   196986 non-null  uint8  \n",
      "dtypes: float64(31), int64(2), uint8(25)\n",
      "memory usage: 54.3 MB\n"
     ]
    }
   ],
   "source": [
    "df_encoded.info()"
   ]
  },
  {
   "cell_type": "code",
   "execution_count": 97,
   "metadata": {},
   "outputs": [],
   "source": [
    "df_encoded.to_csv('../data/cleaned/standardized_encoded_delfated_resale_price.csv', index=False)"
   ]
  }
 ],
 "metadata": {
  "kernelspec": {
   "display_name": "Python 3",
   "language": "python",
   "name": "python3"
  },
  "language_info": {
   "codemirror_mode": {
    "name": "ipython",
    "version": 3
   },
   "file_extension": ".py",
   "mimetype": "text/x-python",
   "name": "python",
   "nbconvert_exporter": "python",
   "pygments_lexer": "ipython3",
   "version": "3.10.6"
  }
 },
 "nbformat": 4,
 "nbformat_minor": 2
}
