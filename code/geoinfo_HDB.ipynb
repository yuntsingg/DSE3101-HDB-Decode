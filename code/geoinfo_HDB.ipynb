{
 "cells": [
  {
   "cell_type": "code",
   "execution_count": null,
   "id": "7ad5e7a9",
   "metadata": {},
   "outputs": [],
   "source": [
    "import pandas as pd\n",
    "import numpy as np\n",
    "import geopandas as gpd\n",
    "from shapely.geometry import shape, mapping, Point\n",
    "from bs4 import BeautifulSoup\n",
    "import re\n",
    "import joblib\n",
    "import requests\n",
    "import json\n",
    "from math import radians, cos, sin, sqrt, atan2"
   ]
  },
  {
   "cell_type": "code",
   "execution_count": null,
   "id": "089c1a71",
   "metadata": {},
   "outputs": [],
   "source": [
    "gdf = gpd.read_file(\"/Users/erica/Downloads/HDBExistingBuilding (1).geojson\")\n",
    "gdf['geometry'] = gdf['geometry'].apply(lambda geom: shape(mapping(geom)))\n",
    "gdf['Description_clean'] = gdf['Description'].apply(lambda x: BeautifulSoup(x, \"html.parser\").get_text())\n",
    "gdf['postal_code'] = gdf['Description_clean'].str.extract(r'POSTAL_COD\\s+(\\d{6})')\n",
    "gdf.drop(columns=['Description', 'Description_clean', 'Name', 'geometry'], inplace=True)\n",
    "gdf"
   ]
  }
 ],
 "metadata": {
  "kernelspec": {
   "display_name": "base",
   "language": "python",
   "name": "python3"
  },
  "language_info": {
   "codemirror_mode": {
    "name": "ipython",
    "version": 3
   },
   "file_extension": ".py",
   "mimetype": "text/x-python",
   "name": "python",
   "nbconvert_exporter": "python",
   "pygments_lexer": "ipython3",
   "version": "3.11.7"
  }
 },
 "nbformat": 4,
 "nbformat_minor": 5
}
