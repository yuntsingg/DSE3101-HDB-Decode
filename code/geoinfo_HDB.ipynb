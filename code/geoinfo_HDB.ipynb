{
 "cells": [
  {
   "cell_type": "code",
   "execution_count": 1,
   "id": "7ad5e7a9",
   "metadata": {},
   "outputs": [],
   "source": [
    "import pandas as pd\n",
    "import numpy as np\n",
    "import geopandas as gpd"
   ]
  },
  {
   "cell_type": "code",
   "execution_count": 3,
   "id": "5d89d784",
   "metadata": {},
   "outputs": [],
   "source": [
    "from shapely.geometry import shape, mapping"
   ]
  },
  {
   "cell_type": "code",
   "execution_count": 5,
   "id": "553668ed",
   "metadata": {},
   "outputs": [],
   "source": [
    "from bs4 import BeautifulSoup\n"
   ]
  },
  {
   "cell_type": "code",
   "execution_count": 8,
   "id": "1953278b",
   "metadata": {},
   "outputs": [],
   "source": [
    "import re"
   ]
  },
  {
   "cell_type": "code",
   "execution_count": null,
   "id": "089c1a71",
   "metadata": {},
   "outputs": [],
   "source": [
    "gdf = gpd.read_file(\"/Users/erica/Downloads/HDBExistingBuilding (1).geojson\")\n"
   ]
  },
  {
   "cell_type": "code",
   "execution_count": 4,
   "id": "851a35de",
   "metadata": {},
   "outputs": [],
   "source": [
    "gdf['geometry'] = gdf['geometry'].apply(lambda geom: shape(mapping(geom)))\n"
   ]
  },
  {
   "cell_type": "code",
   "execution_count": 6,
   "id": "ca90c6a2",
   "metadata": {},
   "outputs": [],
   "source": [
    "gdf['Description_clean'] = gdf['Description'].apply(lambda x: BeautifulSoup(x, \"html.parser\").get_text())"
   ]
  },
  {
   "cell_type": "code",
   "execution_count": 9,
   "id": "7fa5b1ed",
   "metadata": {},
   "outputs": [],
   "source": [
    "gdf['postal_code'] = gdf['Description_clean'].str.extract(r'POSTAL_COD\\s+(\\d{6})')"
   ]
  },
  {
   "cell_type": "code",
   "execution_count": null,
   "id": "8baf74df",
   "metadata": {},
   "outputs": [],
   "source": []
  }
 ],
 "metadata": {
  "kernelspec": {
   "display_name": "base",
   "language": "python",
   "name": "python3"
  },
  "language_info": {
   "codemirror_mode": {
    "name": "ipython",
    "version": 3
   },
   "file_extension": ".py",
   "mimetype": "text/x-python",
   "name": "python",
   "nbconvert_exporter": "python",
   "pygments_lexer": "ipython3",
   "version": "3.11.7"
  }
 },
 "nbformat": 4,
 "nbformat_minor": 5
}
