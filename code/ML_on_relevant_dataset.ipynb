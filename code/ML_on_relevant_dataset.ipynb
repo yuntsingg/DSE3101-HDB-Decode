{
 "cells": [
  {
   "cell_type": "code",
   "execution_count": 5,
   "metadata": {},
   "outputs": [],
   "source": [
    "import pandas as pd\n",
    "import numpy as np\n",
    "from sklearn.model_selection import train_test_split\n",
    "from sklearn.preprocessing import OneHotEncoder, StandardScaler\n",
    "from sklearn.pipeline import Pipeline\n",
    "from sklearn.compose import ColumnTransformer\n",
    "from sklearn.ensemble import RandomForestRegressor\n",
    "from sklearn.metrics import mean_absolute_error, mean_squared_error, r2_score\n",
    "import matplotlib.pyplot as plt\n",
    "\n",
    "df = pd.read_csv('/Users/erica/Desktop/Y3S2/DSE3101/Local/reslae_price_normalized_for_ML.csv')"
   ]
  },
  {
   "cell_type": "code",
   "execution_count": 6,
   "metadata": {},
   "outputs": [],
   "source": [
    "df = df.drop(columns=['flat_model', 'building_age_2025', 'total_unemployment_rate', \n",
    "                      'Chinese', 'Malays', 'Indians', 'Others', 'fx_rate', 'floor_area_sqm'])\n",
    "df_normalized_clean = df.copy()\n",
    "\n",
    "def normalize(col):\n",
    "    return (col - col.min()) / (col.max() - col.min()) if col.max() != col.min() else col\n",
    "\n",
    "df_normalized_clean['month'] = pd.to_datetime(df_normalized_clean['month'])\n",
    "df_normalized_clean['year'] = df_normalized_clean['month'].dt.year.astype(float)\n",
    "df_normalized_clean['month_num'] = df_normalized_clean['month'].dt.month.astype(float)\n",
    "df_normalized_clean = df_normalized_clean.drop(columns=['month'])\n",
    "df_normalized_clean = df_normalized_clean.drop(columns = ['CPI (base 2024-12)'])\n",
    "\n",
    "columns_to_normalize = ['inflation_rate (x100)', 'interest_rate', 'priv_prop',\n",
    "                        'resident_unemployment_rate', 'month_num', 'year']\n",
    "\n",
    "df_normalized_clean[columns_to_normalize] = df_normalized_clean[columns_to_normalize].apply(normalize)\n",
    "\n",
    "\n",
    "categorical_features = ['town']\n",
    "numerical_features = [\n",
    "    'storey_range', 'remaining_lease',\n",
    "    'lat', 'lon', 'nearest_mrt_distance', 'nearest_bus_distance',\n",
    "    'education_score', 'shopping_score', 'food_score', 'recreation_score',\n",
    "    'healthcare_score', 'inflation_rate (x100)',\n",
    "    'resident_unemployment_rate',\n",
    "    'interest_rate', 'avg_household_income', 'priv_prop', 'flat_type'\n",
    "]\n",
    "numerical_features.extend(['year', 'month_num'])\n",
    "demographic_features = [\n",
    "    'NoReligion', 'Buddhism', 'Taoism1', 'Islam', 'Hinduism', 'Sikhism',\n",
    "    'Christianity_Catholic', 'Christianity_OtherChristians', 'OtherReligions'\n",
    "]\n",
    "numerical_features.extend(demographic_features)  # Add to numerical pipeline\n",
    "\n",
    "preprocessor = ColumnTransformer(\n",
    "    transformers=[\n",
    "        ('num', StandardScaler(), numerical_features),\n",
    "        ('cat', OneHotEncoder(handle_unknown='ignore'), categorical_features)\n",
    "    ]\n",
    ")\n",
    "\n",
    "df_now = df_normalized_clean.copy()"
   ]
  },
  {
   "cell_type": "code",
   "execution_count": 7,
   "metadata": {},
   "outputs": [],
   "source": [
    "dec_2024_values = df_now[(df_now['year'] == 1.0) & (df_now['month_num'] == 1.0)].iloc[0]\n",
    "df_now['inflation_rate (x100)'] = dec_2024_values['inflation_rate (x100)']\n",
    "df_now['resident_unemployment_rate'] = dec_2024_values['resident_unemployment_rate']\n",
    "df_now['interest_rate'] = dec_2024_values['interest_rate']\n",
    "df_now['avg_household_income'] = dec_2024_values['avg_household_income']\n",
    "df_now['year'] = dec_2024_values['year']\n",
    "df_now['month_num'] = dec_2024_values['month_num']"
   ]
  },
  {
   "cell_type": "code",
   "execution_count": 8,
   "metadata": {},
   "outputs": [],
   "source": [
    "import joblib\n",
    "X_now = df_now.drop(columns=['resale_price'])\n",
    "loaded_model = joblib.load('/Users/erica/Desktop/Y3S2/DSE3101/Local/best_resale_price_model.pkl')\n",
    "df_now['predicted_resale_price'] = loaded_model.predict(X_now)"
   ]
  },
  {
   "cell_type": "code",
   "execution_count": 9,
   "metadata": {},
   "outputs": [],
   "source": [
    "df_original = pd.read_csv('../data/cleaned/resale_price_cleaned.csv')\n",
    "df_original = df_original.dropna(subset=['resale_price'])"
   ]
  },
  {
   "cell_type": "code",
   "execution_count": 10,
   "metadata": {},
   "outputs": [],
   "source": [
    "original_max = df_original['resale_price'].max()\n",
    "original_min = df_original['resale_price'].min()\n",
    "df_now['prediction_reverted'] = df_now['predicted_resale_price'] * (original_max - original_min) + original_min"
   ]
  },
  {
   "cell_type": "code",
   "execution_count": 11,
   "metadata": {},
   "outputs": [],
   "source": [
    "original_flat_type_max = df_original['flat_type'].max()\n",
    "original_flat_type_min = df_original['flat_type'].min()\n",
    "df_now['flat_type_reverted'] = df_now['flat_type'] * (original_flat_type_max - original_flat_type_min) + original_flat_type_min"
   ]
  },
  {
   "cell_type": "code",
   "execution_count": 12,
   "metadata": {},
   "outputs": [],
   "source": [
    "original_storey_range_max = df_original['storey_range'].max()\n",
    "original_storey_range_min = df_original['storey_range'].min()\n",
    "df_now['storey_range_reverted'] = df_now['storey_range'] * (original_storey_range_max - original_storey_range_min) + original_storey_range_min"
   ]
  },
  {
   "cell_type": "code",
   "execution_count": 13,
   "metadata": {},
   "outputs": [],
   "source": [
    "original_remaining_lease_max = df_original['remaining_lease'].max()\n",
    "original_remaining_lease_min = df_original['remaining_lease'].min()\n",
    "df_now['remaining_lease_reverted'] = df_now['remaining_lease'] * (original_remaining_lease_max - original_remaining_lease_min) + original_remaining_lease_min"
   ]
  },
  {
   "cell_type": "code",
   "execution_count": 14,
   "metadata": {},
   "outputs": [],
   "source": [
    "df_now = df_now[['town', 'lat', 'lon', 'prediction_reverted', 'flat_type_reverted', 'storey_range_reverted',\n",
    "                 'remaining_lease_reverted']]"
   ]
  },
  {
   "cell_type": "code",
   "execution_count": 15,
   "metadata": {},
   "outputs": [],
   "source": [
    "df_now['flat_type_reverted'] = df_now['flat_type_reverted'].round(1)"
   ]
  },
  {
   "cell_type": "code",
   "execution_count": 17,
   "metadata": {},
   "outputs": [],
   "source": [
    "flat_mapping = {\n",
    "    '1 ROOM': 1.0,\n",
    "    '2 ROOM': 2.0,\n",
    "    '3 ROOM': 3.0,\n",
    "    '4 ROOM': 4.0,\n",
    "    '5 ROOM': 5.0,\n",
    "    'MULTI-GENERATION': 6.0,\n",
    "    'EXECUTIVE': 7.0\n",
    "}\n",
    "\n",
    "# Create reverse mapping\n",
    "reverse_flat_mapping = {v: k for k, v in flat_mapping.items()}\n",
    "\n",
    "# Example: Apply to a column named \"flat_type\"\n",
    "# (Assuming \"flat_type\" currently contains values like 1, 2, 3...)\n",
    "df_now['flat_type'] = df_now['flat_type_reverted'].map(reverse_flat_mapping)"
   ]
  },
  {
   "cell_type": "code",
   "execution_count": 18,
   "metadata": {},
   "outputs": [],
   "source": [
    "def convert_storey_range(val):\n",
    "    try:\n",
    "        val = int(val)\n",
    "        return f\"{val} To {val + 2}\"\n",
    "    except:\n",
    "        return None\n",
    "\n",
    "df_now['storey_range'] = df_now['storey_range_reverted'].apply(convert_storey_range)\n"
   ]
  },
  {
   "cell_type": "code",
   "execution_count": 19,
   "metadata": {},
   "outputs": [],
   "source": [
    "original_lat_max = df_original['lat'].max()\n",
    "original_lat_min = df_original['lat'].min()\n",
    "df_now['lat_reverted'] = df_now['lat'] * (original_lat_max - original_lat_min) + original_lat_min"
   ]
  },
  {
   "cell_type": "code",
   "execution_count": 20,
   "metadata": {},
   "outputs": [],
   "source": [
    "original_lon_max = df_original['lon'].max()\n",
    "original_lon_min = df_original['lon'].min()\n",
    "df_now['lon_reverted'] = df_now['lon'] * (original_lon_max - original_lon_min) + original_lon_min"
   ]
  },
  {
   "cell_type": "code",
   "execution_count": 21,
   "metadata": {},
   "outputs": [],
   "source": [
    "df_geo = pd.read_csv('../../Local/hdb_geospatial.csv')"
   ]
  },
  {
   "cell_type": "code",
   "execution_count": 22,
   "metadata": {},
   "outputs": [],
   "source": [
    "df_merged = pd.merge(df_now, df_geo, left_on=['lat_reverted', 'lon_reverted'], right_on=['latitude', 'longitude'], how='inner')"
   ]
  },
  {
   "cell_type": "code",
   "execution_count": 23,
   "metadata": {},
   "outputs": [],
   "source": [
    "df_merged = df_merged.drop(columns=['lat', 'lon', 'lat_reverted', 'lon_reverted', 'flat_type_reverted', 'storey_range_reverted'])"
   ]
  },
  {
   "cell_type": "code",
   "execution_count": 24,
   "metadata": {},
   "outputs": [],
   "source": [
    "df_merged.dropna(inplace = True)"
   ]
  },
  {
   "cell_type": "code",
   "execution_count": 25,
   "metadata": {},
   "outputs": [],
   "source": [
    "df_merged = df_merged.drop(columns = ['Unnamed: 0'])"
   ]
  },
  {
   "cell_type": "code",
   "execution_count": 26,
   "metadata": {},
   "outputs": [],
   "source": [
    "df_merged.to_csv('/Users/erica/Desktop/Y3S2/DSE3101/Local/find_your_ideal_home_corrected.csv', index=False)"
   ]
  }
 ],
 "metadata": {
  "kernelspec": {
   "display_name": "base",
   "language": "python",
   "name": "python3"
  },
  "language_info": {
   "codemirror_mode": {
    "name": "ipython",
    "version": 3
   },
   "file_extension": ".py",
   "mimetype": "text/x-python",
   "name": "python",
   "nbconvert_exporter": "python",
   "pygments_lexer": "ipython3",
   "version": "3.11.7"
  }
 },
 "nbformat": 4,
 "nbformat_minor": 2
}
