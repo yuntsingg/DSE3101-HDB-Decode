{
 "cells": [
  {
   "cell_type": "markdown",
   "metadata": {},
   "source": [
    "### Rental Price Information for 2025"
   ]
  },
  {
   "cell_type": "code",
   "execution_count": 2,
   "metadata": {},
   "outputs": [
    {
     "name": "stdout",
     "output_type": "stream",
     "text": [
      "Succefully transformed to dataframe\n"
     ]
    }
   ],
   "source": [
    "import requests\n",
    "import pandas as pd\n",
    "import matplotlib.pyplot as plt\n",
    "import seaborn as sns\n",
    "\n",
    "          \n",
    "dataset_id = \"d_c9f57187485a850908655db0e8cfe651\"\n",
    "url = \"https://data.gov.sg/api/action/datastore_search?resource_id=\"  + dataset_id\n",
    "        \n",
    "response = requests.get(url)\n",
    "data = response.json()\n",
    "\n",
    "# Extract records\n",
    "if \"result\" in data and \"records\" in data[\"result\"]:\n",
    "    df = pd.DataFrame(data[\"result\"][\"records\"])\n",
    "    print(\"Succefully transformed to dataframe\")  # Display first few rows\n",
    "else:\n",
    "    print(\"Error: Unable to fetch data or invalid response format\")"
   ]
  },
  {
   "cell_type": "code",
   "execution_count": 3,
   "metadata": {},
   "outputs": [
    {
     "data": {
      "application/vnd.microsoft.datawrangler.viewer.v0+json": {
       "columns": [
        {
         "name": "index",
         "rawType": "int64",
         "type": "integer"
        },
        {
         "name": "_id",
         "rawType": "int64",
         "type": "integer"
        },
        {
         "name": "rent_approval_date",
         "rawType": "object",
         "type": "string"
        },
        {
         "name": "town",
         "rawType": "object",
         "type": "string"
        },
        {
         "name": "block",
         "rawType": "object",
         "type": "string"
        },
        {
         "name": "street_name",
         "rawType": "object",
         "type": "string"
        },
        {
         "name": "flat_type",
         "rawType": "object",
         "type": "string"
        },
        {
         "name": "monthly_rent",
         "rawType": "object",
         "type": "string"
        }
       ],
       "conversionMethod": "pd.DataFrame",
       "ref": "b0f6d47a-bd3e-4803-9016-8bb92187f6c9",
       "rows": [
        [
         "0",
         "1",
         "2021-01",
         "ANG MO KIO",
         "105",
         "ANG MO KIO AVE 4",
         "4-ROOM",
         "2000"
        ],
        [
         "1",
         "2",
         "2021-01",
         "ANG MO KIO",
         "107",
         "ANG MO KIO AVE 4",
         "3-ROOM",
         "1750"
        ],
        [
         "2",
         "3",
         "2021-01",
         "ANG MO KIO",
         "108",
         "ANG MO KIO AVE 4",
         "3-ROOM",
         "1750"
        ],
        [
         "3",
         "4",
         "2021-01",
         "ANG MO KIO",
         "111",
         "ANG MO KIO AVE 4",
         "5-ROOM",
         "2230"
        ],
        [
         "4",
         "5",
         "2021-01",
         "ANG MO KIO",
         "111",
         "ANG MO KIO AVE 4",
         "5-ROOM",
         "2450"
        ]
       ],
       "shape": {
        "columns": 7,
        "rows": 5
       }
      },
      "text/html": [
       "<div>\n",
       "<style scoped>\n",
       "    .dataframe tbody tr th:only-of-type {\n",
       "        vertical-align: middle;\n",
       "    }\n",
       "\n",
       "    .dataframe tbody tr th {\n",
       "        vertical-align: top;\n",
       "    }\n",
       "\n",
       "    .dataframe thead th {\n",
       "        text-align: right;\n",
       "    }\n",
       "</style>\n",
       "<table border=\"1\" class=\"dataframe\">\n",
       "  <thead>\n",
       "    <tr style=\"text-align: right;\">\n",
       "      <th></th>\n",
       "      <th>_id</th>\n",
       "      <th>rent_approval_date</th>\n",
       "      <th>town</th>\n",
       "      <th>block</th>\n",
       "      <th>street_name</th>\n",
       "      <th>flat_type</th>\n",
       "      <th>monthly_rent</th>\n",
       "    </tr>\n",
       "  </thead>\n",
       "  <tbody>\n",
       "    <tr>\n",
       "      <th>0</th>\n",
       "      <td>1</td>\n",
       "      <td>2021-01</td>\n",
       "      <td>ANG MO KIO</td>\n",
       "      <td>105</td>\n",
       "      <td>ANG MO KIO AVE 4</td>\n",
       "      <td>4-ROOM</td>\n",
       "      <td>2000</td>\n",
       "    </tr>\n",
       "    <tr>\n",
       "      <th>1</th>\n",
       "      <td>2</td>\n",
       "      <td>2021-01</td>\n",
       "      <td>ANG MO KIO</td>\n",
       "      <td>107</td>\n",
       "      <td>ANG MO KIO AVE 4</td>\n",
       "      <td>3-ROOM</td>\n",
       "      <td>1750</td>\n",
       "    </tr>\n",
       "    <tr>\n",
       "      <th>2</th>\n",
       "      <td>3</td>\n",
       "      <td>2021-01</td>\n",
       "      <td>ANG MO KIO</td>\n",
       "      <td>108</td>\n",
       "      <td>ANG MO KIO AVE 4</td>\n",
       "      <td>3-ROOM</td>\n",
       "      <td>1750</td>\n",
       "    </tr>\n",
       "    <tr>\n",
       "      <th>3</th>\n",
       "      <td>4</td>\n",
       "      <td>2021-01</td>\n",
       "      <td>ANG MO KIO</td>\n",
       "      <td>111</td>\n",
       "      <td>ANG MO KIO AVE 4</td>\n",
       "      <td>5-ROOM</td>\n",
       "      <td>2230</td>\n",
       "    </tr>\n",
       "    <tr>\n",
       "      <th>4</th>\n",
       "      <td>5</td>\n",
       "      <td>2021-01</td>\n",
       "      <td>ANG MO KIO</td>\n",
       "      <td>111</td>\n",
       "      <td>ANG MO KIO AVE 4</td>\n",
       "      <td>5-ROOM</td>\n",
       "      <td>2450</td>\n",
       "    </tr>\n",
       "  </tbody>\n",
       "</table>\n",
       "</div>"
      ],
      "text/plain": [
       "   _id rent_approval_date        town block       street_name flat_type  \\\n",
       "0    1            2021-01  ANG MO KIO   105  ANG MO KIO AVE 4    4-ROOM   \n",
       "1    2            2021-01  ANG MO KIO   107  ANG MO KIO AVE 4    3-ROOM   \n",
       "2    3            2021-01  ANG MO KIO   108  ANG MO KIO AVE 4    3-ROOM   \n",
       "3    4            2021-01  ANG MO KIO   111  ANG MO KIO AVE 4    5-ROOM   \n",
       "4    5            2021-01  ANG MO KIO   111  ANG MO KIO AVE 4    5-ROOM   \n",
       "\n",
       "  monthly_rent  \n",
       "0         2000  \n",
       "1         1750  \n",
       "2         1750  \n",
       "3         2230  \n",
       "4         2450  "
      ]
     },
     "execution_count": 3,
     "metadata": {},
     "output_type": "execute_result"
    }
   ],
   "source": [
    "df.head()"
   ]
  },
  {
   "cell_type": "code",
   "execution_count": 4,
   "metadata": {},
   "outputs": [
    {
     "data": {
      "application/vnd.microsoft.datawrangler.viewer.v0+json": {
       "columns": [
        {
         "name": "index",
         "rawType": "int64",
         "type": "integer"
        },
        {
         "name": "rent_approval_date",
         "rawType": "object",
         "type": "string"
        },
        {
         "name": "town",
         "rawType": "object",
         "type": "string"
        },
        {
         "name": "block",
         "rawType": "object",
         "type": "string"
        },
        {
         "name": "street_name",
         "rawType": "object",
         "type": "string"
        },
        {
         "name": "flat_type",
         "rawType": "object",
         "type": "string"
        },
        {
         "name": "monthly_rent",
         "rawType": "object",
         "type": "string"
        }
       ],
       "conversionMethod": "pd.DataFrame",
       "ref": "da14c432-a8f8-4263-bad7-4857dec4eb10",
       "rows": [
        [
         "0",
         "2021-01",
         "ANG MO KIO",
         "105",
         "ANG MO KIO AVE 4",
         "4-ROOM",
         "2000"
        ],
        [
         "1",
         "2021-01",
         "ANG MO KIO",
         "107",
         "ANG MO KIO AVE 4",
         "3-ROOM",
         "1750"
        ],
        [
         "2",
         "2021-01",
         "ANG MO KIO",
         "108",
         "ANG MO KIO AVE 4",
         "3-ROOM",
         "1750"
        ],
        [
         "3",
         "2021-01",
         "ANG MO KIO",
         "111",
         "ANG MO KIO AVE 4",
         "5-ROOM",
         "2230"
        ],
        [
         "4",
         "2021-01",
         "ANG MO KIO",
         "111",
         "ANG MO KIO AVE 4",
         "5-ROOM",
         "2450"
        ]
       ],
       "shape": {
        "columns": 6,
        "rows": 5
       }
      },
      "text/html": [
       "<div>\n",
       "<style scoped>\n",
       "    .dataframe tbody tr th:only-of-type {\n",
       "        vertical-align: middle;\n",
       "    }\n",
       "\n",
       "    .dataframe tbody tr th {\n",
       "        vertical-align: top;\n",
       "    }\n",
       "\n",
       "    .dataframe thead th {\n",
       "        text-align: right;\n",
       "    }\n",
       "</style>\n",
       "<table border=\"1\" class=\"dataframe\">\n",
       "  <thead>\n",
       "    <tr style=\"text-align: right;\">\n",
       "      <th></th>\n",
       "      <th>rent_approval_date</th>\n",
       "      <th>town</th>\n",
       "      <th>block</th>\n",
       "      <th>street_name</th>\n",
       "      <th>flat_type</th>\n",
       "      <th>monthly_rent</th>\n",
       "    </tr>\n",
       "  </thead>\n",
       "  <tbody>\n",
       "    <tr>\n",
       "      <th>0</th>\n",
       "      <td>2021-01</td>\n",
       "      <td>ANG MO KIO</td>\n",
       "      <td>105</td>\n",
       "      <td>ANG MO KIO AVE 4</td>\n",
       "      <td>4-ROOM</td>\n",
       "      <td>2000</td>\n",
       "    </tr>\n",
       "    <tr>\n",
       "      <th>1</th>\n",
       "      <td>2021-01</td>\n",
       "      <td>ANG MO KIO</td>\n",
       "      <td>107</td>\n",
       "      <td>ANG MO KIO AVE 4</td>\n",
       "      <td>3-ROOM</td>\n",
       "      <td>1750</td>\n",
       "    </tr>\n",
       "    <tr>\n",
       "      <th>2</th>\n",
       "      <td>2021-01</td>\n",
       "      <td>ANG MO KIO</td>\n",
       "      <td>108</td>\n",
       "      <td>ANG MO KIO AVE 4</td>\n",
       "      <td>3-ROOM</td>\n",
       "      <td>1750</td>\n",
       "    </tr>\n",
       "    <tr>\n",
       "      <th>3</th>\n",
       "      <td>2021-01</td>\n",
       "      <td>ANG MO KIO</td>\n",
       "      <td>111</td>\n",
       "      <td>ANG MO KIO AVE 4</td>\n",
       "      <td>5-ROOM</td>\n",
       "      <td>2230</td>\n",
       "    </tr>\n",
       "    <tr>\n",
       "      <th>4</th>\n",
       "      <td>2021-01</td>\n",
       "      <td>ANG MO KIO</td>\n",
       "      <td>111</td>\n",
       "      <td>ANG MO KIO AVE 4</td>\n",
       "      <td>5-ROOM</td>\n",
       "      <td>2450</td>\n",
       "    </tr>\n",
       "  </tbody>\n",
       "</table>\n",
       "</div>"
      ],
      "text/plain": [
       "  rent_approval_date        town block       street_name flat_type  \\\n",
       "0            2021-01  ANG MO KIO   105  ANG MO KIO AVE 4    4-ROOM   \n",
       "1            2021-01  ANG MO KIO   107  ANG MO KIO AVE 4    3-ROOM   \n",
       "2            2021-01  ANG MO KIO   108  ANG MO KIO AVE 4    3-ROOM   \n",
       "3            2021-01  ANG MO KIO   111  ANG MO KIO AVE 4    5-ROOM   \n",
       "4            2021-01  ANG MO KIO   111  ANG MO KIO AVE 4    5-ROOM   \n",
       "\n",
       "  monthly_rent  \n",
       "0         2000  \n",
       "1         1750  \n",
       "2         1750  \n",
       "3         2230  \n",
       "4         2450  "
      ]
     },
     "execution_count": 4,
     "metadata": {},
     "output_type": "execute_result"
    }
   ],
   "source": [
    "df.drop(columns = ['_id'], inplace = True)\n",
    "df.head()"
   ]
  },
  {
   "cell_type": "markdown",
   "metadata": {},
   "source": [
    "How to clean it next?"
   ]
  },
  {
   "cell_type": "markdown",
   "metadata": {},
   "source": []
  }
 ],
 "metadata": {
  "kernelspec": {
   "display_name": "base",
   "language": "python",
   "name": "python3"
  },
  "language_info": {
   "codemirror_mode": {
    "name": "ipython",
    "version": 3
   },
   "file_extension": ".py",
   "mimetype": "text/x-python",
   "name": "python",
   "nbconvert_exporter": "python",
   "pygments_lexer": "ipython3",
   "version": "3.11.7"
  }
 },
 "nbformat": 4,
 "nbformat_minor": 2
}
