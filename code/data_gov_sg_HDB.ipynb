{
 "cells": [
  {
   "cell_type": "markdown",
   "metadata": {},
   "source": [
    "### Rental Price Information for 2025"
   ]
  },
  {
   "cell_type": "code",
   "execution_count": 2,
   "metadata": {},
   "outputs": [
    {
     "name": "stdout",
     "output_type": "stream",
     "text": [
      "Succefully transformed to dataframe\n"
     ]
    }
   ],
   "source": [
    "import requests\n",
    "import pandas as pd\n",
    "import matplotlib.pyplot as plt\n",
    "import seaborn as sns\n",
    "\n",
    "          \n",
    "dataset_id = \"d_c9f57187485a850908655db0e8cfe651\"\n",
    "url = \"https://data.gov.sg/api/action/datastore_search?resource_id=\"  + dataset_id\n",
    "        \n",
    "response = requests.get(url)\n",
    "data = response.json()\n",
    "\n",
    "# Extract records\n",
    "if \"result\" in data and \"records\" in data[\"result\"]:\n",
    "    df = pd.DataFrame(data[\"result\"][\"records\"])\n",
    "    print(\"Succefully transformed to dataframe\")  # Display first few rows\n",
    "else:\n",
    "    print(\"Error: Unable to fetch data or invalid response format\")"
   ]
  },
  {
   "cell_type": "code",
   "execution_count": 8,
   "metadata": {},
   "outputs": [],
   "source": [
    "import numpy as np"
   ]
  },
  {
   "cell_type": "code",
   "execution_count": 3,
   "metadata": {},
   "outputs": [
    {
     "data": {
      "application/vnd.microsoft.datawrangler.viewer.v0+json": {
       "columns": [
        {
         "name": "index",
         "rawType": "int64",
         "type": "integer"
        },
        {
         "name": "_id",
         "rawType": "int64",
         "type": "integer"
        },
        {
         "name": "rent_approval_date",
         "rawType": "object",
         "type": "string"
        },
        {
         "name": "town",
         "rawType": "object",
         "type": "string"
        },
        {
         "name": "block",
         "rawType": "object",
         "type": "string"
        },
        {
         "name": "street_name",
         "rawType": "object",
         "type": "string"
        },
        {
         "name": "flat_type",
         "rawType": "object",
         "type": "string"
        },
        {
         "name": "monthly_rent",
         "rawType": "object",
         "type": "string"
        }
       ],
       "conversionMethod": "pd.DataFrame",
       "ref": "aa3ea1f5-0cea-4835-b268-b181e621c6e5",
       "rows": [
        [
         "0",
         "1",
         "2021-01",
         "ANG MO KIO",
         "105",
         "ANG MO KIO AVE 4",
         "4-ROOM",
         "2000"
        ],
        [
         "1",
         "2",
         "2021-01",
         "ANG MO KIO",
         "107",
         "ANG MO KIO AVE 4",
         "3-ROOM",
         "1750"
        ],
        [
         "2",
         "3",
         "2021-01",
         "ANG MO KIO",
         "108",
         "ANG MO KIO AVE 4",
         "3-ROOM",
         "1750"
        ],
        [
         "3",
         "4",
         "2021-01",
         "ANG MO KIO",
         "111",
         "ANG MO KIO AVE 4",
         "5-ROOM",
         "2230"
        ],
        [
         "4",
         "5",
         "2021-01",
         "ANG MO KIO",
         "111",
         "ANG MO KIO AVE 4",
         "5-ROOM",
         "2450"
        ]
       ],
       "shape": {
        "columns": 7,
        "rows": 5
       }
      },
      "text/html": [
       "<div>\n",
       "<style scoped>\n",
       "    .dataframe tbody tr th:only-of-type {\n",
       "        vertical-align: middle;\n",
       "    }\n",
       "\n",
       "    .dataframe tbody tr th {\n",
       "        vertical-align: top;\n",
       "    }\n",
       "\n",
       "    .dataframe thead th {\n",
       "        text-align: right;\n",
       "    }\n",
       "</style>\n",
       "<table border=\"1\" class=\"dataframe\">\n",
       "  <thead>\n",
       "    <tr style=\"text-align: right;\">\n",
       "      <th></th>\n",
       "      <th>_id</th>\n",
       "      <th>rent_approval_date</th>\n",
       "      <th>town</th>\n",
       "      <th>block</th>\n",
       "      <th>street_name</th>\n",
       "      <th>flat_type</th>\n",
       "      <th>monthly_rent</th>\n",
       "    </tr>\n",
       "  </thead>\n",
       "  <tbody>\n",
       "    <tr>\n",
       "      <th>0</th>\n",
       "      <td>1</td>\n",
       "      <td>2021-01</td>\n",
       "      <td>ANG MO KIO</td>\n",
       "      <td>105</td>\n",
       "      <td>ANG MO KIO AVE 4</td>\n",
       "      <td>4-ROOM</td>\n",
       "      <td>2000</td>\n",
       "    </tr>\n",
       "    <tr>\n",
       "      <th>1</th>\n",
       "      <td>2</td>\n",
       "      <td>2021-01</td>\n",
       "      <td>ANG MO KIO</td>\n",
       "      <td>107</td>\n",
       "      <td>ANG MO KIO AVE 4</td>\n",
       "      <td>3-ROOM</td>\n",
       "      <td>1750</td>\n",
       "    </tr>\n",
       "    <tr>\n",
       "      <th>2</th>\n",
       "      <td>3</td>\n",
       "      <td>2021-01</td>\n",
       "      <td>ANG MO KIO</td>\n",
       "      <td>108</td>\n",
       "      <td>ANG MO KIO AVE 4</td>\n",
       "      <td>3-ROOM</td>\n",
       "      <td>1750</td>\n",
       "    </tr>\n",
       "    <tr>\n",
       "      <th>3</th>\n",
       "      <td>4</td>\n",
       "      <td>2021-01</td>\n",
       "      <td>ANG MO KIO</td>\n",
       "      <td>111</td>\n",
       "      <td>ANG MO KIO AVE 4</td>\n",
       "      <td>5-ROOM</td>\n",
       "      <td>2230</td>\n",
       "    </tr>\n",
       "    <tr>\n",
       "      <th>4</th>\n",
       "      <td>5</td>\n",
       "      <td>2021-01</td>\n",
       "      <td>ANG MO KIO</td>\n",
       "      <td>111</td>\n",
       "      <td>ANG MO KIO AVE 4</td>\n",
       "      <td>5-ROOM</td>\n",
       "      <td>2450</td>\n",
       "    </tr>\n",
       "  </tbody>\n",
       "</table>\n",
       "</div>"
      ],
      "text/plain": [
       "   _id rent_approval_date        town block       street_name flat_type  \\\n",
       "0    1            2021-01  ANG MO KIO   105  ANG MO KIO AVE 4    4-ROOM   \n",
       "1    2            2021-01  ANG MO KIO   107  ANG MO KIO AVE 4    3-ROOM   \n",
       "2    3            2021-01  ANG MO KIO   108  ANG MO KIO AVE 4    3-ROOM   \n",
       "3    4            2021-01  ANG MO KIO   111  ANG MO KIO AVE 4    5-ROOM   \n",
       "4    5            2021-01  ANG MO KIO   111  ANG MO KIO AVE 4    5-ROOM   \n",
       "\n",
       "  monthly_rent  \n",
       "0         2000  \n",
       "1         1750  \n",
       "2         1750  \n",
       "3         2230  \n",
       "4         2450  "
      ]
     },
     "execution_count": 3,
     "metadata": {},
     "output_type": "execute_result"
    }
   ],
   "source": [
    "df.head()"
   ]
  },
  {
   "cell_type": "code",
   "execution_count": 4,
   "metadata": {},
   "outputs": [
    {
     "data": {
      "application/vnd.microsoft.datawrangler.viewer.v0+json": {
       "columns": [
        {
         "name": "index",
         "rawType": "int64",
         "type": "integer"
        },
        {
         "name": "rent_approval_date",
         "rawType": "object",
         "type": "string"
        },
        {
         "name": "town",
         "rawType": "object",
         "type": "string"
        },
        {
         "name": "block",
         "rawType": "object",
         "type": "string"
        },
        {
         "name": "street_name",
         "rawType": "object",
         "type": "string"
        },
        {
         "name": "flat_type",
         "rawType": "object",
         "type": "string"
        },
        {
         "name": "monthly_rent",
         "rawType": "object",
         "type": "string"
        }
       ],
       "conversionMethod": "pd.DataFrame",
       "ref": "5ce6bbbd-d962-4c12-a8b2-3f579bd342db",
       "rows": [
        [
         "0",
         "2021-01",
         "ANG MO KIO",
         "105",
         "ANG MO KIO AVE 4",
         "4-ROOM",
         "2000"
        ],
        [
         "1",
         "2021-01",
         "ANG MO KIO",
         "107",
         "ANG MO KIO AVE 4",
         "3-ROOM",
         "1750"
        ],
        [
         "2",
         "2021-01",
         "ANG MO KIO",
         "108",
         "ANG MO KIO AVE 4",
         "3-ROOM",
         "1750"
        ],
        [
         "3",
         "2021-01",
         "ANG MO KIO",
         "111",
         "ANG MO KIO AVE 4",
         "5-ROOM",
         "2230"
        ],
        [
         "4",
         "2021-01",
         "ANG MO KIO",
         "111",
         "ANG MO KIO AVE 4",
         "5-ROOM",
         "2450"
        ]
       ],
       "shape": {
        "columns": 6,
        "rows": 5
       }
      },
      "text/html": [
       "<div>\n",
       "<style scoped>\n",
       "    .dataframe tbody tr th:only-of-type {\n",
       "        vertical-align: middle;\n",
       "    }\n",
       "\n",
       "    .dataframe tbody tr th {\n",
       "        vertical-align: top;\n",
       "    }\n",
       "\n",
       "    .dataframe thead th {\n",
       "        text-align: right;\n",
       "    }\n",
       "</style>\n",
       "<table border=\"1\" class=\"dataframe\">\n",
       "  <thead>\n",
       "    <tr style=\"text-align: right;\">\n",
       "      <th></th>\n",
       "      <th>rent_approval_date</th>\n",
       "      <th>town</th>\n",
       "      <th>block</th>\n",
       "      <th>street_name</th>\n",
       "      <th>flat_type</th>\n",
       "      <th>monthly_rent</th>\n",
       "    </tr>\n",
       "  </thead>\n",
       "  <tbody>\n",
       "    <tr>\n",
       "      <th>0</th>\n",
       "      <td>2021-01</td>\n",
       "      <td>ANG MO KIO</td>\n",
       "      <td>105</td>\n",
       "      <td>ANG MO KIO AVE 4</td>\n",
       "      <td>4-ROOM</td>\n",
       "      <td>2000</td>\n",
       "    </tr>\n",
       "    <tr>\n",
       "      <th>1</th>\n",
       "      <td>2021-01</td>\n",
       "      <td>ANG MO KIO</td>\n",
       "      <td>107</td>\n",
       "      <td>ANG MO KIO AVE 4</td>\n",
       "      <td>3-ROOM</td>\n",
       "      <td>1750</td>\n",
       "    </tr>\n",
       "    <tr>\n",
       "      <th>2</th>\n",
       "      <td>2021-01</td>\n",
       "      <td>ANG MO KIO</td>\n",
       "      <td>108</td>\n",
       "      <td>ANG MO KIO AVE 4</td>\n",
       "      <td>3-ROOM</td>\n",
       "      <td>1750</td>\n",
       "    </tr>\n",
       "    <tr>\n",
       "      <th>3</th>\n",
       "      <td>2021-01</td>\n",
       "      <td>ANG MO KIO</td>\n",
       "      <td>111</td>\n",
       "      <td>ANG MO KIO AVE 4</td>\n",
       "      <td>5-ROOM</td>\n",
       "      <td>2230</td>\n",
       "    </tr>\n",
       "    <tr>\n",
       "      <th>4</th>\n",
       "      <td>2021-01</td>\n",
       "      <td>ANG MO KIO</td>\n",
       "      <td>111</td>\n",
       "      <td>ANG MO KIO AVE 4</td>\n",
       "      <td>5-ROOM</td>\n",
       "      <td>2450</td>\n",
       "    </tr>\n",
       "  </tbody>\n",
       "</table>\n",
       "</div>"
      ],
      "text/plain": [
       "  rent_approval_date        town block       street_name flat_type  \\\n",
       "0            2021-01  ANG MO KIO   105  ANG MO KIO AVE 4    4-ROOM   \n",
       "1            2021-01  ANG MO KIO   107  ANG MO KIO AVE 4    3-ROOM   \n",
       "2            2021-01  ANG MO KIO   108  ANG MO KIO AVE 4    3-ROOM   \n",
       "3            2021-01  ANG MO KIO   111  ANG MO KIO AVE 4    5-ROOM   \n",
       "4            2021-01  ANG MO KIO   111  ANG MO KIO AVE 4    5-ROOM   \n",
       "\n",
       "  monthly_rent  \n",
       "0         2000  \n",
       "1         1750  \n",
       "2         1750  \n",
       "3         2230  \n",
       "4         2450  "
      ]
     },
     "execution_count": 4,
     "metadata": {},
     "output_type": "execute_result"
    }
   ],
   "source": [
    "df.drop(columns = ['_id'], inplace = True)\n",
    "df.head()"
   ]
  },
  {
   "cell_type": "markdown",
   "metadata": {},
   "source": [
    "### Median Rent By Town And Flat Type"
   ]
  },
  {
   "cell_type": "code",
   "execution_count": 5,
   "metadata": {},
   "outputs": [
    {
     "name": "stdout",
     "output_type": "stream",
     "text": [
      "Succefully transformed to dataframe\n"
     ]
    }
   ],
   "source": [
    "dataset_id_rent = \"d_23000a00c52996c55106084ed0339566\"\n",
    "url_rent = \"https://data.gov.sg/api/action/datastore_search?resource_id=\"  + dataset_id_rent\n",
    "        \n",
    "response_rent = requests.get(url_rent)\n",
    "data_rent = response_rent.json()\n",
    "\n",
    "# Extract records\n",
    "if \"result\" in data_rent and \"records\" in data_rent[\"result\"]:\n",
    "    rent_town = pd.DataFrame(data_rent[\"result\"][\"records\"])\n",
    "    print(\"Succefully transformed to dataframe\")  # Display first few rows\n",
    "else:\n",
    "    print(\"Error: Unable to fetch data or invalid response format\")"
   ]
  },
  {
   "cell_type": "code",
   "execution_count": null,
   "metadata": {},
   "outputs": [],
   "source": [
    "rent_town.drop(columns=['_id'], inplace = True)"
   ]
  },
  {
   "cell_type": "code",
   "execution_count": null,
   "metadata": {},
   "outputs": [
    {
     "data": {
      "application/vnd.microsoft.datawrangler.viewer.v0+json": {
       "columns": [
        {
         "name": "index",
         "rawType": "int64",
         "type": "integer"
        },
        {
         "name": "quarter",
         "rawType": "object",
         "type": "string"
        },
        {
         "name": "town",
         "rawType": "object",
         "type": "string"
        },
        {
         "name": "flat_type",
         "rawType": "object",
         "type": "string"
        },
        {
         "name": "median_rent",
         "rawType": "float64",
         "type": "float"
        }
       ],
       "conversionMethod": "pd.DataFrame",
       "ref": "8fa05b12-bb3b-4671-a845-4343c0559200",
       "rows": [
        [
         "0",
         "2005-Q2",
         "ANG MO KIO",
         "1-RM",
         null
        ],
        [
         "1",
         "2005-Q2",
         "ANG MO KIO",
         "2-RM",
         null
        ],
        [
         "2",
         "2005-Q2",
         "ANG MO KIO",
         "3-RM",
         "800.0"
        ],
        [
         "3",
         "2005-Q2",
         "ANG MO KIO",
         "4-RM",
         "950.0"
        ],
        [
         "4",
         "2005-Q2",
         "ANG MO KIO",
         "5-RM",
         null
        ]
       ],
       "shape": {
        "columns": 4,
        "rows": 5
       }
      },
      "text/html": [
       "<div>\n",
       "<style scoped>\n",
       "    .dataframe tbody tr th:only-of-type {\n",
       "        vertical-align: middle;\n",
       "    }\n",
       "\n",
       "    .dataframe tbody tr th {\n",
       "        vertical-align: top;\n",
       "    }\n",
       "\n",
       "    .dataframe thead th {\n",
       "        text-align: right;\n",
       "    }\n",
       "</style>\n",
       "<table border=\"1\" class=\"dataframe\">\n",
       "  <thead>\n",
       "    <tr style=\"text-align: right;\">\n",
       "      <th></th>\n",
       "      <th>quarter</th>\n",
       "      <th>town</th>\n",
       "      <th>flat_type</th>\n",
       "      <th>median_rent</th>\n",
       "    </tr>\n",
       "  </thead>\n",
       "  <tbody>\n",
       "    <tr>\n",
       "      <th>0</th>\n",
       "      <td>2005-Q2</td>\n",
       "      <td>ANG MO KIO</td>\n",
       "      <td>1-RM</td>\n",
       "      <td>NaN</td>\n",
       "    </tr>\n",
       "    <tr>\n",
       "      <th>1</th>\n",
       "      <td>2005-Q2</td>\n",
       "      <td>ANG MO KIO</td>\n",
       "      <td>2-RM</td>\n",
       "      <td>NaN</td>\n",
       "    </tr>\n",
       "    <tr>\n",
       "      <th>2</th>\n",
       "      <td>2005-Q2</td>\n",
       "      <td>ANG MO KIO</td>\n",
       "      <td>3-RM</td>\n",
       "      <td>800.0</td>\n",
       "    </tr>\n",
       "    <tr>\n",
       "      <th>3</th>\n",
       "      <td>2005-Q2</td>\n",
       "      <td>ANG MO KIO</td>\n",
       "      <td>4-RM</td>\n",
       "      <td>950.0</td>\n",
       "    </tr>\n",
       "    <tr>\n",
       "      <th>4</th>\n",
       "      <td>2005-Q2</td>\n",
       "      <td>ANG MO KIO</td>\n",
       "      <td>5-RM</td>\n",
       "      <td>NaN</td>\n",
       "    </tr>\n",
       "  </tbody>\n",
       "</table>\n",
       "</div>"
      ],
      "text/plain": [
       "   quarter        town flat_type  median_rent\n",
       "0  2005-Q2  ANG MO KIO      1-RM          NaN\n",
       "1  2005-Q2  ANG MO KIO      2-RM          NaN\n",
       "2  2005-Q2  ANG MO KIO      3-RM        800.0\n",
       "3  2005-Q2  ANG MO KIO      4-RM        950.0\n",
       "4  2005-Q2  ANG MO KIO      5-RM          NaN"
      ]
     },
     "execution_count": 20,
     "metadata": {},
     "output_type": "execute_result"
    }
   ],
   "source": [
    "rent_town['median_rent'] = pd.to_numeric(rent_town['median_rent'], errors='coerce')\n",
    "rent_town['median_rent'] = rent_town['median_rent'].replace('na', np.nan)\n",
    "rent_town['median_rent'] = rent_town['median_rent'].replace('-', np.nan)\n",
    "#rent_town.head()\n"
   ]
  }
 ],
 "metadata": {
  "kernelspec": {
   "display_name": "base",
   "language": "python",
   "name": "python3"
  },
  "language_info": {
   "codemirror_mode": {
    "name": "ipython",
    "version": 3
   },
   "file_extension": ".py",
   "mimetype": "text/x-python",
   "name": "python",
   "nbconvert_exporter": "python",
   "pygments_lexer": "ipython3",
   "version": "3.11.7"
  }
 },
 "nbformat": 4,
 "nbformat_minor": 2
}
