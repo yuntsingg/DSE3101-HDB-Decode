{
 "cells": [
  {
   "cell_type": "markdown",
   "metadata": {},
   "source": [
    "### Import Packages Needed"
   ]
  },
  {
   "cell_type": "code",
   "execution_count": 4,
   "metadata": {},
   "outputs": [
    {
     "name": "stdout",
     "output_type": "stream",
     "text": [
      "Succefully transformed to dataframe\n"
     ]
    }
   ],
   "source": [
    "import requests\n",
    "import pandas as pd\n",
    "import matplotlib.pyplot as plt\n",
    "import seaborn as sns\n",
    "\n",
    "# Dataset ID\n",
    "dataset_id = \"d_17f5382f26140b1fdae0ba2ef6239d2f\"\n",
    "url = f\"https://data.gov.sg/api/action/datastore_search?resource_id={dataset_id}\"\n",
    "\n",
    "# Fetch data\n",
    "response = requests.get(url)\n",
    "\n",
    "# Convert response to JSON\n",
    "data = response.json()\n",
    "\n",
    "# Extract records\n",
    "if \"result\" in data and \"records\" in data[\"result\"]:\n",
    "    df = pd.DataFrame(data[\"result\"][\"records\"])\n",
    "    print(\"Succefully transformed to dataframe\")  # Display first few rows\n",
    "else:\n",
    "    print(\"Error: Unable to fetch data or invalid response format\")"
   ]
  },
  {
   "cell_type": "code",
   "execution_count": 5,
   "metadata": {},
   "outputs": [],
   "source": [
    "df = pd.DataFrame(data[\"result\"][\"records\"])"
   ]
  },
  {
   "cell_type": "code",
   "execution_count": 6,
   "metadata": {},
   "outputs": [
    {
     "data": {
      "text/plain": [
       "Index(['_id', 'blk_no', 'street', 'max_floor_lvl', 'year_completed',\n",
       "       'residential', 'commercial', 'market_hawker', 'miscellaneous',\n",
       "       'multistorey_carpark', 'precinct_pavilion', 'bldg_contract_town',\n",
       "       'total_dwelling_units', '1room_sold', '2room_sold', '3room_sold',\n",
       "       '4room_sold', '5room_sold', 'exec_sold', 'multigen_sold',\n",
       "       'studio_apartment_sold', '1room_rental', '2room_rental', '3room_rental',\n",
       "       'other_room_rental'],\n",
       "      dtype='object')"
      ]
     },
     "execution_count": 6,
     "metadata": {},
     "output_type": "execute_result"
    }
   ],
   "source": [
    "df.columns"
   ]
  },
  {
   "cell_type": "code",
   "execution_count": 7,
   "metadata": {},
   "outputs": [
    {
     "data": {
      "application/vnd.microsoft.datawrangler.viewer.v0+json": {
       "columns": [
        {
         "name": "index",
         "rawType": "int64",
         "type": "integer"
        },
        {
         "name": "blk_no",
         "rawType": "object",
         "type": "string"
        },
        {
         "name": "street",
         "rawType": "object",
         "type": "string"
        },
        {
         "name": "residential",
         "rawType": "object",
         "type": "string"
        },
        {
         "name": "commercial",
         "rawType": "object",
         "type": "string"
        },
        {
         "name": "market_hawker",
         "rawType": "object",
         "type": "string"
        },
        {
         "name": "miscellaneous",
         "rawType": "object",
         "type": "string"
        },
        {
         "name": "multistorey_carpark",
         "rawType": "object",
         "type": "string"
        },
        {
         "name": "precinct_pavilion",
         "rawType": "object",
         "type": "string"
        },
        {
         "name": "bldg_contract_town",
         "rawType": "object",
         "type": "string"
        },
        {
         "name": "total_dwelling_units",
         "rawType": "object",
         "type": "string"
        },
        {
         "name": "1room_sold",
         "rawType": "object",
         "type": "string"
        },
        {
         "name": "2room_sold",
         "rawType": "object",
         "type": "string"
        },
        {
         "name": "3room_sold",
         "rawType": "object",
         "type": "string"
        },
        {
         "name": "4room_sold",
         "rawType": "object",
         "type": "string"
        },
        {
         "name": "5room_sold",
         "rawType": "object",
         "type": "string"
        },
        {
         "name": "exec_sold",
         "rawType": "object",
         "type": "string"
        },
        {
         "name": "multigen_sold",
         "rawType": "object",
         "type": "string"
        },
        {
         "name": "studio_apartment_sold",
         "rawType": "object",
         "type": "string"
        },
        {
         "name": "1room_rental",
         "rawType": "object",
         "type": "string"
        },
        {
         "name": "2room_rental",
         "rawType": "object",
         "type": "string"
        },
        {
         "name": "3room_rental",
         "rawType": "object",
         "type": "string"
        },
        {
         "name": "other_room_rental",
         "rawType": "object",
         "type": "string"
        }
       ],
       "conversionMethod": "pd.DataFrame",
       "ref": "996887a5-293d-4e3c-8552-726bfa4e1724",
       "rows": [
        [
         "0",
         "1",
         "BEACH RD",
         "Y",
         "Y",
         "N",
         "N",
         "N",
         "N",
         "KWN",
         "142",
         "0",
         "1",
         "138",
         "1",
         "2",
         "0",
         "0",
         "0",
         "0",
         "0",
         "0",
         "0"
        ],
        [
         "1",
         "1",
         "BEDOK STH AVE 1",
         "Y",
         "N",
         "N",
         "Y",
         "N",
         "N",
         "BD",
         "206",
         "0",
         "0",
         "204",
         "0",
         "2",
         "0",
         "0",
         "0",
         "0",
         "0",
         "0",
         "0"
        ],
        [
         "2",
         "1",
         "CANTONMENT RD",
         "N",
         "Y",
         "N",
         "N",
         "N",
         "N",
         "CT",
         "0",
         "0",
         "0",
         "0",
         "0",
         "0",
         "0",
         "0",
         "0",
         "0",
         "0",
         "0",
         "0"
        ],
        [
         "3",
         "1",
         "CHAI CHEE RD",
         "Y",
         "N",
         "N",
         "N",
         "N",
         "N",
         "BD",
         "102",
         "0",
         "0",
         "0",
         "10",
         "92",
         "0",
         "0",
         "0",
         "0",
         "0",
         "0",
         "0"
        ],
        [
         "4",
         "1",
         "CHANGI VILLAGE RD",
         "Y",
         "Y",
         "N",
         "N",
         "N",
         "N",
         "PRC",
         "55",
         "0",
         "0",
         "54",
         "0",
         "1",
         "0",
         "0",
         "0",
         "0",
         "0",
         "0",
         "0"
        ]
       ],
       "shape": {
        "columns": 22,
        "rows": 5
       }
      },
      "text/html": [
       "<div>\n",
       "<style scoped>\n",
       "    .dataframe tbody tr th:only-of-type {\n",
       "        vertical-align: middle;\n",
       "    }\n",
       "\n",
       "    .dataframe tbody tr th {\n",
       "        vertical-align: top;\n",
       "    }\n",
       "\n",
       "    .dataframe thead th {\n",
       "        text-align: right;\n",
       "    }\n",
       "</style>\n",
       "<table border=\"1\" class=\"dataframe\">\n",
       "  <thead>\n",
       "    <tr style=\"text-align: right;\">\n",
       "      <th></th>\n",
       "      <th>blk_no</th>\n",
       "      <th>street</th>\n",
       "      <th>residential</th>\n",
       "      <th>commercial</th>\n",
       "      <th>market_hawker</th>\n",
       "      <th>miscellaneous</th>\n",
       "      <th>multistorey_carpark</th>\n",
       "      <th>precinct_pavilion</th>\n",
       "      <th>bldg_contract_town</th>\n",
       "      <th>total_dwelling_units</th>\n",
       "      <th>...</th>\n",
       "      <th>3room_sold</th>\n",
       "      <th>4room_sold</th>\n",
       "      <th>5room_sold</th>\n",
       "      <th>exec_sold</th>\n",
       "      <th>multigen_sold</th>\n",
       "      <th>studio_apartment_sold</th>\n",
       "      <th>1room_rental</th>\n",
       "      <th>2room_rental</th>\n",
       "      <th>3room_rental</th>\n",
       "      <th>other_room_rental</th>\n",
       "    </tr>\n",
       "  </thead>\n",
       "  <tbody>\n",
       "    <tr>\n",
       "      <th>0</th>\n",
       "      <td>1</td>\n",
       "      <td>BEACH RD</td>\n",
       "      <td>Y</td>\n",
       "      <td>Y</td>\n",
       "      <td>N</td>\n",
       "      <td>N</td>\n",
       "      <td>N</td>\n",
       "      <td>N</td>\n",
       "      <td>KWN</td>\n",
       "      <td>142</td>\n",
       "      <td>...</td>\n",
       "      <td>138</td>\n",
       "      <td>1</td>\n",
       "      <td>2</td>\n",
       "      <td>0</td>\n",
       "      <td>0</td>\n",
       "      <td>0</td>\n",
       "      <td>0</td>\n",
       "      <td>0</td>\n",
       "      <td>0</td>\n",
       "      <td>0</td>\n",
       "    </tr>\n",
       "    <tr>\n",
       "      <th>1</th>\n",
       "      <td>1</td>\n",
       "      <td>BEDOK STH AVE 1</td>\n",
       "      <td>Y</td>\n",
       "      <td>N</td>\n",
       "      <td>N</td>\n",
       "      <td>Y</td>\n",
       "      <td>N</td>\n",
       "      <td>N</td>\n",
       "      <td>BD</td>\n",
       "      <td>206</td>\n",
       "      <td>...</td>\n",
       "      <td>204</td>\n",
       "      <td>0</td>\n",
       "      <td>2</td>\n",
       "      <td>0</td>\n",
       "      <td>0</td>\n",
       "      <td>0</td>\n",
       "      <td>0</td>\n",
       "      <td>0</td>\n",
       "      <td>0</td>\n",
       "      <td>0</td>\n",
       "    </tr>\n",
       "    <tr>\n",
       "      <th>2</th>\n",
       "      <td>1</td>\n",
       "      <td>CANTONMENT RD</td>\n",
       "      <td>N</td>\n",
       "      <td>Y</td>\n",
       "      <td>N</td>\n",
       "      <td>N</td>\n",
       "      <td>N</td>\n",
       "      <td>N</td>\n",
       "      <td>CT</td>\n",
       "      <td>0</td>\n",
       "      <td>...</td>\n",
       "      <td>0</td>\n",
       "      <td>0</td>\n",
       "      <td>0</td>\n",
       "      <td>0</td>\n",
       "      <td>0</td>\n",
       "      <td>0</td>\n",
       "      <td>0</td>\n",
       "      <td>0</td>\n",
       "      <td>0</td>\n",
       "      <td>0</td>\n",
       "    </tr>\n",
       "    <tr>\n",
       "      <th>3</th>\n",
       "      <td>1</td>\n",
       "      <td>CHAI CHEE RD</td>\n",
       "      <td>Y</td>\n",
       "      <td>N</td>\n",
       "      <td>N</td>\n",
       "      <td>N</td>\n",
       "      <td>N</td>\n",
       "      <td>N</td>\n",
       "      <td>BD</td>\n",
       "      <td>102</td>\n",
       "      <td>...</td>\n",
       "      <td>0</td>\n",
       "      <td>10</td>\n",
       "      <td>92</td>\n",
       "      <td>0</td>\n",
       "      <td>0</td>\n",
       "      <td>0</td>\n",
       "      <td>0</td>\n",
       "      <td>0</td>\n",
       "      <td>0</td>\n",
       "      <td>0</td>\n",
       "    </tr>\n",
       "    <tr>\n",
       "      <th>4</th>\n",
       "      <td>1</td>\n",
       "      <td>CHANGI VILLAGE RD</td>\n",
       "      <td>Y</td>\n",
       "      <td>Y</td>\n",
       "      <td>N</td>\n",
       "      <td>N</td>\n",
       "      <td>N</td>\n",
       "      <td>N</td>\n",
       "      <td>PRC</td>\n",
       "      <td>55</td>\n",
       "      <td>...</td>\n",
       "      <td>54</td>\n",
       "      <td>0</td>\n",
       "      <td>1</td>\n",
       "      <td>0</td>\n",
       "      <td>0</td>\n",
       "      <td>0</td>\n",
       "      <td>0</td>\n",
       "      <td>0</td>\n",
       "      <td>0</td>\n",
       "      <td>0</td>\n",
       "    </tr>\n",
       "  </tbody>\n",
       "</table>\n",
       "<p>5 rows × 22 columns</p>\n",
       "</div>"
      ],
      "text/plain": [
       "  blk_no             street residential commercial market_hawker  \\\n",
       "0      1           BEACH RD           Y          Y             N   \n",
       "1      1    BEDOK STH AVE 1           Y          N             N   \n",
       "2      1      CANTONMENT RD           N          Y             N   \n",
       "3      1       CHAI CHEE RD           Y          N             N   \n",
       "4      1  CHANGI VILLAGE RD           Y          Y             N   \n",
       "\n",
       "  miscellaneous multistorey_carpark precinct_pavilion bldg_contract_town  \\\n",
       "0             N                   N                 N                KWN   \n",
       "1             Y                   N                 N                 BD   \n",
       "2             N                   N                 N                 CT   \n",
       "3             N                   N                 N                 BD   \n",
       "4             N                   N                 N                PRC   \n",
       "\n",
       "  total_dwelling_units  ... 3room_sold 4room_sold 5room_sold exec_sold  \\\n",
       "0                  142  ...        138          1          2         0   \n",
       "1                  206  ...        204          0          2         0   \n",
       "2                    0  ...          0          0          0         0   \n",
       "3                  102  ...          0         10         92         0   \n",
       "4                   55  ...         54          0          1         0   \n",
       "\n",
       "  multigen_sold studio_apartment_sold 1room_rental 2room_rental 3room_rental  \\\n",
       "0             0                     0            0            0            0   \n",
       "1             0                     0            0            0            0   \n",
       "2             0                     0            0            0            0   \n",
       "3             0                     0            0            0            0   \n",
       "4             0                     0            0            0            0   \n",
       "\n",
       "  other_room_rental  \n",
       "0                 0  \n",
       "1                 0  \n",
       "2                 0  \n",
       "3                 0  \n",
       "4                 0  \n",
       "\n",
       "[5 rows x 22 columns]"
      ]
     },
     "execution_count": 7,
     "metadata": {},
     "output_type": "execute_result"
    }
   ],
   "source": [
    "coldrop = ['_id', 'max_floor_lvl', 'year_completed']\n",
    "df_use = df.drop(columns = coldrop)\n",
    "df_use.head()"
   ]
  },
  {
   "cell_type": "code",
   "execution_count": 8,
   "metadata": {},
   "outputs": [
    {
     "data": {
      "text/plain": [
       "blk_no                   0\n",
       "street                   0\n",
       "residential              0\n",
       "commercial               0\n",
       "market_hawker            0\n",
       "miscellaneous            0\n",
       "multistorey_carpark      0\n",
       "precinct_pavilion        0\n",
       "bldg_contract_town       0\n",
       "total_dwelling_units     0\n",
       "1room_sold               0\n",
       "2room_sold               0\n",
       "3room_sold               0\n",
       "4room_sold               0\n",
       "5room_sold               0\n",
       "exec_sold                0\n",
       "multigen_sold            0\n",
       "studio_apartment_sold    0\n",
       "1room_rental             0\n",
       "2room_rental             0\n",
       "3room_rental             0\n",
       "other_room_rental        0\n",
       "dtype: int64"
      ]
     },
     "execution_count": 8,
     "metadata": {},
     "output_type": "execute_result"
    }
   ],
   "source": [
    "df_use.isna().sum()"
   ]
  },
  {
   "cell_type": "code",
   "execution_count": 9,
   "metadata": {},
   "outputs": [],
   "source": [
    "df_use[\"total_dwelling_units\"] = df_use[\"total_dwelling_units\"].astype(int)\n",
    "df_use = df_use.query(\"residential != 'N' and total_dwelling_units > 0\")\n",
    "#df_use[df_use['residential'] == \"N\"]\n",
    "#df_use[df_use['total_dwelling_units'] == 0]"
   ]
  },
  {
   "cell_type": "code",
   "execution_count": 10,
   "metadata": {},
   "outputs": [],
   "source": [
    "df_group_town = df_use.groupby(\"bldg_contract_town\")['total_dwelling_units'].sum().reset_index()\n",
    "df_group_town = df_group_town.sort_values(by = \"total_dwelling_units\", ascending = False)"
   ]
  },
  {
   "cell_type": "code",
   "execution_count": 11,
   "metadata": {},
   "outputs": [
    {
     "data": {
      "application/vnd.microsoft.datawrangler.viewer.v0+json": {
       "columns": [
        {
         "name": "index",
         "rawType": "int64",
         "type": "integer"
        },
        {
         "name": "bldg_contract_town",
         "rawType": "object",
         "type": "string"
        },
        {
         "name": "total_dwelling_units",
         "rawType": "int64",
         "type": "integer"
        }
       ],
       "conversionMethod": "pd.DataFrame",
       "ref": "0471ad2a-b412-46cd-adbf-430868626844",
       "rows": [
        [
         "6",
         "CT",
         "2235"
        ],
        [
         "9",
         "KWN",
         "1978"
        ],
        [
         "7",
         "GL",
         "1460"
        ],
        [
         "3",
         "BM",
         "1185"
        ],
        [
         "1",
         "BD",
         "1166"
        ],
        [
         "12",
         "QT",
         "840"
        ],
        [
         "14",
         "TP",
         "656"
        ],
        [
         "5",
         "CCK",
         "271"
        ],
        [
         "4",
         "BT",
         "256"
        ],
        [
         "15",
         "WL",
         "243"
        ],
        [
         "8",
         "HG",
         "204"
        ],
        [
         "13",
         "SGN",
         "179"
        ],
        [
         "10",
         "MP",
         "96"
        ],
        [
         "2",
         "BH",
         "92"
        ],
        [
         "0",
         "AMK",
         "88"
        ],
        [
         "11",
         "PRC",
         "55"
        ]
       ],
       "shape": {
        "columns": 2,
        "rows": 16
       }
      },
      "text/html": [
       "<div>\n",
       "<style scoped>\n",
       "    .dataframe tbody tr th:only-of-type {\n",
       "        vertical-align: middle;\n",
       "    }\n",
       "\n",
       "    .dataframe tbody tr th {\n",
       "        vertical-align: top;\n",
       "    }\n",
       "\n",
       "    .dataframe thead th {\n",
       "        text-align: right;\n",
       "    }\n",
       "</style>\n",
       "<table border=\"1\" class=\"dataframe\">\n",
       "  <thead>\n",
       "    <tr style=\"text-align: right;\">\n",
       "      <th></th>\n",
       "      <th>bldg_contract_town</th>\n",
       "      <th>total_dwelling_units</th>\n",
       "    </tr>\n",
       "  </thead>\n",
       "  <tbody>\n",
       "    <tr>\n",
       "      <th>6</th>\n",
       "      <td>CT</td>\n",
       "      <td>2235</td>\n",
       "    </tr>\n",
       "    <tr>\n",
       "      <th>9</th>\n",
       "      <td>KWN</td>\n",
       "      <td>1978</td>\n",
       "    </tr>\n",
       "    <tr>\n",
       "      <th>7</th>\n",
       "      <td>GL</td>\n",
       "      <td>1460</td>\n",
       "    </tr>\n",
       "    <tr>\n",
       "      <th>3</th>\n",
       "      <td>BM</td>\n",
       "      <td>1185</td>\n",
       "    </tr>\n",
       "    <tr>\n",
       "      <th>1</th>\n",
       "      <td>BD</td>\n",
       "      <td>1166</td>\n",
       "    </tr>\n",
       "    <tr>\n",
       "      <th>12</th>\n",
       "      <td>QT</td>\n",
       "      <td>840</td>\n",
       "    </tr>\n",
       "    <tr>\n",
       "      <th>14</th>\n",
       "      <td>TP</td>\n",
       "      <td>656</td>\n",
       "    </tr>\n",
       "    <tr>\n",
       "      <th>5</th>\n",
       "      <td>CCK</td>\n",
       "      <td>271</td>\n",
       "    </tr>\n",
       "    <tr>\n",
       "      <th>4</th>\n",
       "      <td>BT</td>\n",
       "      <td>256</td>\n",
       "    </tr>\n",
       "    <tr>\n",
       "      <th>15</th>\n",
       "      <td>WL</td>\n",
       "      <td>243</td>\n",
       "    </tr>\n",
       "    <tr>\n",
       "      <th>8</th>\n",
       "      <td>HG</td>\n",
       "      <td>204</td>\n",
       "    </tr>\n",
       "    <tr>\n",
       "      <th>13</th>\n",
       "      <td>SGN</td>\n",
       "      <td>179</td>\n",
       "    </tr>\n",
       "    <tr>\n",
       "      <th>10</th>\n",
       "      <td>MP</td>\n",
       "      <td>96</td>\n",
       "    </tr>\n",
       "    <tr>\n",
       "      <th>2</th>\n",
       "      <td>BH</td>\n",
       "      <td>92</td>\n",
       "    </tr>\n",
       "    <tr>\n",
       "      <th>0</th>\n",
       "      <td>AMK</td>\n",
       "      <td>88</td>\n",
       "    </tr>\n",
       "    <tr>\n",
       "      <th>11</th>\n",
       "      <td>PRC</td>\n",
       "      <td>55</td>\n",
       "    </tr>\n",
       "  </tbody>\n",
       "</table>\n",
       "</div>"
      ],
      "text/plain": [
       "   bldg_contract_town  total_dwelling_units\n",
       "6                  CT                  2235\n",
       "9                 KWN                  1978\n",
       "7                  GL                  1460\n",
       "3                  BM                  1185\n",
       "1                  BD                  1166\n",
       "12                 QT                   840\n",
       "14                 TP                   656\n",
       "5                 CCK                   271\n",
       "4                  BT                   256\n",
       "15                 WL                   243\n",
       "8                  HG                   204\n",
       "13                SGN                   179\n",
       "10                 MP                    96\n",
       "2                  BH                    92\n",
       "0                 AMK                    88\n",
       "11                PRC                    55"
      ]
     },
     "execution_count": 11,
     "metadata": {},
     "output_type": "execute_result"
    }
   ],
   "source": [
    "df_group_town"
   ]
  },
  {
   "cell_type": "code",
   "execution_count": 12,
   "metadata": {},
   "outputs": [
    {
     "data": {
      "text/plain": [
       "<Axes: xlabel='bldg_contract_town', ylabel='total_dwelling_units'>"
      ]
     },
     "execution_count": 12,
     "metadata": {},
     "output_type": "execute_result"
    },
    {
     "data": {
      "image/png": "[encoded data removed]",
      "text/plain": [
       "<Figure size 640x480 with 1 Axes>"
      ]
     },
     "metadata": {},
     "output_type": "display_data"
    }
   ],
   "source": [
    "sns.barplot(data = df_group_town, x = \"bldg_contract_town\", y = \"total_dwelling_units\")"
   ]
  },
  {
   "cell_type": "markdown",
   "metadata": {},
   "source": [
    "Legend: AMK - ANG MO KIO BB - BUKIT BATOK BD - BEDOK BH - BISHAN BM - BUKIT MERAH BP - BUKIT PANJANG BT - BUKIT TIMAH CCK - CHOA CHU KANG CL - CLEMENTI CT - CENTRAL AREA GL - GEYLANG HG - HOUGANG JE - JURONG EAST JW - JURONG WEST KWN - KALLANG/WHAMPOA MP - MARINE PARADE PG - PUNGGOL PRC - PASIR RIS QT - QUEENSTOWN SB - SEMBAWANG SGN - SERANGOON SK - SENGKANG TAP - TAMPINES TG - TENGAH TP - TOA PAYOH WL - WOODLANDS YS - YISHUN"
   ]
  },
  {
   "cell_type": "code",
   "execution_count": 14,
   "metadata": {},
   "outputs": [
    {
     "data": {
      "application/vnd.microsoft.datawrangler.viewer.v0+json": {
       "columns": [
        {
         "name": "index",
         "rawType": "int64",
         "type": "integer"
        },
        {
         "name": "bldg_contract_town",
         "rawType": "object",
         "type": "string"
        },
        {
         "name": "total_dwelling_units",
         "rawType": "int64",
         "type": "integer"
        },
        {
         "name": "Town_Name",
         "rawType": "object",
         "type": "string"
        }
       ],
       "conversionMethod": "pd.DataFrame",
       "ref": "81651daf-faa9-4fa4-9a35-6de385a4d268",
       "rows": [
        [
         "6",
         "CT",
         "2235",
         "CENTRAL AREA"
        ],
        [
         "9",
         "KWN",
         "1978",
         "KALLANG/WHAMPOA"
        ],
        [
         "7",
         "GL",
         "1460",
         "GEYLANG"
        ],
        [
         "3",
         "BM",
         "1185",
         "BUKIT MERAH"
        ],
        [
         "1",
         "BD",
         "1166",
         "BEDOK"
        ]
       ],
       "shape": {
        "columns": 3,
        "rows": 5
       }
      },
      "text/html": [
       "<div>\n",
       "<style scoped>\n",
       "    .dataframe tbody tr th:only-of-type {\n",
       "        vertical-align: middle;\n",
       "    }\n",
       "\n",
       "    .dataframe tbody tr th {\n",
       "        vertical-align: top;\n",
       "    }\n",
       "\n",
       "    .dataframe thead th {\n",
       "        text-align: right;\n",
       "    }\n",
       "</style>\n",
       "<table border=\"1\" class=\"dataframe\">\n",
       "  <thead>\n",
       "    <tr style=\"text-align: right;\">\n",
       "      <th></th>\n",
       "      <th>bldg_contract_town</th>\n",
       "      <th>total_dwelling_units</th>\n",
       "      <th>Town_Name</th>\n",
       "    </tr>\n",
       "  </thead>\n",
       "  <tbody>\n",
       "    <tr>\n",
       "      <th>6</th>\n",
       "      <td>CT</td>\n",
       "      <td>2235</td>\n",
       "      <td>CENTRAL AREA</td>\n",
       "    </tr>\n",
       "    <tr>\n",
       "      <th>9</th>\n",
       "      <td>KWN</td>\n",
       "      <td>1978</td>\n",
       "      <td>KALLANG/WHAMPOA</td>\n",
       "    </tr>\n",
       "    <tr>\n",
       "      <th>7</th>\n",
       "      <td>GL</td>\n",
       "      <td>1460</td>\n",
       "      <td>GEYLANG</td>\n",
       "    </tr>\n",
       "    <tr>\n",
       "      <th>3</th>\n",
       "      <td>BM</td>\n",
       "      <td>1185</td>\n",
       "      <td>BUKIT MERAH</td>\n",
       "    </tr>\n",
       "    <tr>\n",
       "      <th>1</th>\n",
       "      <td>BD</td>\n",
       "      <td>1166</td>\n",
       "      <td>BEDOK</td>\n",
       "    </tr>\n",
       "  </tbody>\n",
       "</table>\n",
       "</div>"
      ],
      "text/plain": [
       "  bldg_contract_town  total_dwelling_units        Town_Name\n",
       "6                 CT                  2235     CENTRAL AREA\n",
       "9                KWN                  1978  KALLANG/WHAMPOA\n",
       "7                 GL                  1460          GEYLANG\n",
       "3                 BM                  1185      BUKIT MERAH\n",
       "1                 BD                  1166            BEDOK"
      ]
     },
     "execution_count": 14,
     "metadata": {},
     "output_type": "execute_result"
    }
   ],
   "source": [
    "# Define the mapping of shortforms to full town names\n",
    "town_mapping = {\n",
    "    \"AMK\": \"ANG MO KIO\", \"BB\": \"BUKIT BATOK\", \"BD\": \"BEDOK\", \"BH\": \"BISHAN\",\n",
    "    \"BM\": \"BUKIT MERAH\", \"BP\": \"BUKIT PANJANG\", \"BT\": \"BUKIT TIMAH\", \"CCK\": \"CHOA CHU KANG\",\n",
    "    \"CL\": \"CLEMENTI\", \"CT\": \"CENTRAL AREA\", \"GL\": \"GEYLANG\", \"HG\": \"HOUGANG\",\n",
    "    \"JE\": \"JURONG EAST\", \"JW\": \"JURONG WEST\", \"KWN\": \"KALLANG/WHAMPOA\", \"MP\": \"MARINE PARADE\",\n",
    "    \"PG\": \"PUNGGOL\", \"PRC\": \"PASIR RIS\", \"QT\": \"QUEENSTOWN\", \"SB\": \"SEMBAWANG\",\n",
    "    \"SGN\": \"SERANGOON\", \"SK\": \"SENGKANG\", \"TAP\": \"TAMPINES\", \"TG\": \"TENGAH\",\n",
    "    \"TP\": \"TOA PAYOH\", \"WL\": \"WOODLANDS\", \"YS\": \"YISHUN\"\n",
    "}\n",
    "df_group_town[\"Town_Name\"] = df_group_town['bldg_contract_town'].map(town_mapping)\n",
    "df_group_town.head()\n"
   ]
  },
  {
   "cell_type": "code",
   "execution_count": 13,
   "metadata": {},
   "outputs": [],
   "source": [
    "int_columns = ['1room_sold', '2room_sold', '3room_sold', '4room_sold', '5room_sold', \n",
    "               'exec_sold', 'multigen_sold','studio_apartment_sold', '1room_rental', '2room_rental', \n",
    "               '3room_rental','other_room_rental']\n",
    "df_use[int_columns] = df_use[int_columns].astype(int)\n",
    "#df_use['avail_for_sale'] = df_use[int_columns].sum(axis = 1)\n",
    "#df_use['avail_for_sale']"
   ]
  }
 ],
 "metadata": {
  "kernelspec": {
   "display_name": "base",
   "language": "python",
   "name": "python3"
  },
  "language_info": {
   "codemirror_mode": {
    "name": "ipython",
    "version": 3
   },
   "file_extension": ".py",
   "mimetype": "text/x-python",
   "name": "python",
   "nbconvert_exporter": "python",
   "pygments_lexer": "ipython3",
   "version": "3.11.7"
  }
 },
 "nbformat": 4,
 "nbformat_minor": 2
}
